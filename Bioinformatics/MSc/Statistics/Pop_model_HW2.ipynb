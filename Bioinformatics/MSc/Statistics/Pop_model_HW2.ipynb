{
  "cells": [
    {
      "cell_type": "markdown",
      "metadata": {
        "id": "wVQLPgi7YCt6"
      },
      "source": [
        "# Скачаем данные"
      ]
    },
    {
      "cell_type": "code",
      "execution_count": 15,
      "metadata": {
        "id": "UEfxh-ozX_Tn"
      },
      "outputs": [],
      "source": [
        "import gdown\n",
        "import os\n",
        "import shutil\n",
        "import subprocess"
      ]
    },
    {
      "cell_type": "code",
      "execution_count": 2,
      "metadata": {
        "colab": {
          "base_uri": "https://localhost:8080/"
        },
        "id": "8S3Jz0Q1YAlH",
        "outputId": "b71b3e5a-2408-4954-d413-8f405a88e59e"
      },
      "outputs": [
        {
          "output_type": "execute_result",
          "data": {
            "text/plain": [
              "['/content/pop.models/1240K/pops.1240K.modern.txt',\n",
              " '/content/pop.models/1240K/v54.1.p1_HO_public.ind',\n",
              " '/content/pop.models/1240K/v54.1.p1_HO_public.snp',\n",
              " '/content/pop.models/1240K/v54.1.p1_HO_public(1).tar',\n",
              " '/content/pop.models/chr21.pca.txt',\n",
              " '/content/pop.models/chr22.pca.txt',\n",
              " '/content/pop.models/IBS.YRI.MEX.info.txt',\n",
              " '/content/pop.models/IBS.YRI.MEX.txt',\n",
              " '/content/pop.models/pca.sh',\n",
              " '/content/pop.models/pop_models_l3_problems-5.pdf',\n",
              " '/content/pop.models/pop_models_l4_problems.pdf',\n",
              " '/content/pop.models/pop.model.l3.ipynb']"
            ]
          },
          "metadata": {},
          "execution_count": 2
        }
      ],
      "source": [
        "folder_url = 'https://drive.google.com/drive/folders/1xhnSnmc0HYp0chntMmpcCPPlkTSa7Jo2'\n",
        "gdown.download_folder(folder_url, quiet=True)"
      ]
    },
    {
      "cell_type": "code",
      "execution_count": 3,
      "metadata": {
        "id": "IHZwiDn2YAiI"
      },
      "outputs": [],
      "source": [
        "source_folder = '/content/pop.models'\n",
        "destination_folder = '/content'\n",
        "files = os.listdir(source_folder)\n",
        "\n",
        "for file in files:\n",
        "    source_path = os.path.join(source_folder, file)\n",
        "    destination_path = os.path.join(destination_folder, file)\n",
        "    shutil.move(source_path, destination_path)\n",
        "\n",
        "os.rmdir(source_folder)"
      ]
    },
    {
      "cell_type": "code",
      "execution_count": 4,
      "metadata": {
        "colab": {
          "base_uri": "https://localhost:8080/"
        },
        "id": "pkh6A6eX2NYa",
        "outputId": "8d4e82b0-d9f3-4543-ccb4-71f1e7c0ec67"
      },
      "outputs": [
        {
          "output_type": "stream",
          "name": "stdout",
          "text": [
            "v54.1.p1_HO_public.anno\n",
            "v54.1.p1_HO_public.geno\n",
            "v54.1.p1_HO_public.snp\n",
            "v54.1.p1_HO_public.ind\n"
          ]
        }
      ],
      "source": [
        "!tar -xvf  '/content/1240K/v54.1.p1_HO_public(1).tar' -C '/content/1240K'"
      ]
    },
    {
      "cell_type": "markdown",
      "metadata": {
        "id": "EGEe8h9vX8ou"
      },
      "source": [
        "или так (один раз работало, теперь перестало, если снова заработает то нужно заменить пути с ``1240K/v54.1.p1_HO_public`` на ``1240K/v62.0_HO_public``)"
      ]
    },
    {
      "cell_type": "code",
      "execution_count": 5,
      "metadata": {
        "colab": {
          "base_uri": "https://localhost:8080/"
        },
        "id": "CshDy_nHX-Oq",
        "outputId": "1fe33f38-d01d-427f-80fe-675ece5ce467"
      },
      "outputs": [
        {
          "output_type": "stream",
          "name": "stdout",
          "text": [
            "--2025-02-16 08:01:16--  https://dataverse.harvard.edu/api/access/dataset/:persistentId?persistentId=doi:10.7910/DVN/FFIDCW\n",
            "Resolving dataverse.harvard.edu (dataverse.harvard.edu)... 34.195.108.60, 98.85.20.200, 44.196.85.112\n",
            "Connecting to dataverse.harvard.edu (dataverse.harvard.edu)|34.195.108.60|:443... connected.\n",
            "HTTP request sent, awaiting response... 303 See Other\n",
            "Location: https://rserve.dataverse.harvard.edu/cgi-bin/zipdownload?244-944093b17cbf [following]\n",
            "--2025-02-16 08:01:17--  https://rserve.dataverse.harvard.edu/cgi-bin/zipdownload?244-944093b17cbf\n",
            "Resolving rserve.dataverse.harvard.edu (rserve.dataverse.harvard.edu)... 3.225.139.118, 35.173.67.207, 44.213.154.124\n",
            "Connecting to rserve.dataverse.harvard.edu (rserve.dataverse.harvard.edu)|3.225.139.118|:443... connected.\n",
            "HTTP request sent, awaiting response... 200 OK\n",
            "Length: unspecified [application/zip]\n",
            "Saving to: ‘dataset.zip’\n",
            "\n",
            "dataset.zip             [       <=>          ] 286.91M  5.49MB/s               ^C\n"
          ]
        }
      ],
      "source": [
        "!wget \"https://dataverse.harvard.edu/api/access/dataset/:persistentId?persistentId=doi:10.7910/DVN/FFIDCW\" -O dataset.zip"
      ]
    },
    {
      "cell_type": "code",
      "execution_count": 6,
      "metadata": {
        "colab": {
          "base_uri": "https://localhost:8080/"
        },
        "id": "KM8H4zApd02C",
        "outputId": "c4ef8497-2ec6-4620-f02c-a1e4e9c78aa7"
      },
      "outputs": [
        {
          "output_type": "stream",
          "name": "stdout",
          "text": [
            "Archive:  dataset.zip\n",
            "  End-of-central-directory signature not found.  Either this file is not\n",
            "  a zipfile, or it constitutes one disk of a multi-part archive.  In the\n",
            "  latter case the central directory and zipfile comment will be found on\n",
            "  the last disk(s) of this archive.\n",
            "unzip:  cannot find zipfile directory in one of dataset.zip or\n",
            "        dataset.zip.zip, and cannot find dataset.zip.ZIP, period.\n"
          ]
        }
      ],
      "source": [
        "!unzip dataset.zip -d 1240K"
      ]
    },
    {
      "cell_type": "markdown",
      "metadata": {
        "id": "f7cS8eAa0Nc_"
      },
      "source": [
        "# Задание 1"
      ]
    },
    {
      "cell_type": "markdown",
      "source": [
        "Число укоренненых деревьев [можно получить по формуле](https://github.uconn.edu/pages/jet08013/Talks/talk.pdf) $(2n-3)!!$, воспользовавшись ей, посчитаем сколько у нас деревьев:\n",
        "\n",
        "1. **Гамма функция**\n",
        "\n",
        "   Для нечетных целых $m = 2n - 3$, $m!!$ можно оценить следующим образом\n",
        "   \n",
        "   $$\n",
        "   m!! = 2^{m/2} \\Gamma\\left(\\frac{m}{2} + 1\\right) \\sqrt{\\frac{2}{\\pi}}\n",
        "   $$\n",
        "  \n",
        "\n",
        "2. **Логарифмы**\n",
        "\n",
        "   Применяя $\\log_{10}$ получим:\n",
        "   $$\n",
        "   \\log_{10}(m!!) = \\underbrace{\\frac{m}{2} \\log_{10}(2)}_{\\text{Term 1}} + \\underbrace{\\log_{10}\\left(\\Gamma\\left(\\frac{m}{2} + 1\\right)\\right)}_{\\text{Term 2}} + \\underbrace{\\frac{1}{2} \\left(\\log_{10}(2) - \\log_{10}(\\pi)\\right)}_{\\text{Term 3}}\n",
        "   $$\n",
        "\n",
        "   Где каждое слагаемое можно посчитать отдельно"
      ],
      "metadata": {
        "id": "AwSGEyaOG3TK"
      }
    },
    {
      "cell_type": "code",
      "source": [
        "import math\n",
        "\n",
        "def log_double_factorial(n):\n",
        "    m = 2 * n - 3\n",
        "    if m < 0:\n",
        "        return 0.0\n",
        "\n",
        "    half_m = m / 2.0\n",
        "    gamma_arg = half_m + 1.0\n",
        "\n",
        "    term1 = half_m * math.log10(2.0)\n",
        "    term2 = math.lgamma(gamma_arg) / math.log(10.0)\n",
        "    term3 = 0.5 * (math.log10(2.0) - math.log10(math.pi))\n",
        "\n",
        "    return term1 + term2 + term3"
      ],
      "metadata": {
        "id": "2rz-TKBZFt-c"
      },
      "execution_count": 39,
      "outputs": []
    },
    {
      "cell_type": "code",
      "source": [
        "n = 147\n",
        "log10_num_trees = log_double_factorial(n)\n",
        "print(f\"log10((2*{n}-3)!!) ≈ {log10_num_trees:.4f}\")\n",
        "print(\"Roughly 10^(~{:.0f}) distinct rooted trees\\n\".format(log10_num_trees))"
      ],
      "metadata": {
        "colab": {
          "base_uri": "https://localhost:8080/"
        },
        "id": "iXyRfTgTGFWT",
        "outputId": "ef235c04-1fc0-432c-b082-6024743e8bdb"
      },
      "execution_count": 44,
      "outputs": [
        {
          "output_type": "stream",
          "name": "stdout",
          "text": [
            "log10((2*147-3)!!) ≈ 296.6893\n",
            "Roughly 10^(~297) distinct rooted trees\n",
            "\n"
          ]
        }
      ]
    },
    {
      "cell_type": "markdown",
      "source": [
        "Округляя вверх получим примерно $\\sim 10^{297}$ деревьев"
      ],
      "metadata": {
        "id": "bUbHjBy_HlPh"
      }
    },
    {
      "cell_type": "markdown",
      "metadata": {
        "id": "o6FoMNkX0clj"
      },
      "source": [
        "# Задание 2\n"
      ]
    },
    {
      "cell_type": "markdown",
      "source": [
        "## Admixture\n",
        "установим Admixture"
      ],
      "metadata": {
        "id": "TxJk9qn3IDJr"
      }
    },
    {
      "cell_type": "code",
      "execution_count": 9,
      "metadata": {
        "colab": {
          "base_uri": "https://localhost:8080/"
        },
        "id": "pJP4HIsW0okI",
        "outputId": "0f4ab129-cba1-40d5-f211-a029606361ab"
      },
      "outputs": [
        {
          "output_type": "stream",
          "name": "stdout",
          "text": [
            "W: Skipping acquire of configured file 'main/source/Sources' as repository 'https://r2u.stat.illinois.edu/ubuntu jammy InRelease' does not seem to provide it (sources.list entry misspelt?)\n",
            "Selecting previously unselected package libgslcblas0:amd64.\n",
            "(Reading database ... 124926 files and directories currently installed.)\n",
            "Preparing to unpack .../libgslcblas0_2.7.1+dfsg-3_amd64.deb ...\n",
            "Unpacking libgslcblas0:amd64 (2.7.1+dfsg-3) ...\n",
            "Selecting previously unselected package libgsl27:amd64.\n",
            "Preparing to unpack .../libgsl27_2.7.1+dfsg-3_amd64.deb ...\n",
            "Unpacking libgsl27:amd64 (2.7.1+dfsg-3) ...\n",
            "Selecting previously unselected package libgsl-dev.\n",
            "Preparing to unpack .../libgsl-dev_2.7.1+dfsg-3_amd64.deb ...\n",
            "Unpacking libgsl-dev (2.7.1+dfsg-3) ...\n",
            "Setting up libgslcblas0:amd64 (2.7.1+dfsg-3) ...\n",
            "Setting up libgsl27:amd64 (2.7.1+dfsg-3) ...\n",
            "Setting up libgsl-dev (2.7.1+dfsg-3) ...\n",
            "Processing triggers for man-db (2.10.2-1) ...\n",
            "Processing triggers for libc-bin (2.35-0ubuntu3.8) ...\n",
            "/sbin/ldconfig.real: /usr/local/lib/libur_adapter_level_zero.so.0 is not a symbolic link\n",
            "\n",
            "/sbin/ldconfig.real: /usr/local/lib/libtcm.so.1 is not a symbolic link\n",
            "\n",
            "/sbin/ldconfig.real: /usr/local/lib/libumf.so.0 is not a symbolic link\n",
            "\n",
            "/sbin/ldconfig.real: /usr/local/lib/libtcm_debug.so.1 is not a symbolic link\n",
            "\n",
            "/sbin/ldconfig.real: /usr/local/lib/libtbbbind_2_0.so.3 is not a symbolic link\n",
            "\n",
            "/sbin/ldconfig.real: /usr/local/lib/libtbb.so.12 is not a symbolic link\n",
            "\n",
            "/sbin/ldconfig.real: /usr/local/lib/libtbbbind.so.3 is not a symbolic link\n",
            "\n",
            "/sbin/ldconfig.real: /usr/local/lib/libur_loader.so.0 is not a symbolic link\n",
            "\n",
            "/sbin/ldconfig.real: /usr/local/lib/libur_adapter_opencl.so.0 is not a symbolic link\n",
            "\n",
            "/sbin/ldconfig.real: /usr/local/lib/libtbbbind_2_5.so.3 is not a symbolic link\n",
            "\n",
            "/sbin/ldconfig.real: /usr/local/lib/libtbbmalloc_proxy.so.2 is not a symbolic link\n",
            "\n",
            "/sbin/ldconfig.real: /usr/local/lib/libtbbmalloc.so.2 is not a symbolic link\n",
            "\n",
            "/sbin/ldconfig.real: /usr/local/lib/libhwloc.so.15 is not a symbolic link\n",
            "\n",
            "Cloning into 'AdmixTools'...\n",
            "remote: Enumerating objects: 1368, done.\u001b[K\n",
            "remote: Counting objects: 100% (271/271), done.\u001b[K\n",
            "remote: Compressing objects: 100% (189/189), done.\u001b[K\n",
            "remote: Total 1368 (delta 105), reused 217 (delta 71), pack-reused 1097 (from 1)\u001b[K\n",
            "Receiving objects: 100% (1368/1368), 122.24 MiB | 20.41 MiB/s, done.\n",
            "Resolving deltas: 100% (673/673), done.\n",
            "/content/AdmixTools/src\n",
            "make -C nicksrc\n",
            "make[1]: Entering directory '/content/AdmixTools/src/nicksrc'\n",
            "cc -c -g -p -Wimplicit -fno-common -I./   -c -o strsubs.o strsubs.c\n",
            "cc -c -g -p -Wimplicit -fno-common -I./   -c -o sortit.o sortit.c\n",
            "cc -c -g -p -Wimplicit -fno-common -I./   -c -o vsubs.o vsubs.c\n",
            "cc -c -g -p -Wimplicit -fno-common -I./   -c -o statsubs.o statsubs.c\n",
            "cc -c -g -p -Wimplicit -fno-common -I./   -c -o linsubs.o linsubs.c\n",
            "cc -c -g -p -Wimplicit -fno-common -I./   -c -o getpars.o getpars.c\n",
            "cc -c -g -p -Wimplicit -fno-common -I./   -c -o xsearch.o xsearch.c\n",
            "cc -c -g -p -Wimplicit -fno-common -I./   -c -o gauss.o gauss.c\n",
            "cc -c -g -p -Wimplicit -fno-common -I./   -c -o gds.o gds.c\n",
            "ar -r libnick.a strsubs.o sortit.o vsubs.o statsubs.o linsubs.o getpars.o xsearch.o gauss.o gds.o\n",
            "ar: creating libnick.a\n",
            "ranlib libnick.a\n",
            "make[1]: Leaving directory '/content/AdmixTools/src/nicksrc'\n",
            "cc -c -g -p -pg -Wimplicit -I./ -I./nicksrc -fno-common   -c -o qp3Pop.o qp3Pop.c\n",
            "cc -c -g -p -pg -Wimplicit -I./ -I./nicksrc -fno-common   -c -o qpsubs.o qpsubs.c\n",
            "cc -c -g -p -pg -Wimplicit -I./ -I./nicksrc -fno-common   -c -o mcio.o mcio.c\n",
            "cc -c -g -p -pg -Wimplicit -I./ -I./nicksrc -fno-common   -c -o mapfile.o mapfile.c\n",
            "cc -c -g -p -pg -Wimplicit -I./ -I./nicksrc -fno-common   -c -o ldsubs.o ldsubs.c\n",
            "cc -c -g -p -pg -Wimplicit -I./ -I./nicksrc -fno-common   -c -o admutils.o admutils.c\n",
            "cc -c -g -p -pg -Wimplicit -I./ -I./nicksrc -fno-common   -c -o egsubs.o egsubs.c\n",
            "cc -c -g -p -pg -Wimplicit -I./ -I./nicksrc -fno-common   -c -o regsubs.o regsubs.c\n",
            "cc -c -g -p -pg -Wimplicit -I./ -I./nicksrc -fno-common   -c -o geno.o geno.c\n",
            "cc -g  -p -pg -L./nicksrc  qp3Pop.o nicksrc/libnick.a qpsubs.o mcio.o mapfile.o ldsubs.o admutils.o egsubs.o regsubs.o geno.o  -lgsl -lopenblas -lm -lnick -o qp3Pop\n",
            "cc -c -g -p -pg -Wimplicit -I./ -I./nicksrc -fno-common   -c -o qpDstat.o qpDstat.c\n",
            "cc -g  -p -pg -L./nicksrc  qpDstat.o nicksrc/libnick.a qpsubs.o mcio.o mapfile.o ldsubs.o admutils.o egsubs.o regsubs.o geno.o  -lgsl -lopenblas -lm -lnick -o qpDstat\n",
            "cc -c -g -p -pg -Wimplicit -I./ -I./nicksrc -fno-common   -c -o qpF4ratio.o qpF4ratio.c\n",
            "cc -g  -p -pg -L./nicksrc  qpF4ratio.o nicksrc/libnick.a qpsubs.o mcio.o mapfile.o ldsubs.o admutils.o egsubs.o regsubs.o geno.o  -lgsl -lopenblas -lm -lnick -o qpF4ratio\n",
            "cc -c -g -p -pg -Wimplicit -I./ -I./nicksrc -fno-common   -c -o qpAdm.o qpAdm.c\n",
            "\u001b[01m\u001b[KqpAdm.c:\u001b[m\u001b[K In function ‘\u001b[01m\u001b[Kmkfstats\u001b[m\u001b[K’:\n",
            "\u001b[01m\u001b[KqpAdm.c:2131:33:\u001b[m\u001b[K \u001b[01;35m\u001b[Kwarning: \u001b[m\u001b[K‘\u001b[01m\u001b[K%s\u001b[m\u001b[K’ directive writing up to 255 bytes into a region of size between 242 and 497 [\u001b[01;35m\u001b[K\u001b]8;;https://gcc.gnu.org/onlinedocs/gcc/Warning-Options.html#index-Wformat-overflow=\u0007-Wformat-overflow=\u001b]8;;\u0007\u001b[m\u001b[K]\n",
            " 2131 |  sprintf(sss, \"qpfstats -p %s > \u001b[01;35m\u001b[K%s\u001b[m\u001b[K\", ppp, \u001b[32m\u001b[Kfslog\u001b[m\u001b[K) ;\n",
            "      |                                 \u001b[01;35m\u001b[K^~\u001b[m\u001b[K        \u001b[32m\u001b[K~~~~~\u001b[m\u001b[K\n",
            "\u001b[01m\u001b[KqpAdm.c:2131:2:\u001b[m\u001b[K \u001b[01;36m\u001b[Knote: \u001b[m\u001b[K‘\u001b[01m\u001b[Ksprintf\u001b[m\u001b[K’ output between 16 and 526 bytes into a destination of size 512\n",
            " 2131 |  \u001b[01;36m\u001b[Ksprintf(sss, \"qpfstats -p %s > %s\", ppp, fslog)\u001b[m\u001b[K ;\n",
            "      |  \u001b[01;36m\u001b[K^~~~~~~~~~~~~~~~~~~~~~~~~~~~~~~~~~~~~~~~~~~~~~~\u001b[m\u001b[K\n",
            "cc -c -g -p -pg -Wimplicit -I./ -I./nicksrc -fno-common   -c -o f4rank.o f4rank.c\n",
            "cc -c -g -p -pg -Wimplicit -I./ -I./nicksrc -fno-common   -c -o eigsubs.o eigsubs.c\n",
            "cc -c -g -p -pg -Wimplicit -I./ -I./nicksrc -fno-common   -c -o eigx.o eigx.c\n",
            "cc -g  -p -pg -L./nicksrc  qpAdm.o nicksrc/libnick.a qpsubs.o mcio.o ldsubs.o mapfile.o admutils.o egsubs.o regsubs.o f4rank.o eigsubs.o eigx.o geno.o  -lgsl -lopenblas -lm -lnick -o qpAdm\n",
            "cc -c -g -p -pg -Wimplicit -I./ -I./nicksrc -fno-common   -c -o qpWave.o qpWave.c\n",
            "\u001b[01m\u001b[KqpWave.c:\u001b[m\u001b[K In function ‘\u001b[01m\u001b[Kmkfstats\u001b[m\u001b[K’:\n",
            "\u001b[01m\u001b[KqpWave.c:890:33:\u001b[m\u001b[K \u001b[01;35m\u001b[Kwarning: \u001b[m\u001b[K‘\u001b[01m\u001b[K%s\u001b[m\u001b[K’ directive writing up to 255 bytes into a region of size between 242 and 497 [\u001b[01;35m\u001b[K\u001b]8;;https://gcc.gnu.org/onlinedocs/gcc/Warning-Options.html#index-Wformat-overflow=\u0007-Wformat-overflow=\u001b]8;;\u0007\u001b[m\u001b[K]\n",
            "  890 |  sprintf(sss, \"qpfstats -p %s > \u001b[01;35m\u001b[K%s\u001b[m\u001b[K\", ppp, \u001b[32m\u001b[Kfslog\u001b[m\u001b[K) ;\n",
            "      |                                 \u001b[01;35m\u001b[K^~\u001b[m\u001b[K        \u001b[32m\u001b[K~~~~~\u001b[m\u001b[K\n",
            "\u001b[01m\u001b[KqpWave.c:890:2:\u001b[m\u001b[K \u001b[01;36m\u001b[Knote: \u001b[m\u001b[K‘\u001b[01m\u001b[Ksprintf\u001b[m\u001b[K’ output between 16 and 526 bytes into a destination of size 512\n",
            "  890 |  \u001b[01;36m\u001b[Ksprintf(sss, \"qpfstats -p %s > %s\", ppp, fslog)\u001b[m\u001b[K ;\n",
            "      |  \u001b[01;36m\u001b[K^~~~~~~~~~~~~~~~~~~~~~~~~~~~~~~~~~~~~~~~~~~~~~~\u001b[m\u001b[K\n",
            "cc -g  -p -pg -L./nicksrc  qpWave.o nicksrc/libnick.a qpsubs.o mcio.o mapfile.o ldsubs.o admutils.o egsubs.o regsubs.o f4rank.o eigsubs.o eigx.o geno.o  -lgsl -lopenblas -lm -lnick -o qpWave\n",
            "cc -c -g -p -pg -Wimplicit -I./ -I./nicksrc -fno-common   -c -o qp4diff.o qp4diff.c\n",
            "cc -g  -p -pg -L./nicksrc  qp4diff.o nicksrc/libnick.a qpsubs.o mcio.o mapfile.o ldsubs.o admutils.o egsubs.o regsubs.o geno.o  -lgsl -lopenblas -lm -lnick -o qp4diff\n",
            "cc -c -g -p -pg -Wimplicit -I./ -I./nicksrc -fno-common   -c -o dowtjack.o dowtjack.c\n",
            "cc -g  -p -pg -L./nicksrc  dowtjack.o nicksrc/libnick.a  -lgsl -lopenblas -lm -lnick -o dowtjack\n",
            "cc -c -g -p -pg -Wimplicit -I./ -I./nicksrc -fno-common   -c -o qpBound.o qpBound.c\n",
            "cc -g  -p -pg -L./nicksrc  qpBound.o nicksrc/libnick.a qpsubs.o mcio.o mapfile.o ldsubs.o admutils.o egsubs.o regsubs.o geno.o  -lgsl -lopenblas -lm -lnick -o qpBound\n",
            "cc -c -g -p -pg -Wimplicit -I./ -I./nicksrc -fno-common   -c -o qpGraph.o qpGraph.c\n",
            "\u001b[01m\u001b[KqpGraph.c:\u001b[m\u001b[K In function ‘\u001b[01m\u001b[Kprintfit\u001b[m\u001b[K’:\n",
            "\u001b[01m\u001b[KqpGraph.c:1552:21:\u001b[m\u001b[K \u001b[01;35m\u001b[Kwarning: \u001b[m\u001b[K‘\u001b[01m\u001b[K%s\u001b[m\u001b[K’ directive writing up to 1023 bytes into a region of size 1021 [\u001b[01;35m\u001b[K\u001b]8;;https://gcc.gnu.org/onlinedocs/gcc/Warning-Options.html#index-Wformat-overflow=\u0007-Wformat-overflow=\u001b]8;;\u0007\u001b[m\u001b[K]\n",
            " 1552 |   sprintf(ss, \"%s ::\u001b[01;35m\u001b[K%s\u001b[m\u001b[K\\n\", graphname, \u001b[32m\u001b[Kssworst\u001b[m\u001b[K) ;\n",
            "      |                     \u001b[01;35m\u001b[K^~\u001b[m\u001b[K                \u001b[32m\u001b[K~~~~~~~\u001b[m\u001b[K\n",
            "\u001b[01m\u001b[KqpGraph.c:1552:3:\u001b[m\u001b[K \u001b[01;36m\u001b[Knote: \u001b[m\u001b[K‘\u001b[01m\u001b[Ksprintf\u001b[m\u001b[K’ output 5 or more bytes (assuming 1028) into a destination of size 1024\n",
            " 1552 |   \u001b[01;36m\u001b[Ksprintf(ss, \"%s ::%s\\n\", graphname, ssworst)\u001b[m\u001b[K ;\n",
            "      |   \u001b[01;36m\u001b[K^~~~~~~~~~~~~~~~~~~~~~~~~~~~~~~~~~~~~~~~~~~~\u001b[m\u001b[K\n",
            "cc -c -g -p -pg -Wimplicit -I./ -I./nicksrc -fno-common   -c -o gslqp.o gslqp.c\n",
            "cc -c -g -p -pg -Wimplicit -I./ -I./nicksrc -fno-common   -c -o qpgsubs.o qpgsubs.c\n",
            "cc -g  -p -pg -L./nicksrc  qpGraph.o nicksrc/libnick.a gslqp.o qpgsubs.o qpsubs.o mcio.o mapfile.o ldsubs.o admutils.o egsubs.o regsubs.o geno.o  -lgsl -lopenblas -lm -lnick -o qpGraph\n",
            "cc -c -g -p -pg -Wimplicit -I./ -I./nicksrc -fno-common   -c -o qpreroot.o qpreroot.c\n",
            "cc -g  -p -pg -L./nicksrc  qpreroot.o qpgsubs.o qpsubs.o mcio.o mapfile.o ldsubs.o admutils.o egsubs.o regsubs.o geno.o  -lgsl -lopenblas -lm -lnick -o qpreroot\n",
            "cc -c -g -p -pg -Wimplicit -I./ -I./nicksrc -fno-common   -c -o qpff3base.o qpff3base.c\n",
            "cc -g  -p -pg -L./nicksrc  qpff3base.o nicksrc/libnick.a qpgsubs.o mapfile.o qpsubs.o mcio.o admutils.o egsubs.o regsubs.o ldsubs.o geno.o  -lgsl -lopenblas -lm -lnick -o qpff3base\n",
            "cc -c -g -p -pg -Wimplicit -I./ -I./nicksrc -fno-common   -c -o qpDpart.o qpDpart.c\n",
            "cc -g  -p -pg -L./nicksrc  qpDpart.o nicksrc/libnick.a qpsubs.o mcio.o mapfile.o ldsubs.o admutils.o egsubs.o regsubs.o geno.o  -lgsl -lopenblas -lm -lnick -o qpDpart\n",
            "cc -c -g -p -pg -Wimplicit -I./ -I./nicksrc -fno-common   -c -o qpfstats.o qpfstats.c\n",
            "cc -g  -p -pg -L./nicksrc  qpfstats.o nicksrc/libnick.a qpgsubs.o mapfile.o qpsubs.o mcio.o admutils.o egsubs.o regsubs.o ldsubs.o geno.o  -lgsl -lopenblas -lm -lnick -o qpfstats\n",
            "cc -c -g -p -pg -Wimplicit -I./ -I./nicksrc -fno-common   -c -o qpfmv.o qpfmv.c\n",
            "cc -g  -p -pg -L./nicksrc  qpfmv.o nicksrc/libnick.a qpsubs.o mcio.o mapfile.o ldsubs.o admutils.o egsubs.o regsubs.o eigsubs.o eigx.o geno.o  -lgsl -lopenblas -lm -lnick -o qpfmv\n",
            "cc -c -g -p -pg -Wimplicit -I./ -I./nicksrc -fno-common   -c -o qpmix.o qpmix.c\n",
            "\u001b[01m\u001b[Kqpmix.c:\u001b[m\u001b[K In function ‘\u001b[01m\u001b[Kmkfstats\u001b[m\u001b[K’:\n",
            "\u001b[01m\u001b[Kqpmix.c:1372:33:\u001b[m\u001b[K \u001b[01;35m\u001b[Kwarning: \u001b[m\u001b[K‘\u001b[01m\u001b[K%s\u001b[m\u001b[K’ directive writing up to 255 bytes into a region of size between 242 and 497 [\u001b[01;35m\u001b[K\u001b]8;;https://gcc.gnu.org/onlinedocs/gcc/Warning-Options.html#index-Wformat-overflow=\u0007-Wformat-overflow=\u001b]8;;\u0007\u001b[m\u001b[K]\n",
            " 1372 |  sprintf(sss, \"qpfstats -p %s > \u001b[01;35m\u001b[K%s\u001b[m\u001b[K\", ppp, \u001b[32m\u001b[Kfslog\u001b[m\u001b[K) ;\n",
            "      |                                 \u001b[01;35m\u001b[K^~\u001b[m\u001b[K        \u001b[32m\u001b[K~~~~~\u001b[m\u001b[K\n",
            "\u001b[01m\u001b[Kqpmix.c:1372:2:\u001b[m\u001b[K \u001b[01;36m\u001b[Knote: \u001b[m\u001b[K‘\u001b[01m\u001b[Ksprintf\u001b[m\u001b[K’ output between 16 and 526 bytes into a destination of size 512\n",
            " 1372 |  \u001b[01;36m\u001b[Ksprintf(sss, \"qpfstats -p %s > %s\", ppp, fslog)\u001b[m\u001b[K ;\n",
            "      |  \u001b[01;36m\u001b[K^~~~~~~~~~~~~~~~~~~~~~~~~~~~~~~~~~~~~~~~~~~~~~~\u001b[m\u001b[K\n",
            "cc -c -g -p -pg -Wimplicit -I./ -I./nicksrc -fno-common   -c -o qpfitr1.o qpfitr1.c\n",
            "cc -c -g -p -pg -Wimplicit -I./ -I./nicksrc -fno-common   -c -o gslrank1.o gslrank1.c\n",
            "cc -g  -p -pg -L./nicksrc  qpmix.o nicksrc/libnick.a qpsubs.o mcio.o mapfile.o ldsubs.o admutils.o egsubs.o eigsubs.o eigx.o regsubs.o qpfitr1.o gslrank1.o geno.o  -lgsl -lopenblas -lm -lnick -o qpmix\n",
            "cc -c -g -p -pg -Wimplicit -I./ -I./nicksrc -fno-common   -c -o convertf.o convertf.c\n",
            "cc -c -g -p -pg -Wimplicit -I./ -I./nicksrc -fno-common   -c -o h2d.o h2d.c\n",
            "cc -c -g -p -pg -Wimplicit -I./ -I./nicksrc -fno-common   -c -o exclude.o exclude.c\n",
            "cc -g  -p -pg -L./nicksrc  convertf.o nicksrc/libnick.a mcio.o mapfile.o admutils.o egsubs.o h2d.o exclude.o geno.o  -lgsl -lopenblas -lm -lnick -o convertf\n",
            "cc -c -g -p -pg -Wimplicit -I./ -I./nicksrc -fno-common   -c -o mergeit.o mergeit.c\n",
            "cc -g  -p -pg -L./nicksrc  mergeit.o nicksrc/libnick.a mcio.o mapfile.o admutils.o egsubs.o h2d.o exclude.o geno.o  -lgsl -lopenblas -lm -lnick -o mergeit\n",
            "cc -c -g -p -pg -Wimplicit -I./ -I./nicksrc -fno-common   -c -o snpunion.o snpunion.c\n",
            "cc -g  -p -pg -L./nicksrc  snpunion.o nicksrc/libnick.a mcio.o mapfile.o admutils.o egsubs.o h2d.o exclude.o geno.o  -lgsl -lopenblas -lm -lnick -o snpunion\n",
            "cc -c -g -p -pg -Wimplicit -I./ -I./nicksrc -fno-common   -c -o simpjack2.o simpjack2.c\n",
            "cc -g  -p -pg -L./nicksrc  simpjack2.o nicksrc/libnick.a  -lgsl -lopenblas -lm -lnick -o simpjack2\n",
            "cc -c -g -p -pg -Wimplicit -I./ -I./nicksrc -fno-common   -c -o grabpars.o grabpars.c\n",
            "cc -g  -p -pg -L./nicksrc  grabpars.o nicksrc/libnick.a  -lgsl -lopenblas -lm -lnick -o grabpars\n",
            "cc -c -g -p -pg -Wimplicit -I./ -I./nicksrc -fno-common   -c -o easystats.o easystats.c\n",
            "cc -g  -p -pg -L./nicksrc  easystats.o nicksrc/libnick.a qpsubs.o mcio.o mapfile.o ldsubs.o admutils.o egsubs.o regsubs.o geno.o  -lgsl -lopenblas -lm -lnick -o easystats\n",
            "cc -c -g -p -pg -Wimplicit -I./ -I./nicksrc -fno-common   -c -o easycheck.o easycheck.c\n",
            "cc -g  -p -pg -L./nicksrc  easycheck.o nicksrc/libnick.a qpsubs.o mcio.o mapfile.o ldsubs.o admutils.o egsubs.o regsubs.o geno.o  -lgsl -lopenblas -lm -lnick -o easycheck\n",
            "cc -c -g -p -pg -Wimplicit -I./ -I./nicksrc -fno-common   -c -o easylite.o easylite.c\n",
            "cc -g  -p -pg -L./nicksrc  easylite.o nicksrc/libnick.a qpsubs.o mcio.o mapfile.o ldsubs.o admutils.o egsubs.o regsubs.o geno.o  -lgsl -lopenblas -lm -lnick -o easylite\n",
            "cc -c -g -p -pg -Wimplicit -I./ -I./nicksrc -fno-common   -c -o multimerge.o multimerge.c\n",
            "cc -g  -p -pg -L./nicksrc  multimerge.o mcio.o admutils.o egsubs.o geno.o nicksrc/libnick.a  -lgsl -lopenblas -lm -lnick -o multimerge\n",
            "cc -c -g -p -pg -Wimplicit -I./ -I./nicksrc -fno-common   -c -o geno_single.o geno_single.c\n",
            "cc -g  -p -pg -L./nicksrc  geno_single.o geno.o  -lgsl -lopenblas -lm -lnick -o geno_single\n",
            "cc -c -g -p -pg -Wimplicit -I./ -I./nicksrc -fno-common   -c -o transpose.o transpose.c\n",
            "cc -g  -p -pg -L./nicksrc  transpose.o geno.o  -lgsl -lopenblas -lm -lnick -o transpose\n",
            "cc -c -g -p -pg -Wimplicit -I./ -I./nicksrc -fno-common   -c -o merge_transpose.o merge_transpose.c\n",
            "cc -g  -p -pg -L./nicksrc  merge_transpose.o geno.o  -lgsl -lopenblas -lm -lnick -o merge_transpose\n",
            "cc -c -g -p -pg -Wimplicit -I./ -I./nicksrc -fno-common   -c -o nickhash.o nickhash.c\n",
            "cc -g  -p -pg -L./nicksrc  nickhash.o admutils.o nicksrc/libnick.a  -lgsl -lopenblas -lm -lnick -o nickhash\n",
            "/content\n"
          ]
        }
      ],
      "source": [
        "!apt-get update -qq\n",
        "!apt-get install -qq -y libopenblas-dev libgsl-dev\n",
        "!git clone https://github.com/DReichLab/AdmixTools.git\n",
        "%cd AdmixTools/src\n",
        "!make\n",
        "%cd ../.."
      ]
    },
    {
      "cell_type": "markdown",
      "metadata": {
        "id": "I4bV28OA0vI-"
      },
      "source": [
        "## Настройка и запуск qp3Pop\n",
        "\n",
        "Программа qp3Pop из AdmixTools вычисляет f3-статистику в виде:\n",
        "$$\n",
        "f_3(\\mbox{Outgroup}; \\mbox{Pop1, Pop2})\n",
        "$$\n",
        "\n",
        "Например, чтобы проверить, кто «ближе» к Russia.HO в популяционном смысле, мы вычисляем:\n",
        "\n",
        "$$\n",
        "f_3(\\mbox{Mbuti.HO}; \\mbox{Russia.HO, Pop})\n",
        "$$\n",
        "\n",
        "для ряда выбранных современных неафриканских популяций (например, French.HO, Finnish.HO, Nganasan.HO, Lezgin.HO, Han.HO).\n",
        "\n",
        "Файл параметров, который нужен qp3Pop, должен включать пути к файлам 1240K, а также «файл популяций», в котором перечислены три популяции (по одной на строку)."
      ]
    },
    {
      "cell_type": "code",
      "source": [
        "!cat /content/AdmixTools/README.3PopTest"
      ],
      "metadata": {
        "colab": {
          "base_uri": "https://localhost:8080/"
        },
        "id": "xuAYmcyiGFpR",
        "outputId": "1a69fd8f-733c-42ee-bf51-4f8960be739a"
      },
      "execution_count": 10,
      "outputs": [
        {
          "output_type": "stream",
          "name": "stdout",
          "text": [
            "DOCUMENTATION OF 3-Population Test (qp3Pop):\n",
            "\n",
            "The 3-population test, is a formal test of admixture and can provide clear evidence of \n",
            "admixture, even if the gene ﬂow events occurred hundreds of generations ago. If we want to test if C has ancestry from populations related to A and B then we can perform the test f3(C; A, B). \n",
            "If C is unadmixed, then f3 (C ; A, B) has non-negative mean. If f3 (C ; A, B) has negative mean, in contrast, this implies that C is admixed with popu- \n",
            "lations close to A and B (check the significance of the f3 mean and Z-score). \n",
            "\n",
            "qp3Pop requires that the input data is available in EIGENSTRAT format.  To convert to the appropriate format, one can use CONVERTF program. See README.CONVERTF for documentation of programs for converting file formats.\n",
            "\n",
            "Executable and source code:\n",
            "------------------------------------------------------------------------------\n",
            " \n",
            "For information about installing the program, see README.ADMIXTOOLS. After installing the programs, the executable for 3 pop test (qp3Pop) should be located in the bin directory.\n",
            "\n",
            "To run qp3Pop, type the following on a linux machine. \n",
            "$DIR/bin/qp3Pop -p parfile >logfile\n",
            "\n",
            "$DIR: Path to the bin directory.\n",
            "logfile: Name of the logfile. The logfile contains the output of the run. \n",
            "parfile: Name of parameter file\n",
            "\n",
            "DESCRIPTION OF EACH PARAMETER in parfile:\n",
            "\n",
            "genotypename:   input genotype file (in eigenstrat format)\n",
            "snpname:   input snp file      (in eigenstrat format)\n",
            "indivname:   input indiv file    (in eigenstrat format)\n",
            "popfilename:  list_qp3test (contains 3 populations on each line <Source1 (A)> <Source2 (B)> < Target (C)>\n",
            "\n",
            "## optional; but important parameter \n",
            "inbreed: YES  \n",
            "## Use if target pop is inbred OR (and crucially) if target is pseudo-diploid\n",
            "\n",
            "*** NEW *** \n",
            "By default f_3 output is normalized by estimatated heterozygosity \n",
            "of the target.   This doesn't work if the target has no hets as can \n",
            "happen in \"outgroup f_3\" mode.  In this case set:\n",
            "outgroupmode: YES\n",
            "when the f-3 denominator is set to an arbitrary .001\n",
            "\n",
            "\n",
            "\n",
            "\n",
            "DESCRIPTION OF OUTPUT FILE:\n",
            "The program will write all the output to stdout. The output file prints the parfile entered by the user, the number of populations included in the popfilename (nplist), the number of blocks for block jackknife, the number of snps included in the run and the results.\n",
            "\n",
            "The results have the following format - \n",
            "result:   Source1  Source2   Target f_3  std.err Z SNPs  \n",
            "\n",
            "The result for each set of 3 population is shown on a separate line.\n",
            "\n",
            "See example shown in-\n",
            "examples/qp3Pop.log\n",
            "\n",
            "\n",
            "-------------------------------------------------------------------------------\n",
            "Follow on:  qpBound  \n",
            " Computes lower and upper bounds for mixing coeff (source 1) as in \"Ancient admixture in human history\" \n",
            "parfile as above EXCEPT \n",
            "popfilename should contain lines with triple of populations f_3 and Z.    \n",
            "and \n",
            "outpop:  outgroup_pop which MUST be present.  \n",
            "\n",
            "See examples shown in-\n",
            "examples/qpBound.log\n",
            "\n",
            "\n",
            "Nick Patterson\n",
            "<nickp@broadinstitute.org>\n",
            "------------------------------------------------------------------------------\n"
          ]
        }
      ]
    },
    {
      "cell_type": "code",
      "execution_count": 11,
      "metadata": {
        "id": "b2ZxMjl70ogt"
      },
      "outputs": [],
      "source": [
        "def run_qp3pop(populations, parfile=\"parfile\"):\n",
        "    \"\"\"\n",
        "      result_dict keys:\n",
        "         \"f3\"     : f3 value (float)\n",
        "         \"std_err\": standard error (float)\n",
        "         \"Z\"      : Z-score (float)\n",
        "         \"SNPs\"   : number of SNPs (int)\n",
        "      full_output - raw output\n",
        "    \"\"\"\n",
        "    # .HO suffix\n",
        "    populations = [pop if pop.endswith(\".HO\") else pop + \".HO\" for pop in populations]\n",
        "\n",
        "    qp3pop_executable = \"/content/AdmixTools/src/qp3Pop\"\n",
        "\n",
        "    pop_filename = \"pop_list.txt\"\n",
        "    with open(pop_filename, \"w\") as f:\n",
        "        f.write(\" \".join(populations) + \"\\n\")\n",
        "\n",
        "    # Parameter file\n",
        "    with open(parfile, \"w\") as f:\n",
        "        f.write(\"genotypename: /content/1240K/v54.1.p1_HO_public.geno\\n\")\n",
        "        f.write(\"snpname: /content/1240K/v54.1.p1_HO_public.snp\\n\")\n",
        "        f.write(\"indivname: /content/1240K/v54.1.p1_HO_public.ind\\n\")\n",
        "        f.write(\"popfilename: \" + pop_filename + \"\\n\")\n",
        "\n",
        "    # qp3Pop\n",
        "    proc = subprocess.run([qp3pop_executable, \"-p\", parfile],\n",
        "                          capture_output=True,\n",
        "                          text=True,\n",
        "                          check=True)\n",
        "\n",
        "    output = proc.stdout\n",
        "    result = {}\n",
        "\n",
        "    for line in output.splitlines():\n",
        "        if line.lstrip().startswith(\"result:\"):\n",
        "            tokens = line.split()\n",
        "            if len(tokens) >= 8:\n",
        "                result[\"f3\"] = float(tokens[4])\n",
        "                result[\"std_err\"] = float(tokens[5])\n",
        "                result[\"Z\"] = float(tokens[6])\n",
        "                result[\"SNPs\"] = int(tokens[7])\n",
        "            break\n",
        "\n",
        "    return result, output"
      ]
    },
    {
      "cell_type": "markdown",
      "metadata": {
        "id": "d5xDPAKr1Nne"
      },
      "source": [
        "## Кто ближе к Russia.HO\n",
        "\n",
        "Рассчитаем $f3(\\text{Mbuti.HO}; \\text{Russia.HO}, X)$ для нескольких современных неафриканских популяций.\n",
        "\n",
        "- French.HO\n",
        "- Finnish.HO\n",
        "- Nganasan.HO\n",
        "- Lezgin.HO\n",
        "- Han.HO"
      ]
    },
    {
      "cell_type": "code",
      "execution_count": null,
      "metadata": {
        "id": "W5ch-8pk0ob6"
      },
      "outputs": [],
      "source": [
        "pop_test_list = [\"French\", \"Finnish\", \"Nganasan\", \"Lezgin\", \"Han\"]\n",
        "f3_results = {}"
      ]
    },
    {
      "cell_type": "code",
      "execution_count": null,
      "metadata": {
        "colab": {
          "base_uri": "https://localhost:8080/"
        },
        "id": "jBceWNFx1TFx",
        "outputId": "30cb5690-36bd-4bde-ea53-a75d022b6b33"
      },
      "outputs": [
        {
          "output_type": "stream",
          "name": "stdout",
          "text": [
            "Running qp3Pop tests for f3(Mbuti.HO; Russian.HO, X.HO):\n",
            "\n",
            "Results for f3(Mbuti.HO; Russian.HO, French.HO):\n",
            "  f3     = 0.001316\n",
            "  std_err= 0.000212\n",
            "  Z      = 6.201\n",
            "  SNPs   = 510450\n",
            "Results for f3(Mbuti.HO; Russian.HO, Finnish.HO):\n",
            "  f3     = 0.003816\n",
            "  std_err= 0.000495\n",
            "  Z      = 7.713\n",
            "  SNPs   = 505942\n",
            "Results for f3(Mbuti.HO; Russian.HO, Nganasan.HO):\n",
            "  f3     = 0.114015\n",
            "  std_err= 0.001388\n",
            "  Z      = 82.126\n",
            "  SNPs   = 508714\n",
            "Results for f3(Mbuti.HO; Russian.HO, Lezgin.HO):\n",
            "  f3     = 0.002291\n",
            "  std_err= 0.000468\n",
            "  Z      = 4.899\n",
            "  SNPs   = 506823\n",
            "Results for f3(Mbuti.HO; Russian.HO, Han.HO):\n",
            "  f3     = 0.076833\n",
            "  std_err= 0.001110\n",
            "  Z      = 69.219\n",
            "  SNPs   = 514296\n"
          ]
        }
      ],
      "source": [
        "for pop in pop_test_list:\n",
        "    pops = [\"Mbuti\", \"Russian\", pop]\n",
        "    result, full_output = run_qp3pop(pops)\n",
        "    print(\"f3(Mbuti.HO; Russian.HO, {}.HO):\".format(pop))\n",
        "    print(\"  f3     = {:.6f}\".format(result[\"f3\"]))\n",
        "    print(\"  std_err= {:.6f}\".format(result[\"std_err\"]))\n",
        "    print(\"  Z      = {:.3f}\".format(result[\"Z\"]))\n",
        "    print(\"  SNPs   = {}\".format(result[\"SNPs\"]))\n",
        "    f3_results[pop] = result"
      ]
    },
    {
      "cell_type": "markdown",
      "source": [
        "Положительные значение указывают на отсутствие перемешиваний, высокое значение Z статистики указывает на значимый рузльтат (например для ``Nganasan`` и ``Han``, для них же наблюдаются и самые высокие значения f3)"
      ],
      "metadata": {
        "id": "y9WxMZr3XUpH"
      }
    },
    {
      "cell_type": "markdown",
      "metadata": {
        "id": "LuNGa-Ko1tzx"
      },
      "source": [
        "## Возможно ли построить корневое дерево без примеси для ``Nganasan.HO``, ``French.HO`` и ``Finnish.HO``\n",
        "\n",
        "Вычислим три f3-статистики\n",
        "\n",
        "- $f3(\\text{Naganasan.HO}, \\text{French.HO}, \\text{Finnish.HO})$\n",
        "- $f3(\\text{French.HO}, \\text{Finnish.HO}, \\text{Naganasan.HO})$\n",
        "- $f3(\\text{Finnish.HO}, \\text{Naganasan.HO}, \\text{French.HO})$\n",
        "\n",
        "и посмотреть, является ли одна из них отрицательной."
      ]
    },
    {
      "cell_type": "code",
      "source": [
        "import itertools"
      ],
      "metadata": {
        "id": "DBfSgTEeO5qx"
      },
      "execution_count": null,
      "outputs": []
    },
    {
      "cell_type": "code",
      "execution_count": null,
      "metadata": {
        "id": "HbOocu3y1TCf"
      },
      "outputs": [],
      "source": [
        "populations = [\"Nganasan.HO\", \"French.HO\", \"Finnish.HO\"]"
      ]
    },
    {
      "cell_type": "code",
      "source": [
        "current = populations.copy()\n",
        "\n",
        "for i in range(3):\n",
        "    if i != 0:\n",
        "        current = current[1:] + [current[0]]\n",
        "    outgroup, pop1, pop2 = current\n",
        "    result, full_output = run_qp3pop([outgroup, pop1, pop2])\n",
        "    f3_val = result.get(\"f3\") if result is not None else None\n",
        "    print(\"f3({}, {}, {}) = {}\".format(outgroup, pop1, pop2, f3_val))\n",
        "    if f3_val is not None and f3_val < 0:\n",
        "        print(\"Negative f3 indicates an admixture signal; a simple tree is not possible.\\n\")\n"
      ],
      "metadata": {
        "colab": {
          "base_uri": "https://localhost:8080/"
        },
        "id": "hEFIDPfTW9xE",
        "outputId": "eb41b3d2-014d-400c-e26b-c6437db7b5e0"
      },
      "execution_count": null,
      "outputs": [
        {
          "output_type": "stream",
          "name": "stdout",
          "text": [
            "f3(Nganasan.HO; French.HO, Finnish.HO) = -0.004256\n",
            "Negative f3 indicates an admixture signal; a simple tree is not possible.\n",
            "\n",
            "f3(French.HO; Finnish.HO, Nganasan.HO) = 0.150634\n",
            "f3(Finnish.HO; Nganasan.HO, French.HO) = 0.011546\n"
          ]
        }
      ]
    },
    {
      "cell_type": "markdown",
      "source": [
        "Заметим что f3 с таргетом `Finnish.HO` выдает отрицательный результат, то есть является результатом смешения популяций `Nganasan.HO` и `French.HO`\n",
        "\n",
        "Следовательно, построить укорененное дерево  между этими популяциями невозможно."
      ],
      "metadata": {
        "id": "DhOx-QmQbA3_"
      }
    },
    {
      "cell_type": "markdown",
      "metadata": {
        "id": "_z3-MBrB10IV"
      },
      "source": [
        "## Построение корневого дерева для ``Mbuti.HO``, ``French.HO`` и ``Lezgin.HO`` и вычисление весов ребер\n",
        "\n",
        "Теперь предположим, что мы хотим построить корневое дерево с этими тремя популяциями. Сначала мы проверяем, что нет никаких признаков смешивания, гарантируя, что все f3-статистики неотрицательны.\n",
        "\n",
        "Затем можно «назначить» веса ребер следующим образом. В дереве без смешивания значение $f3(\\text{Mbuti.HO}, A, B)$ пропорционально длине ветви, общей для популяций A и B (после того, как они отделились от внешней группы)."
      ]
    },
    {
      "cell_type": "code",
      "source": [
        "import networkx as nx\n",
        "import numpy as np\n",
        "import matplotlib.pyplot as plt\n",
        "import scipy.cluster.hierarchy as sch\n",
        "import scipy.spatial.distance as ssd"
      ],
      "metadata": {
        "id": "03-WhpxIO4A5"
      },
      "execution_count": 12,
      "outputs": []
    },
    {
      "cell_type": "code",
      "source": [
        "populations = [\"Mbuti.HO\", \"French.HO\", \"Lezgin.HO\"]\n",
        "\n",
        "f3_results = {}"
      ],
      "metadata": {
        "id": "0T1G99pHOOII"
      },
      "execution_count": 13,
      "outputs": []
    },
    {
      "cell_type": "code",
      "source": [
        "current = populations.copy()\n",
        "\n",
        "for i in range(3):\n",
        "    if i != 0:\n",
        "        current = current[1:] + [current[0]]\n",
        "    outgroup, pop1, pop2 = current\n",
        "    result, full_output = run_qp3pop([outgroup, pop1, pop2])\n",
        "    f3_val = result.get(\"f3\") if result is not None else None\n",
        "    f3_results[(outgroup, pop1, pop2)] = f3_val\n",
        "    print(\"f3({}, {}, {}) = {}\".format(outgroup, pop1, pop2, f3_val))\n",
        "    if f3_val is not None and f3_val < 0:\n",
        "        print(\"Negative f3 indicates an admixture signal; a simple tree is not possible.\\n\")"
      ],
      "metadata": {
        "colab": {
          "base_uri": "https://localhost:8080/"
        },
        "id": "chqCWyWeaH9w",
        "outputId": "6606eafc-55f9-4be3-8725-c6205f8e7f53"
      },
      "execution_count": 16,
      "outputs": [
        {
          "output_type": "stream",
          "name": "stdout",
          "text": [
            "f3(Mbuti.HO, French.HO, Lezgin.HO) = 0.002297\n",
            "f3(French.HO, Lezgin.HO, Mbuti.HO) = 0.250941\n",
            "f3(Lezgin.HO, Mbuti.HO, French.HO) = 0.007832\n"
          ]
        }
      ]
    },
    {
      "cell_type": "markdown",
      "source": [
        "Получив все наобходимые значения можно перейти к построению дерева"
      ],
      "metadata": {
        "id": "ey1biE89Bk7V"
      }
    },
    {
      "cell_type": "code",
      "source": [
        "import numpy as np\n",
        "from scipy.cluster.hierarchy import linkage, to_tree, dendrogram\n",
        "import matplotlib.pyplot as plt"
      ],
      "metadata": {
        "id": "ZVu8auiCBs65"
      },
      "execution_count": 33,
      "outputs": []
    },
    {
      "cell_type": "code",
      "source": [
        "# dist matrix\n",
        "f3_L = f3_results.get((\"Mbuti.HO\", \"French.HO\", \"Lezgin.HO\"))\n",
        "f3_M = f3_results.get((\"French.HO\", \"Lezgin.HO\", \"Mbuti.HO\"))\n",
        "f3_F = f3_results.get((\"Lezgin.HO\", \"Mbuti.HO\", \"French.HO\"))\n",
        "\n",
        "distance_matrix = np.array([\n",
        "    [0,     f3_L, f3_F],\n",
        "    [f3_L,  0,    f3_M],\n",
        "    [f3_F,  f3_M, 0]\n",
        "])"
      ],
      "metadata": {
        "id": "xX3An2gxBs4K"
      },
      "execution_count": 34,
      "outputs": []
    },
    {
      "cell_type": "code",
      "source": [
        "populations = [\"Lezgin.HO\", \"French.HO\", \"Mbuti.HO\"]\n",
        "\n",
        "condensed = [distance_matrix[i, j] for i in range(len(populations)) for j in range(i+1, len(populations))]\n",
        "\n",
        "Z = linkage(condensed, method='average')"
      ],
      "metadata": {
        "id": "Hory5JbfBs1V"
      },
      "execution_count": 35,
      "outputs": []
    },
    {
      "cell_type": "code",
      "source": [
        "plt.figure(figsize=(8, 4))\n",
        "dendro = dendrogram(Z, labels=populations, leaf_rotation=90)\n",
        "plt.title(\"Hierarchical Clustering Dendrogram\")\n",
        "plt.xlabel(\"Population\")\n",
        "plt.ylabel(\"Distance\")\n",
        "plt.show()"
      ],
      "metadata": {
        "colab": {
          "base_uri": "https://localhost:8080/",
          "height": 482
        },
        "id": "hzpriN1KBsyW",
        "outputId": "839ca717-0036-400f-f777-a2cc7c05043a"
      },
      "execution_count": 36,
      "outputs": [
        {
          "output_type": "display_data",
          "data": {
            "text/plain": [
              "<Figure size 800x400 with 1 Axes>"
            ],
            "image/png": "[encoded data removed]"
          },
          "metadata": {}
        }
      ]
    },
    {
      "cell_type": "markdown",
      "source": [
        "Данное дерево соответствует общеизвестным представлениями. Mbuti - один из старейших коренных народов Африки (на территории современного Конго), French - европейская популяция, Lezgin - популяция Северного Кавказа."
      ],
      "metadata": {
        "id": "Wt-OudDgCHNS"
      }
    },
    {
      "cell_type": "markdown",
      "source": [
        "Можно также выгрузить данные из построенного дерева, но, вероятно, лучше строить деревья пользуясь специализированными программами"
      ],
      "metadata": {
        "id": "cdHDpFPePAsU"
      }
    },
    {
      "cell_type": "code",
      "source": [
        "root_node, node_list = to_tree(Z, rd=True)\n",
        "\n",
        "def print_tree(node, parent_dist=0, indent=\"\"):\n",
        "    if node.id < len(populations):\n",
        "        branch_length = parent_dist\n",
        "        print(indent + f\"Leaf: {populations[node.id]} (branch length: {branch_length:.4f})\")\n",
        "    else:\n",
        "        branch_length = parent_dist - node.dist if parent_dist > 0 else 0\n",
        "        print(indent + f\"Internal Node {node.id} (branch length: {branch_length:.4f}, node distance: {node.dist:.4f})\")\n",
        "        if node.left:\n",
        "            print_tree(node.left, node.dist, indent + \"  \")\n",
        "        if node.right:\n",
        "            print_tree(node.right, node.dist, indent + \"  \")\n",
        "print_tree(root_node, parent_dist=root_node.dist)"
      ],
      "metadata": {
        "colab": {
          "base_uri": "https://localhost:8080/"
        },
        "id": "oNBm2lQi12ym",
        "outputId": "a81a73f8-9d25-4e88-a29d-878471d40c00"
      },
      "execution_count": 37,
      "outputs": [
        {
          "output_type": "stream",
          "name": "stdout",
          "text": [
            "Internal Node 4 (branch length: 0.0000, node distance: 0.1294)\n",
            "  Leaf: Mbuti.HO (branch length: 0.1294)\n",
            "  Internal Node 3 (branch length: 0.1271, node distance: 0.0023)\n",
            "    Leaf: Lezgin.HO (branch length: 0.0023)\n",
            "    Leaf: French.HO (branch length: 0.0023)\n"
          ]
        }
      ]
    },
    {
      "cell_type": "code",
      "execution_count": null,
      "metadata": {
        "id": "Fy_wyzZEYXbc"
      },
      "outputs": [],
      "source": []
    },
    {
      "cell_type": "code",
      "execution_count": null,
      "metadata": {
        "id": "ehl_j16ZYXYc"
      },
      "outputs": [],
      "source": []
    },
    {
      "cell_type": "code",
      "execution_count": null,
      "metadata": {
        "id": "hNuCSXs-YXVd"
      },
      "outputs": [],
      "source": []
    }
  ],
  "metadata": {
    "colab": {
      "provenance": []
    },
    "kernelspec": {
      "display_name": "Python 3",
      "name": "python3"
    },
    "language_info": {
      "name": "python"
    }
  },
  "nbformat": 4,
  "nbformat_minor": 0
}