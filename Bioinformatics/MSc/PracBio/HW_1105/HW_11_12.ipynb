{
  "nbformat": 4,
  "nbformat_minor": 0,
  "metadata": {
    "colab": {
      "provenance": []
    },
    "kernelspec": {
      "name": "python3",
      "display_name": "Python 3"
    },
    "language_info": {
      "name": "python"
    }
  },
  "cells": [
    {
      "cell_type": "code",
      "execution_count": 4,
      "metadata": {
        "id": "1Gq5cbrdnR_V"
      },
      "outputs": [],
      "source": [
        "# Import necessary libraries\n",
        "import re"
      ]
    },
    {
      "cell_type": "code",
      "source": [
        "# Step 1: Load the Stockholm file\n",
        "stk_file_path = '/content/result.stk'\n",
        "with open(stk_file_path, 'r') as file:\n",
        "    stockholm_data = file.readlines()\n",
        "\n",
        "# Step 2: Extract all IDs from the file\n",
        "# IDs are typically the first word in lines containing sequences\n",
        "id_pattern = re.compile(r'^[A-Za-z0-9./-]+')  # Pattern to match the ID format\n",
        "ids = set()  # Using a set to store unique IDs\n",
        "\n",
        "for line in stockholm_data:\n",
        "    match = id_pattern.match(line)\n",
        "    if match and not line.startswith((\"#\", \"//\")):  # Ignore metadata and terminators\n",
        "        ids.add(match.group())\n",
        "\n",
        "# Convert the set to a sorted list for consistent processing\n",
        "ids = sorted(ids)\n",
        "\n",
        "# Step 3: Filter sequences for each ID and write to .fasta files\n",
        "def to_fasta_file(id, sequences, output_folder):\n",
        "    fasta_filename = f\"{output_folder}/{id.replace('/', '_')}.fasta\"\n",
        "    with open(fasta_filename, 'w') as fasta_file:\n",
        "        fasta_file.write(f\">{id}\\n\")\n",
        "        for seq in sequences:\n",
        "            sequence = seq.split(\" \", 1)[1].strip()  # Extract the sequence portion\n",
        "            fasta_file.write(sequence + \"\\n\")\n",
        "    return fasta_filename\n",
        "\n",
        "# Create an output folder\n",
        "output_folder = \"/content/fasta_files\"\n",
        "import os\n",
        "os.makedirs(output_folder, exist_ok=True)\n",
        "\n",
        "# Filter sequences and write to FASTA files\n",
        "created_files = []\n",
        "for id in ids:\n",
        "    id_sequences = [line.strip() for line in stockholm_data if line.startswith(id)]\n",
        "    if id_sequences:  # If sequences for the ID exist\n",
        "        fasta_file = to_fasta_file(id, id_sequences, output_folder)\n",
        "        created_files.append(fasta_file)\n",
        "\n",
        "# Step 4: Output the list of created FASTA files\n",
        "print(f\"FASTA files created for IDs: {', '.join(ids)}\")\n",
        "print(f\"Files are saved in {output_folder}\")\n"
      ],
      "metadata": {
        "id": "5NllZFtpnU_h",
        "colab": {
          "base_uri": "https://localhost:8080/"
        },
        "outputId": "9573c8ed-6ca6-4903-e3c6-8c1d409ba637"
      },
      "execution_count": 5,
      "outputs": [
        {
          "output_type": "stream",
          "name": "stdout",
          "text": [
            "FASTA files created for IDs: AAKI02000041.1/24441-24302, AAKJ02000036.1/5658-5797, AAOE01000024.1/17701-17833, AAUR01000042.1/26458-26319, AAUU01000009.1/30696-30557, AAWE01000035.1/31834-31695, AAWF01000006.1/90475-90336, BX950851.1/3157560-3157412, CP000026.1/2029594-2029450, CP000247.1/832790-832934, CP000510.1/2652936-2652780, CP000627.1/583753-583892, CP000679.1/1094763-1094897, CP000698.1/4162311-4162191\n",
            "Files are saved in /content/fasta_files\n"
          ]
        }
      ]
    },
    {
      "cell_type": "code",
      "source": [
        "# Display lines starting with the first ID\n",
        "!grep \"^CP000627.1/583753-583892\" /content/result.stk\n",
        "\n",
        "# Display lines starting with the second ID\n",
        "!grep \"^CP000247.1/832790-832934\" /content/result.stk"
      ],
      "metadata": {
        "colab": {
          "base_uri": "https://localhost:8080/"
        },
        "id": "kShq6p8lnU5N",
        "outputId": "0809c905-8298-44e6-d62b-c00e909b6482"
      },
      "execution_count": 6,
      "outputs": [
        {
          "output_type": "stream",
          "name": "stdout",
          "text": [
            "CP000627.1/583753-583892   GC--UUGGCCUUAACUCCGAGCUUACCGC-GCUAAGUUUAAACCU-------UUAAAUAUGCGUUGUAAGCCA-GUGACCG----------CUUGUCAC-AAGGGCAG-AA---UUGGAA\n",
            "CP000627.1/583753-583892   AUGAUUUUGCCUCCCGUAUUUGGAAAGGUGUU-CUGUGGCGCAACAA\n",
            "CP000247.1/832790-832934   UUAACCACUAAACACUCU-------------AGCCUCUGCACCUGGGUCA--ACUGAUACGGUGCUUUGGCC--GUGACAAUGCUCGUAAAGAUUGCCACCAGGGCGAAGGAA----GAA\n",
            "CP000247.1/832790-832934   AUGACUUCGCCUCCCGUAUCUGGAAAGGUGUACAUGGCUU-CACAAC\n"
          ]
        }
      ]
    },
    {
      "cell_type": "code",
      "source": [
        "# Construct the exclusion pattern dynamically from the IDs\n",
        "!grep -v -e \"^CP000698.1/4162311-4162191\" \\\n",
        "        -e \"^CP000679.1/1094763-1094897\" \\\n",
        "        -e \"^BX950851.1/3157560-3157412\" \\\n",
        "        -e \"^CP000627.1/583753-583892\" \\\n",
        "        -e \"^AAKJ02000036.1/5658-5797\" \\\n",
        "        -e \"^AAKI02000041.1/24441-24302\" \\\n",
        "        -e \"^AAUR01000042.1/26458-26319\" \\\n",
        "        -e \"^AAWE01000035.1/31834-31695\" \\\n",
        "        -e \"^AAWF01000006.1/90475-90336\" \\\n",
        "        -e \"^AAUU01000009.1/30696-30557\" \\\n",
        "        -e \"^AAOE01000024.1/17701-17833\" \\\n",
        "        -e \"^CP000510.1/2652936-2652780\" \\\n",
        "        -e \"^CP000026.1/2029594-2029450\" \\\n",
        "        -e \"^CP000247.1/832790-832934\" /content/result.stk | wc -l"
      ],
      "metadata": {
        "colab": {
          "base_uri": "https://localhost:8080/"
        },
        "id": "Xn7Jhtx2qkb9",
        "outputId": "e3ba461b-0991-452e-b95f-bb2453d55c96"
      },
      "execution_count": 10,
      "outputs": [
        {
          "output_type": "stream",
          "name": "stdout",
          "text": [
            "6\n"
          ]
        }
      ]
    },
    {
      "cell_type": "code",
      "source": [
        "# Concatenate both FASTA files into one\n",
        "!cat /content/fasta_files/*.fasta > /content/combined_sequences.fasta"
      ],
      "metadata": {
        "id": "3EE8LgDYnZgg"
      },
      "execution_count": 11,
      "outputs": []
    },
    {
      "cell_type": "code",
      "source": [],
      "metadata": {
        "id": "7ioxiqAFnZcq"
      },
      "execution_count": null,
      "outputs": []
    },
    {
      "cell_type": "code",
      "source": [],
      "metadata": {
        "id": "DLiipuQxnZZE"
      },
      "execution_count": null,
      "outputs": []
    },
    {
      "cell_type": "code",
      "source": [],
      "metadata": {
        "id": "fN1wUu8xnZVX"
      },
      "execution_count": null,
      "outputs": []
    }
  ]
}