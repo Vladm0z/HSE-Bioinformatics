{
  "nbformat": 4,
  "nbformat_minor": 0,
  "metadata": {
    "colab": {
      "provenance": []
    },
    "kernelspec": {
      "name": "python3",
      "display_name": "Python 3"
    },
    "language_info": {
      "name": "python"
    }
  },
  "cells": [
    {
      "cell_type": "markdown",
      "source": [
        "The cell below is for you. Recall the ID of one of the sequences that you used for RNAfold. Find a sequence with this ID in Stockholm file (locaRNA alignment) and put it inside the quotation marks in the 1st line (it probably contains gaps). Put RNA **structure** predicted by RNAfold in the 2nd line.\n",
        "\n",
        "Note that you **must not change** anything except the text in the quotation marks!\n"
      ],
      "metadata": {
        "id": "WygonJ6AiJlU"
      }
    },
    {
      "cell_type": "code",
      "execution_count": 16,
      "metadata": {
        "id": "24GrKIrThUV_",
        "outputId": "26d95582-4b40-4fb3-feb1-ba943749d593",
        "colab": {
          "base_uri": "https://localhost:8080/"
        }
      },
      "outputs": [
        {
          "output_type": "stream",
          "name": "stdout",
          "text": [
            "((((((........)))))).....((((((.......((((...((.......(((..........((..........(((((.....)))))..(((((((((((....)))))))))))..)))))....))))))......)))))).....\n"
          ]
        }
      ],
      "source": [
        "# CP000627.1/583753-583892\n",
        "sequence = \"GCUUGGCCUUAACUCCGAGCUUACCGCGCUAAGUUUAAACCU---UUA---AAUAUG----------CGUUGUAAGCCAGUGACCGCUUGUCACAAGGGCAGAAUUGGAAAUGAUUUUGCCUCCCGUAUUUGGAAAGGUGUUCUGUGGCGCAACAA\"\n",
        "structure = \"((((((........)))))).....((((((.......((((((....(((((..........(((((.....)))))..(((((((((((....)))))))))))..)))))....))))))......)))))).....\"\n",
        "for i in range(len(sequence)):\n",
        "   if sequence[i:i+1] == \"-\":\n",
        "       structure = structure[:i] + \".\" + structure[i:]\n",
        "print(structure)"
      ]
    },
    {
      "cell_type": "code",
      "source": [
        "# CP000627.1/583753-583892\n",
        "sequence = \"UUAA---------CCACUAAACACUCUAGCC--UCUGCACCUGGGUCAACUGAUACGGUGCUUUGGCCGUGACAAUGCUCGUAAAGAUUGCCACCAGGGCGAAGGAAGAAAUGACUUCGCCUCCCGUAUCUGGAAAGGUGUACAUGGCUUCACAAC\"\n",
        "structure = \"..................((((..(((((((...(((...(((((((.((....)).(((.((((.((.....)))))).)))..((((((((..........)))))))).))))))))))..)))))))...)))).......\"\n",
        "for i in range(len(sequence)):\n",
        "   if sequence[i:i+1] == \"-\":\n",
        "       structure = structure[:i] + \".\" + structure[i:]\n",
        "print(structure)"
      ],
      "metadata": {
        "id": "N0LNrksDiyCO",
        "outputId": "16cba06c-d377-432a-b87d-7c5bcfda4f40",
        "colab": {
          "base_uri": "https://localhost:8080/"
        }
      },
      "execution_count": 17,
      "outputs": [
        {
          "output_type": "stream",
          "name": "stdout",
          "text": [
            "...........................((((....(((((((...(((...(((((((.((....)).(((.((((.((.....)))))).)))..((((((((..........)))))))).))))))))))..)))))))...)))).......\n"
          ]
        }
      ]
    }
  ]
}