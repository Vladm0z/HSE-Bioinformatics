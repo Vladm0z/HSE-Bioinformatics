{
  "nbformat": 4,
  "nbformat_minor": 0,
  "metadata": {
    "colab": {
      "provenance": []
    },
    "kernelspec": {
      "name": "python3",
      "display_name": "Python 3"
    },
    "language_info": {
      "name": "python"
    }
  },
  "cells": [
    {
      "cell_type": "code",
      "execution_count": 19,
      "metadata": {
        "id": "e4IN_S9zoKo0"
      },
      "outputs": [],
      "source": [
        "import pandas as pd\n",
        "import numpy as np\n",
        "from sklearn.model_selection import StratifiedKFold\n",
        "from sklearn.preprocessing import StandardScaler\n",
        "from sklearn.ensemble import RandomForestClassifier\n",
        "from sklearn.metrics import accuracy_score, classification_report"
      ]
    },
    {
      "cell_type": "code",
      "source": [
        "# Load the dataset\n",
        "df = pd.read_csv('task_3.csv', index_col=0)\n",
        "\n",
        "# Extract samples and labels\n",
        "samples_df = df.iloc[:, :59].T  # Samples as rows, ASVs as columns\n",
        "labels = samples_df.index.str.split('_').str[0]  # Environment labels (NG, NZ, XZ)"
      ],
      "metadata": {
        "id": "rEsMqQ_ZoVgE"
      },
      "execution_count": 20,
      "outputs": []
    },
    {
      "cell_type": "code",
      "source": [
        "# Initialize Stratified K-Fold for cross-validation\n",
        "n_splits = 5\n",
        "skf = StratifiedKFold(n_splits=n_splits, shuffle=True, random_state=42)\n",
        "\n",
        "# Store metrics for each fold\n",
        "accuracy_scores = []\n",
        "class_reports = []"
      ],
      "metadata": {
        "id": "zX94jHnroVc1"
      },
      "execution_count": 21,
      "outputs": []
    },
    {
      "cell_type": "code",
      "source": [
        "# Cross-validation loop\n",
        "for train_idx, test_idx in skf.split(samples_df, labels):\n",
        "    # Split data into training and validation sets\n",
        "    X_train, X_test = samples_df.iloc[train_idx], samples_df.iloc[test_idx]\n",
        "    y_train, y_test = labels[train_idx], labels[test_idx]\n",
        "\n",
        "    # Standardize features (fit on training data only)\n",
        "    scaler = StandardScaler()\n",
        "    X_train_scaled = scaler.fit_transform(X_train)\n",
        "    X_test_scaled = scaler.transform(X_test)\n",
        "\n",
        "    # Train model\n",
        "    model = RandomForestClassifier(n_estimators=100, random_state=42)\n",
        "    model.fit(X_train_scaled, y_train)\n",
        "\n",
        "    # Predict and evaluate\n",
        "    y_pred = model.predict(X_test_scaled)\n",
        "    accuracy = accuracy_score(y_test, y_pred)\n",
        "    report = classification_report(y_test, y_pred, output_dict=True)\n",
        "\n",
        "    # Store results\n",
        "    accuracy_scores.append(accuracy)\n",
        "    class_reports.append(report)"
      ],
      "metadata": {
        "id": "KSNyWZ8VoVZs"
      },
      "execution_count": 22,
      "outputs": []
    },
    {
      "cell_type": "code",
      "source": [
        "# Aggregate metrics\n",
        "mean_accuracy = np.mean(accuracy_scores)\n",
        "std_accuracy = np.std(accuracy_scores)"
      ],
      "metadata": {
        "id": "Pt0c-n1uulhx"
      },
      "execution_count": 23,
      "outputs": []
    },
    {
      "cell_type": "code",
      "source": [
        "# Print performance summary\n",
        "print(f\"Cross-Validation Results ({n_splits}-fold):\")\n",
        "print(f\"Mean Accuracy: {mean_accuracy:.3f} ± {std_accuracy:.3f}\\n\")"
      ],
      "metadata": {
        "colab": {
          "base_uri": "https://localhost:8080/"
        },
        "id": "J8GXQjWboVWm",
        "outputId": "f86e9877-4be6-40db-cabb-699687506f18"
      },
      "execution_count": 24,
      "outputs": [
        {
          "output_type": "stream",
          "name": "stdout",
          "text": [
            "Cross-Validation Results (5-fold):\n",
            "Mean Accuracy: 0.983 ± 0.033\n",
            "\n"
          ]
        }
      ]
    },
    {
      "cell_type": "code",
      "source": [
        "# Detailed class-wise metrics\n",
        "avg_precision = np.mean([r['macro avg']['precision'] for r in class_reports])\n",
        "avg_recall = np.mean([r['macro avg']['recall'] for r in class_reports])\n",
        "avg_f1 = np.mean([r['macro avg']['f1-score'] for r in class_reports])\n",
        "\n",
        "print(f\"Macro-Averaged Metrics:\")\n",
        "print(f\"Precision: {avg_precision:.3f}, Recall: {avg_recall:.3f}, F1-Score: {avg_f1:.3f}\")\n",
        "\n",
        "# Example classification report for the last fold\n",
        "print(\"\\nExample Classification Report (Last Fold):\")\n",
        "print(classification_report(y_test, y_pred))"
      ],
      "metadata": {
        "colab": {
          "base_uri": "https://localhost:8080/"
        },
        "id": "vVkTrqGXoVTW",
        "outputId": "9e967f52-2542-4677-f0cd-02bd8c35990c"
      },
      "execution_count": 25,
      "outputs": [
        {
          "output_type": "stream",
          "name": "stdout",
          "text": [
            "Macro-Averaged Metrics:\n",
            "Precision: 0.989, Recall: 0.967, F1-Score: 0.972\n",
            "\n",
            "Example Classification Report (Last Fold):\n",
            "              precision    recall  f1-score   support\n",
            "\n",
            "          NG       1.00      1.00      1.00         1\n",
            "          NZ       1.00      1.00      1.00         5\n",
            "          XZ       1.00      1.00      1.00         5\n",
            "\n",
            "    accuracy                           1.00        11\n",
            "   macro avg       1.00      1.00      1.00        11\n",
            "weighted avg       1.00      1.00      1.00        11\n",
            "\n"
          ]
        }
      ]
    },
    {
      "cell_type": "code",
      "source": [],
      "metadata": {
        "id": "Y2--p3-pugUF"
      },
      "execution_count": null,
      "outputs": []
    },
    {
      "cell_type": "code",
      "source": [],
      "metadata": {
        "id": "8TFLSc9WugQ7"
      },
      "execution_count": null,
      "outputs": []
    },
    {
      "cell_type": "code",
      "source": [],
      "metadata": {
        "id": "xi-TKIc5ugNx"
      },
      "execution_count": null,
      "outputs": []
    }
  ]
}