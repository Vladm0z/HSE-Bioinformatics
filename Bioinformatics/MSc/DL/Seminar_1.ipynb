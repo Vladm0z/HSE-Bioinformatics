{
  "cells": [
    {
      "cell_type": "markdown",
      "metadata": {
        "id": "s347J0P3qaEY"
      },
      "source": [
        "# Семинар 1"
      ]
    },
    {
      "cell_type": "markdown",
      "metadata": {
        "id": "DiD7DvSWqaEZ"
      },
      "source": [
        "## План ноутбука\n",
        "\n",
        "1. Установка `PyTorch`\n",
        "1. Введение в `PyTorch`"
      ]
    },
    {
      "cell_type": "markdown",
      "metadata": {
        "id": "AK_AgfIPqaEZ"
      },
      "source": [
        "## Установка `PyTorch`"
      ]
    },
    {
      "cell_type": "markdown",
      "metadata": {
        "id": "HsXUoXJrqaEZ"
      },
      "source": [
        "Мы будем использовать библиотеку для глубинного обучения `PyTorch`, ее можно не устанавливать, можно пользоваться сайтами [Kaggle](kaggle.com) и [Google Colab](colab.research.google.com/) для обучения в облаке.\n",
        "\n",
        "Чтобы установить `PyTorch` локально себе на компьютер нужно ответить на два вопроса - какая у вас операционная система и есть ли у вас дискретная видеокарта (GPU) и если есть, то какого производителя. В зависимости от ваших ответов мы получаем три варианта по операционной системе - Linux, Mac и Windows; три варианта по дискретной видеокарте - нет видеокарты (доступен только центральный процессор CPU), есть видеокарта от Nvidia или есть видеокарта от AMD (это производитель именно чипа, конечный вендор может быть другой, например, ASUS, MSI, Palit). Работа с PyTorch с видеокартой от AMD это экзотика, которая выходит за рамки нашего курса, поэтому рассмотрим только варианты *нет видеокарты*/*есть видеокарта от Nvidia*.\n",
        "\n",
        "\n",
        "Выберите на [сайте](https://pytorch.org/get-started/locally/) подходящие вам варианты операционной системы/видеокарты и скопируйте команду для установки. Разберем подробно самые популярные варианты установки:"
      ]
    },
    {
      "cell_type": "markdown",
      "metadata": {
        "id": "3ORzw6kWqaEZ"
      },
      "source": [
        "### Установка в Linux ([поддерживаемые дистрибутивы](https://pytorch.org/get-started/locally/#supported-linux-distributions))\n",
        "\n",
        "На линуксе будет работать поддержка `PyTorch` в любой конфигурации, что у вас нет видеокарты, что есть от Nvidia, что от AMD.\n",
        "\n",
        "Пререквизит для работы с видеокартой от Nvidia - нужно поставить CUDA, это инструмент от компании Nvidia, который позволяет ускорять вычисления на их же ГПУ. Чтобы поставить себе на машину все правильно воспользуйтесь этим [гайдом](https://docs.nvidia.com/cuda/cuda-installation-guide-linux/index.html) от Nvidia.\n",
        "\n",
        " - **pip**\n",
        "\n",
        "`pip3 install torch torchvision torchaudio --extra-index-url https://download.pytorch.org/whl/cpu` для тех, у кого нет видеокарты.\n",
        "\n",
        "`pip3 install torch torchvision torchaudio --extra-index-url https://download.pytorch.org/whl/cu118` для тех, у кого есть видеокарта (либо другой `--extra-index-url`, смотрите на сайте PyTorch, в зависимости от версии CUDA).\n",
        "\n",
        " - **conda**\n",
        "\n",
        "`conda install pytorch torchvision torchaudio cpuonly -c pytorch` для тех, у кого нет видеокарты.\n",
        "\n",
        "`conda install pytorch torchvision torchaudio cudatoolkit=11.8 -c pytorch -c conda-forge` для тех, у кого есть видеокарта (либо немного другая команда, в зависимости от версии CUDA)."
      ]
    },
    {
      "cell_type": "markdown",
      "metadata": {
        "id": "bnDCpGkPqaEZ"
      },
      "source": [
        "### Установка в Windows\n",
        "\n",
        "На винде будет работать поддержка `PyTorch` только для видеокарт от Nvidia и без видеокарт вообще.\n",
        "\n",
        "Пререквизит для работы с видеокартой от Nvidia - нужно поставить CUDA, это инструмент от компании Nvidia, который позволяет ускорять вычисления на их же ГПУ. Чтобы поставить себе на машину все правильно воспользуйтесь этим [гайдом](https://docs.nvidia.com/cuda/cuda-installation-guide-microsoft-windows/index.html) от Nvidia.\n",
        "\n",
        " - **pip**\n",
        "\n",
        "`pip3 install torch torchvision torchaudio --extra-index-url https://download.pytorch.org/whl/cpu` для тех, у кого нет видеокарты.\n",
        "\n",
        "`pip3 install torch torchvision torchaudio --extra-index-url https://download.pytorch.org/whl/cu118` для тех, у кого есть видеокарта (либо другой `--extra-index-url`, смотрите на сайте PyTorch, в зависимости от версии CUDA).\n",
        "\n",
        " - **conda**\n",
        "\n",
        "`conda install pytorch torchvision torchaudio cpuonly -c pytorch` для тех, у кого нет видеокарты.\n",
        "\n",
        "`conda install pytorch torchvision torchaudio cudatoolkit=11.8 -c pytorch -c conda-forge` для тех, у кого есть видеокарта (либо немного другая команда, в зависимости от версии CUDA).\n",
        "\n"
      ]
    },
    {
      "cell_type": "markdown",
      "metadata": {
        "id": "c3VbJjqkqaEZ"
      },
      "source": [
        "### Установка на Mac\n",
        "\n",
        "На маках есть поддержка `PyTorch` как на CPU, так и на GPU, но только для Apple Silicon, то есть на чипах M1, M2 и так далее.\n",
        "\n",
        "При этом поддержка ускорения с помощью GPU есть только для версий макоси выше 12.3: MPS acceleration is available on MacOS 12.3+\n",
        "\n",
        " - **pip**\n",
        "\n",
        "`pip3 install torch torchvision torchaudio`\n",
        "\n",
        " - **conda**\n",
        "\n",
        "`conda install pytorch::pytorch torchvision torchaudio -c pytorch`"
      ]
    },
    {
      "cell_type": "markdown",
      "metadata": {
        "id": "yb8O9IrPqaEZ"
      },
      "source": [
        "##  IDE vs Jupyter"
      ]
    },
    {
      "cell_type": "markdown",
      "metadata": {
        "id": "HEKK9c4eqaEZ"
      },
      "source": [
        "Использовать можно как юпитер тетрадки, так и IDE для написания кода.\n",
        "\n",
        "Важно понимать, что при использвании тетрадок может нарушаться логика кода. Всегда проверяйте, что тетрадка исполняется от начала и до конца, выдавая тот же результат.\n",
        "\n",
        "Мой выбор для повседневной работы - IDE со скриптами. Лучше разделять код для описания моделей и обучения на разные файлы.\n",
        "\n",
        "В качестве IDE я рекомендую PyCharm."
      ]
    },
    {
      "cell_type": "markdown",
      "metadata": {
        "id": "3vKl8UQaqaEa"
      },
      "source": [
        "## PyTorch и тензоры"
      ]
    },
    {
      "cell_type": "markdown",
      "metadata": {
        "id": "0gY14CisqaEa"
      },
      "source": [
        "Тензор с размерностью 1 - это просто вектор, список чисел.\n",
        "\n",
        "Тензор с размерностью 2 - это просто матрица, то есть список списков чисел.\n",
        "\n",
        "Тензор с размерностью 3 и больше - это тензор, то есть список списков списков ... чисел.\n",
        "\n",
        "![](misc/meme.png)"
      ]
    },
    {
      "cell_type": "markdown",
      "metadata": {
        "id": "GG4ki4S8qaEa"
      },
      "source": [
        "## Torch"
      ]
    },
    {
      "cell_type": "code",
      "execution_count": null,
      "metadata": {
        "id": "RSScA1hXqaEa"
      },
      "outputs": [],
      "source": [
        "import torch  # <Ctrl> / <Shift> + <Return>"
      ]
    },
    {
      "cell_type": "markdown",
      "metadata": {
        "id": "2SzGnPAYqaEa"
      },
      "source": [
        "## Getting help in Jupyter"
      ]
    },
    {
      "cell_type": "code",
      "execution_count": null,
      "metadata": {
        "id": "U33VaZpLqaEa",
        "outputId": "6b9b150e-d259-47db-9752-7d39452f358b"
      },
      "outputs": [
        {
          "ename": "AttributeError",
          "evalue": "module 'torch' has no attribute 'sq'",
          "output_type": "error",
          "traceback": [
            "\u001b[0;31m---------------------------------------------------------------------------\u001b[0m",
            "\u001b[0;31mAttributeError\u001b[0m                            Traceback (most recent call last)",
            "Cell \u001b[0;32mIn[2], line 1\u001b[0m\n\u001b[0;32m----> 1\u001b[0m \u001b[43mtorch\u001b[49m\u001b[38;5;241;43m.\u001b[39;49m\u001b[43msq\u001b[49m\n",
            "\u001b[0;31mAttributeError\u001b[0m: module 'torch' has no attribute 'sq'"
          ]
        }
      ],
      "source": [
        "torch.sq  # <Tab>"
      ]
    },
    {
      "cell_type": "code",
      "execution_count": null,
      "metadata": {
        "id": "h8wmxD4zqaEb"
      },
      "outputs": [],
      "source": [
        "# What about all `*Tensor`s?\n",
        "# Press <esc> to get out of help\n",
        "torch.*Tensor?"
      ]
    },
    {
      "cell_type": "code",
      "execution_count": null,
      "metadata": {
        "id": "wLyv5MuiqaEb"
      },
      "outputs": [],
      "source": [
        "# Annotate your functions / classes!\n",
        "torch.nn.Module?"
      ]
    },
    {
      "cell_type": "code",
      "execution_count": null,
      "metadata": {
        "id": "4EcygBWwqaEb"
      },
      "outputs": [],
      "source": [
        "torch.nn.Module??"
      ]
    },
    {
      "cell_type": "markdown",
      "metadata": {
        "id": "W97_YV3EqaEb"
      },
      "source": [
        "## Dropping to Bash: magic!"
      ]
    },
    {
      "cell_type": "code",
      "execution_count": null,
      "metadata": {
        "scrolled": true,
        "colab": {
          "base_uri": "https://localhost:8080/"
        },
        "id": "D-tQQUzVqaEb",
        "outputId": "c3af5cce-3c70-471b-b511-ccca26eccd88"
      },
      "outputs": [
        {
          "output_type": "stream",
          "name": "stdout",
          "text": [
            "total 4.0K\n",
            "drwxr-xr-x 1 root root 4.0K Jan  9 14:24 sample_data\n"
          ]
        }
      ],
      "source": [
        "# List all the files in the current directory\n",
        "! ls -lh"
      ]
    },
    {
      "cell_type": "code",
      "execution_count": null,
      "metadata": {
        "colab": {
          "base_uri": "https://localhost:8080/"
        },
        "id": "SrpKEQ5hqaEb",
        "outputId": "38ec1438-1d44-49e0-f3c1-623f640d230e"
      },
      "outputs": [
        {
          "output_type": "stream",
          "name": "stderr",
          "text": [
            "ls: cannot access '*.*': No such file or directory\n"
          ]
        }
      ],
      "source": [
        "%%bash\n",
        "# List all the files but with cleaner outputs for readability\n",
        "for f in $(ls *.*); do\n",
        "    echo $(wc -l $f)\n",
        "done"
      ]
    },
    {
      "cell_type": "code",
      "execution_count": null,
      "metadata": {
        "id": "BVR7tiTZqaEb"
      },
      "outputs": [],
      "source": [
        "# Getting some general help\n",
        "%magic"
      ]
    },
    {
      "cell_type": "code",
      "source": [
        "%time  print('test')\n"
      ],
      "metadata": {
        "colab": {
          "base_uri": "https://localhost:8080/"
        },
        "id": "PChKZQxOxTOD",
        "outputId": "e850a594-635b-4507-8857-8ef5ae979413"
      },
      "execution_count": null,
      "outputs": [
        {
          "output_type": "stream",
          "name": "stdout",
          "text": [
            "test\n",
            "CPU times: user 1.19 ms, sys: 0 ns, total: 1.19 ms\n",
            "Wall time: 3.44 ms\n"
          ]
        }
      ]
    },
    {
      "cell_type": "markdown",
      "metadata": {
        "id": "bdc7YT6aqaEb"
      },
      "source": [
        "## Torch!"
      ]
    },
    {
      "cell_type": "markdown",
      "source": [
        "Для воспроизводимости результатов необходимо фиксировать случайный сид. Таким образом, у вас *почти* всегда будут получатся одинаковые результаты при одинаковых входных данных"
      ],
      "metadata": {
        "id": "4-Oe3IEox8UZ"
      }
    },
    {
      "cell_type": "code",
      "source": [
        "torch.manual_seed(42) # Setting the seed"
      ],
      "metadata": {
        "colab": {
          "base_uri": "https://localhost:8080/"
        },
        "id": "XFTcav-GxdKX",
        "outputId": "73dabb9d-e9bd-4327-86b0-4b6b773df0d3"
      },
      "execution_count": null,
      "outputs": [
        {
          "output_type": "execute_result",
          "data": {
            "text/plain": [
              "<torch._C.Generator at 0x7d683c506230>"
            ]
          },
          "metadata": {},
          "execution_count": 13
        }
      ]
    },
    {
      "cell_type": "markdown",
      "source": [
        "Более продвинутая версия, со звездочкой. Гарантия воспроизовдимости сильно выше"
      ],
      "metadata": {
        "id": "e09ac05cyL79"
      }
    },
    {
      "cell_type": "code",
      "source": [
        "import os\n",
        "import random\n",
        "import numpy as np\n",
        "import torch\n",
        "\n",
        "def seed_everything(seed):\n",
        "    os.environ['PYTHONHASHSEED'] = str(seed)\n",
        "    np.random.seed(seed)\n",
        "    random.seed(seed)\n",
        "    torch.manual_seed(seed)\n",
        "    torch.random.manual_seed(seed)\n",
        "    torch.cuda.manual_seed(seed)\n",
        "    torch.cuda.manual_seed_all(seed)\n",
        "    torch.backends.cudnn.deterministic = True\n",
        "    torch.backends.cudnn.benchmark = True\n",
        "\n",
        "seed_everything(0xDEAF)"
      ],
      "metadata": {
        "id": "LPnfOS-ixpgA"
      },
      "execution_count": null,
      "outputs": []
    },
    {
      "cell_type": "code",
      "execution_count": null,
      "metadata": {
        "colab": {
          "base_uri": "https://localhost:8080/"
        },
        "id": "DFa3fT6ZqaEb",
        "outputId": "04e7850c-0adc-4b3e-d6ed-34c34f62fe65"
      },
      "outputs": [
        {
          "output_type": "execute_result",
          "data": {
            "text/plain": [
              "torch.Tensor"
            ]
          },
          "metadata": {},
          "execution_count": 15
        }
      ],
      "source": [
        "# Generate a tensor of size 2x3x4\n",
        "t = torch.Tensor(2, 3, 4)\n",
        "type(t)"
      ]
    },
    {
      "cell_type": "code",
      "execution_count": null,
      "metadata": {
        "colab": {
          "base_uri": "https://localhost:8080/"
        },
        "id": "vEzbGjsdqaEb",
        "outputId": "30e20a0d-6602-4e2e-ef5b-e9cd99ddc11d"
      },
      "outputs": [
        {
          "output_type": "execute_result",
          "data": {
            "text/plain": [
              "torch.Size([2, 3, 4])"
            ]
          },
          "metadata": {},
          "execution_count": 16
        }
      ],
      "source": [
        "# Get the size of the tensor\n",
        "t.size()"
      ]
    },
    {
      "cell_type": "code",
      "source": [
        "t"
      ],
      "metadata": {
        "colab": {
          "base_uri": "https://localhost:8080/"
        },
        "id": "EPDwhgAY0nnE",
        "outputId": "83541e8e-3938-4500-e3fa-c1499ace163b"
      },
      "execution_count": null,
      "outputs": [
        {
          "output_type": "execute_result",
          "data": {
            "text/plain": [
              "tensor([[[ 1.7837e+06,  4.4987e-41, -1.0049e-35,  3.1737e-41],\n",
              "         [ 1.4013e-43,  4.0638e-44,  0.0000e+00,  0.0000e+00],\n",
              "         [ 4.9606e-43,  0.0000e+00,  1.9058e-43,  8.4078e-45]],\n",
              "\n",
              "        [[ 0.0000e+00,  0.0000e+00,  4.9606e-43,  0.0000e+00],\n",
              "         [ 2.2421e-43,  6.1657e-44,  0.0000e+00,  0.0000e+00],\n",
              "         [ 4.9606e-43,  0.0000e+00,  2.2561e-43,  0.0000e+00]]])"
            ]
          },
          "metadata": {},
          "execution_count": 17
        }
      ]
    },
    {
      "cell_type": "code",
      "execution_count": null,
      "metadata": {
        "colab": {
          "base_uri": "https://localhost:8080/"
        },
        "id": "BBOgwu07qaEb",
        "outputId": "4cc240e7-dfc0-4b9b-e0eb-d1456a7d2285"
      },
      "outputs": [
        {
          "output_type": "stream",
          "name": "stdout",
          "text": [
            "t size: 2 × 3 × 4\n"
          ]
        }
      ],
      "source": [
        "# t.size() is a classic tuple =>\n",
        "print('t size:', ' \\u00D7 '.join(map(str, t.size())))"
      ]
    },
    {
      "cell_type": "code",
      "execution_count": null,
      "metadata": {
        "colab": {
          "base_uri": "https://localhost:8080/"
        },
        "id": "5jhNX8_1qaEb",
        "outputId": "8545339a-b0c0-451c-8695-4a4618acd2da"
      },
      "outputs": [
        {
          "output_type": "stream",
          "name": "stdout",
          "text": [
            "point in a 24 dimensional space\n",
            "organised in 3 sub-dimensions\n"
          ]
        }
      ],
      "source": [
        "# prints dimensional space and sub-dimensions\n",
        "print(f'point in a {t.numel()} dimensional space')\n",
        "print(f'organised in {t.dim()} sub-dimensions')"
      ]
    },
    {
      "cell_type": "code",
      "source": [
        "t = torch.rand((2, 3, 4))\n",
        "t"
      ],
      "metadata": {
        "colab": {
          "base_uri": "https://localhost:8080/"
        },
        "id": "RsZ1X8DVxHxz",
        "outputId": "30e82ec2-a0c5-41c3-cfc0-6e87b9664846"
      },
      "execution_count": null,
      "outputs": [
        {
          "output_type": "execute_result",
          "data": {
            "text/plain": [
              "tensor([[[0.8798, 0.1690, 0.6948, 0.9597],\n",
              "         [0.5287, 0.9363, 0.7376, 0.6503],\n",
              "         [0.2598, 0.8212, 0.5942, 0.5317]],\n",
              "\n",
              "        [[0.7219, 0.8875, 0.1833, 0.5638],\n",
              "         [0.6080, 0.8321, 0.7608, 0.7106],\n",
              "         [0.3737, 0.4820, 0.4760, 0.0576]]])"
            ]
          },
          "metadata": {},
          "execution_count": 21
        }
      ]
    },
    {
      "cell_type": "code",
      "execution_count": null,
      "metadata": {
        "colab": {
          "base_uri": "https://localhost:8080/"
        },
        "id": "tei3tC4mqaEb",
        "outputId": "24759647-a89d-4dde-932e-368244013353"
      },
      "outputs": [
        {
          "output_type": "execute_result",
          "data": {
            "text/plain": [
              "tensor([[[8., 1., 9., 3.],\n",
              "         [4., 7., 0., 9.],\n",
              "         [4., 9., 7., 6.]],\n",
              "\n",
              "        [[2., 4., 0., 3.],\n",
              "         [4., 1., 0., 5.],\n",
              "         [4., 4., 9., 5.]]])"
            ]
          },
          "metadata": {},
          "execution_count": 39
        }
      ],
      "source": [
        "# Mind the underscore!\n",
        "# Any operation that mutates a tensor in-place is post-fixed with an _.\n",
        "# For example: x.copy_(y), x.t_(), x.random_(n) will change x.\n",
        "t.random_(10)"
      ]
    },
    {
      "cell_type": "code",
      "execution_count": null,
      "metadata": {
        "colab": {
          "base_uri": "https://localhost:8080/"
        },
        "id": "tuyT4HIBqaEc",
        "outputId": "3afb3efc-aa91-4c0c-caaf-9ae1b517f789"
      },
      "outputs": [
        {
          "output_type": "execute_result",
          "data": {
            "text/plain": [
              "tensor([[8., 1., 9., 3.],\n",
              "        [2., 4., 0., 3.]])"
            ]
          },
          "metadata": {},
          "execution_count": 40
        }
      ],
      "source": [
        "t[:, 0, :]\n"
      ]
    },
    {
      "cell_type": "code",
      "execution_count": null,
      "metadata": {
        "colab": {
          "base_uri": "https://localhost:8080/"
        },
        "id": "yp0qBzwuqaEc",
        "outputId": "0d669ac7-a7de-4a5f-ce5a-78a485da31c5"
      },
      "outputs": [
        {
          "output_type": "execute_result",
          "data": {
            "text/plain": [
              "tensor([[0., 0., 0., 0., 0., 0., 0., 0.],\n",
              "        [0., 0., 0., 0., 0., 0., 0., 0.],\n",
              "        [0., 0., 0., 0., 0., 0., 0., 0.]])"
            ]
          },
          "metadata": {},
          "execution_count": 26
        }
      ],
      "source": [
        "# This resizes the tensor permanently\n",
        "r = torch.Tensor(t)\n",
        "r.resize_(3, 8)\n",
        "r"
      ]
    },
    {
      "cell_type": "code",
      "execution_count": null,
      "metadata": {
        "colab": {
          "base_uri": "https://localhost:8080/"
        },
        "id": "VjwpbP2XqaEc",
        "outputId": "f68fdec5-bc1d-4452-ef8c-162138e6d583"
      },
      "outputs": [
        {
          "output_type": "execute_result",
          "data": {
            "text/plain": [
              "tensor([[0., 0., 0., 0., 0., 0., 0., 0.],\n",
              "        [0., 0., 0., 0., 0., 0., 0., 0.],\n",
              "        [0., 0., 0., 0., 0., 0., 0., 0.]])"
            ]
          },
          "metadata": {},
          "execution_count": 27
        }
      ],
      "source": [
        "# As you can see zero_ would replace r with 0's which was originally filled with integers\n",
        "r.zero_()\n"
      ]
    },
    {
      "cell_type": "code",
      "execution_count": null,
      "metadata": {
        "id": "3RAm9T6xqaEc"
      },
      "outputs": [],
      "source": [
        "# This *is* important\n",
        "from copy import deepcopy\n",
        "s = r.clone()"
      ]
    },
    {
      "cell_type": "code",
      "execution_count": null,
      "metadata": {
        "colab": {
          "base_uri": "https://localhost:8080/"
        },
        "id": "dsbGOFg1qaEc",
        "outputId": "823bd396-59ec-4721-b944-9817e3cbbe5e"
      },
      "outputs": [
        {
          "output_type": "execute_result",
          "data": {
            "text/plain": [
              "tensor([[10., 10., 10., 10., 10., 10., 10., 10.],\n",
              "        [10., 10., 10., 10., 10., 10., 10., 10.],\n",
              "        [10., 10., 10., 10., 10., 10., 10., 10.]])"
            ]
          },
          "metadata": {},
          "execution_count": 30
        }
      ],
      "source": [
        "# In-place fill of 1's\n",
        "s.fill_(10)\n",
        "s"
      ]
    },
    {
      "cell_type": "code",
      "execution_count": null,
      "metadata": {
        "colab": {
          "base_uri": "https://localhost:8080/"
        },
        "id": "bhuudcvQqaEc",
        "outputId": "94394484-3785-4ce2-820a-d85881a970fe"
      },
      "outputs": [
        {
          "output_type": "execute_result",
          "data": {
            "text/plain": [
              "tensor([[0., 0., 0., 0., 0., 0., 0., 0.],\n",
              "        [0., 0., 0., 0., 0., 0., 0., 0.],\n",
              "        [0., 0., 0., 0., 0., 0., 0., 0.]])"
            ]
          },
          "metadata": {},
          "execution_count": 31
        }
      ],
      "source": [
        "# Because we cloned r, even though we did an in-place operation, this doesn't affect r\n",
        "r"
      ]
    },
    {
      "cell_type": "markdown",
      "metadata": {
        "id": "VEc3qNKIqaEc"
      },
      "source": [
        "## Vectors (1D Tensors)"
      ]
    },
    {
      "cell_type": "code",
      "execution_count": null,
      "metadata": {
        "colab": {
          "base_uri": "https://localhost:8080/"
        },
        "id": "Nb4xwZfhqaEc",
        "outputId": "ab972a0d-769c-4204-82c4-37175769ed37"
      },
      "outputs": [
        {
          "output_type": "execute_result",
          "data": {
            "text/plain": [
              "tensor([2., 3., 4., 5.])"
            ]
          },
          "metadata": {},
          "execution_count": 52
        }
      ],
      "source": [
        "# Creates a 1D tensor of integers 1 to 4\n",
        "v = torch.Tensor([2,3,4, 5])\n",
        "v"
      ]
    },
    {
      "cell_type": "code",
      "execution_count": null,
      "metadata": {
        "colab": {
          "base_uri": "https://localhost:8080/"
        },
        "id": "16eXmw9nqaEc",
        "outputId": "d82c4685-9852-443d-80e2-56dbc697085d"
      },
      "outputs": [
        {
          "output_type": "stream",
          "name": "stdout",
          "text": [
            "dim: 1, size: 4\n"
          ]
        }
      ],
      "source": [
        "# Print number of dimensions (1D) and size of tensor\n",
        "print(f'dim: {v.dim()}, size: {v.size()[0]}')"
      ]
    },
    {
      "cell_type": "code",
      "source": [
        "print(v.shape)"
      ],
      "metadata": {
        "colab": {
          "base_uri": "https://localhost:8080/"
        },
        "id": "_Vu-W_oivrgH",
        "outputId": "37d65094-4776-4017-ff50-f24faf38884e"
      },
      "execution_count": null,
      "outputs": [
        {
          "output_type": "stream",
          "name": "stdout",
          "text": [
            "torch.Size([2, 3, 4])\n"
          ]
        }
      ]
    },
    {
      "cell_type": "code",
      "execution_count": null,
      "metadata": {
        "colab": {
          "base_uri": "https://localhost:8080/"
        },
        "id": "RbEcSerbqaEc",
        "outputId": "b7f84320-cdc3-4ae3-dd2f-bb7a1da035d5"
      },
      "outputs": [
        {
          "output_type": "execute_result",
          "data": {
            "text/plain": [
              "tensor([1., 2., 0., 2.])"
            ]
          },
          "metadata": {},
          "execution_count": 53
        }
      ],
      "source": [
        "w = torch.Tensor([1, 2, 0, 2])\n",
        "w"
      ]
    },
    {
      "cell_type": "code",
      "execution_count": null,
      "metadata": {
        "colab": {
          "base_uri": "https://localhost:8080/"
        },
        "id": "sbz9gFC6qaEc",
        "outputId": "27e628dd-de06-4acc-8a58-11fd93d43306"
      },
      "outputs": [
        {
          "output_type": "execute_result",
          "data": {
            "text/plain": [
              "tensor([ 2.,  6.,  0., 10.])"
            ]
          },
          "metadata": {},
          "execution_count": 54
        }
      ],
      "source": [
        "# Element-wise multiplication\n",
        "v * w"
      ]
    },
    {
      "cell_type": "code",
      "execution_count": null,
      "metadata": {
        "colab": {
          "base_uri": "https://localhost:8080/"
        },
        "id": "vxxkD-1kqaEc",
        "outputId": "9d77b874-6c02-49b5-99c7-b14dad33debd"
      },
      "outputs": [
        {
          "output_type": "execute_result",
          "data": {
            "text/plain": [
              "tensor(18.)"
            ]
          },
          "metadata": {},
          "execution_count": 55
        }
      ],
      "source": [
        "# Scalar product: 1*1 + 2*0 + 3*2 + 4*0\n",
        "v @ w"
      ]
    },
    {
      "cell_type": "code",
      "execution_count": null,
      "metadata": {
        "colab": {
          "base_uri": "https://localhost:8080/"
        },
        "id": "rJL-IxoxqaEc",
        "outputId": "1cbcf8cd-6734-425b-db50-adf9a1466f16"
      },
      "outputs": [
        {
          "output_type": "execute_result",
          "data": {
            "text/plain": [
              "tensor([8., 7., 2., 7., 0.])"
            ]
          },
          "metadata": {},
          "execution_count": 63
        }
      ],
      "source": [
        "# In-place replacement of random number from 0 to 10\n",
        "x = torch.Tensor(5).random_(10)\n",
        "x"
      ]
    },
    {
      "cell_type": "code",
      "execution_count": null,
      "metadata": {
        "colab": {
          "base_uri": "https://localhost:8080/"
        },
        "id": "XjrTRnxhqaEc",
        "outputId": "57c2b945-63d0-4d9a-e6cf-fe4128d1e31d"
      },
      "outputs": [
        {
          "output_type": "stream",
          "name": "stdout",
          "text": [
            "first: 8.0, last: 0.0\n"
          ]
        }
      ],
      "source": [
        "print(f'first: {x[0]}, last: {x[-1]}')"
      ]
    },
    {
      "cell_type": "code",
      "execution_count": null,
      "metadata": {
        "colab": {
          "base_uri": "https://localhost:8080/"
        },
        "id": "LBd7fkY1qaEc",
        "outputId": "ba5a009c-a274-41d5-e469-fe5a07d98c7e"
      },
      "outputs": [
        {
          "output_type": "execute_result",
          "data": {
            "text/plain": [
              "tensor([7., 2.])"
            ]
          },
          "metadata": {},
          "execution_count": 65
        }
      ],
      "source": [
        "# Extract sub-Tensor [from:to)\n",
        "x[1:2 + 1]"
      ]
    },
    {
      "cell_type": "code",
      "execution_count": null,
      "metadata": {
        "colab": {
          "base_uri": "https://localhost:8080/"
        },
        "id": "NtYhAt1yqaEc",
        "outputId": "2683a8f5-9750-4438-88c0-3ee204c9d487"
      },
      "outputs": [
        {
          "output_type": "execute_result",
          "data": {
            "text/plain": [
              "tensor([1., 2., 3., 4.])"
            ]
          },
          "metadata": {},
          "execution_count": 42
        }
      ],
      "source": [
        "v"
      ]
    },
    {
      "cell_type": "code",
      "execution_count": null,
      "metadata": {
        "colab": {
          "base_uri": "https://localhost:8080/"
        },
        "id": "O_1XXJkNqaEd",
        "outputId": "192c29cc-f342-4f27-deda-e86c7cedc3e8"
      },
      "outputs": [
        {
          "output_type": "execute_result",
          "data": {
            "text/plain": [
              "tensor([1, 2, 3, 4])"
            ]
          },
          "metadata": {},
          "execution_count": 66
        }
      ],
      "source": [
        "# Create a tensor with integers ranging from 1 to 5, excluding 5\n",
        "v = torch.arange(1, 4 + 1).to('cuda')\n",
        "v"
      ]
    },
    {
      "cell_type": "code",
      "execution_count": null,
      "metadata": {
        "colab": {
          "base_uri": "https://localhost:8080/"
        },
        "id": "_e4liZ2FqaEd",
        "outputId": "9cb20c03-0059-4536-d395-033f7759b079"
      },
      "outputs": [
        {
          "output_type": "stream",
          "name": "stdout",
          "text": [
            "tensor([ 1,  4,  9, 16]) tensor([1, 2, 3, 4])\n"
          ]
        }
      ],
      "source": [
        "# Square all elements in the tensor\n",
        "print(v.pow(2), v)"
      ]
    },
    {
      "cell_type": "markdown",
      "metadata": {
        "id": "OPNQ-VytqaEd"
      },
      "source": [
        "## Matrices (2D Tensors)"
      ]
    },
    {
      "cell_type": "code",
      "execution_count": null,
      "metadata": {
        "colab": {
          "base_uri": "https://localhost:8080/"
        },
        "id": "9On6T7eLqaEd",
        "outputId": "dca593da-0dd5-48bf-92a4-cd5bf364e793"
      },
      "outputs": [
        {
          "output_type": "execute_result",
          "data": {
            "text/plain": [
              "tensor([[2., 5., 3., 7.],\n",
              "        [4., 2., 1., 9.]])"
            ]
          },
          "metadata": {},
          "execution_count": 105
        }
      ],
      "source": [
        "import numpy as np\n",
        "# Create a 2x4 tensor\n",
        "m = torch.Tensor(np.array([[2, 5, 3, 7],\n",
        "                  [4, 2, 1, 9]]))\n",
        "m"
      ]
    },
    {
      "cell_type": "code",
      "execution_count": null,
      "metadata": {
        "colab": {
          "base_uri": "https://localhost:8080/"
        },
        "id": "9MHPJO0BqaEd",
        "outputId": "4ecfe5fb-72fc-4abe-ec01-539aa3d64710"
      },
      "outputs": [
        {
          "output_type": "execute_result",
          "data": {
            "text/plain": [
              "2"
            ]
          },
          "metadata": {},
          "execution_count": 106
        }
      ],
      "source": [
        "m.dim()"
      ]
    },
    {
      "cell_type": "code",
      "execution_count": null,
      "metadata": {
        "colab": {
          "base_uri": "https://localhost:8080/"
        },
        "id": "odk4LOCFqaEd",
        "outputId": "ccabeca5-ae31-420e-e1f4-68c62c198263"
      },
      "outputs": [
        {
          "output_type": "stream",
          "name": "stdout",
          "text": [
            "2 -- 4 -- torch.Size([2, 4])\n"
          ]
        }
      ],
      "source": [
        "print(m.size(0), m.size(1), m.size(), sep=' -- ')"
      ]
    },
    {
      "cell_type": "code",
      "execution_count": null,
      "metadata": {
        "colab": {
          "base_uri": "https://localhost:8080/"
        },
        "id": "0jg6hw7nqaEd",
        "outputId": "2d43070d-c41b-48fe-ad1f-2c9e6f4d097f"
      },
      "outputs": [
        {
          "output_type": "execute_result",
          "data": {
            "text/plain": [
              "8"
            ]
          },
          "metadata": {},
          "execution_count": 108
        }
      ],
      "source": [
        "# Returns the total number of elements, hence num-el (number of elements)\n",
        "m.numel()"
      ]
    },
    {
      "cell_type": "code",
      "execution_count": null,
      "metadata": {
        "colab": {
          "base_uri": "https://localhost:8080/"
        },
        "id": "GTgQ4rQPqaEd",
        "outputId": "ba0e5c1d-376e-4068-eed0-863e1056bf49"
      },
      "outputs": [
        {
          "output_type": "execute_result",
          "data": {
            "text/plain": [
              "tensor([3., 7.])"
            ]
          },
          "metadata": {},
          "execution_count": 109
        }
      ],
      "source": [
        "# Indexing row 0, column 2 (0-indexed)\n",
        "m[0][2:4]"
      ]
    },
    {
      "cell_type": "code",
      "execution_count": null,
      "metadata": {
        "colab": {
          "base_uri": "https://localhost:8080/"
        },
        "id": "TtHfFc-5qaEd",
        "outputId": "d4a42822-842b-4593-9c6e-178e26a4c1e2"
      },
      "outputs": [
        {
          "output_type": "execute_result",
          "data": {
            "text/plain": [
              "tensor(3.)"
            ]
          },
          "metadata": {},
          "execution_count": 110
        }
      ],
      "source": [
        "# Indexing row 0, column 2 (0-indexed)\n",
        "m[0, 2]"
      ]
    },
    {
      "cell_type": "code",
      "execution_count": null,
      "metadata": {
        "colab": {
          "base_uri": "https://localhost:8080/"
        },
        "id": "lQLeU3s1qaEd",
        "outputId": "97d4c024-49df-4774-f432-638d598a24ab"
      },
      "outputs": [
        {
          "output_type": "execute_result",
          "data": {
            "text/plain": [
              "tensor([5., 2.])"
            ]
          },
          "metadata": {},
          "execution_count": 111
        }
      ],
      "source": [
        "# Indexing column 1, all rows (returns size 2)\n",
        "m[:, 1]"
      ]
    },
    {
      "cell_type": "code",
      "execution_count": null,
      "metadata": {
        "colab": {
          "base_uri": "https://localhost:8080/"
        },
        "id": "KTFAUaz3qaEd",
        "outputId": "a64d9c89-29ac-4d95-83ac-bad956d44790"
      },
      "outputs": [
        {
          "output_type": "execute_result",
          "data": {
            "text/plain": [
              "tensor([[5.],\n",
              "        [2.]])"
            ]
          },
          "metadata": {},
          "execution_count": 112
        }
      ],
      "source": [
        "# Indexing column 1, all rows (returns size 2x1)\n",
        "m[:, [1]]"
      ]
    },
    {
      "cell_type": "code",
      "source": [
        "m"
      ],
      "metadata": {
        "colab": {
          "base_uri": "https://localhost:8080/"
        },
        "id": "1zVJirI77uDI",
        "outputId": "6eb9e565-3f5d-4818-8f44-5427270d79c9"
      },
      "execution_count": null,
      "outputs": [
        {
          "output_type": "execute_result",
          "data": {
            "text/plain": [
              "tensor([[5.],\n",
              "        [2.]])"
            ]
          },
          "metadata": {},
          "execution_count": 89
        }
      ]
    },
    {
      "cell_type": "code",
      "source": [
        "m.unsqueeze(dim=1)"
      ],
      "metadata": {
        "colab": {
          "base_uri": "https://localhost:8080/"
        },
        "id": "ZD80PER97rYK",
        "outputId": "1afa5022-2fee-4128-ae35-df3cba5a92d8"
      },
      "execution_count": null,
      "outputs": [
        {
          "output_type": "execute_result",
          "data": {
            "text/plain": [
              "tensor([[[5.]],\n",
              "\n",
              "        [[2.]]])"
            ]
          },
          "metadata": {},
          "execution_count": 93
        }
      ]
    },
    {
      "cell_type": "code",
      "execution_count": null,
      "metadata": {
        "colab": {
          "base_uri": "https://localhost:8080/"
        },
        "id": "RPz0kCA4qaEd",
        "outputId": "91375b6f-4bf5-4054-8223-43c9fec82628"
      },
      "outputs": [
        {
          "output_type": "execute_result",
          "data": {
            "text/plain": [
              "tensor([[2., 5., 3., 7.]])"
            ]
          },
          "metadata": {},
          "execution_count": 57
        }
      ],
      "source": [
        "# Indexes row 0, all columns (returns 1x4)\n",
        "m[[0], :]"
      ]
    },
    {
      "cell_type": "code",
      "execution_count": null,
      "metadata": {
        "colab": {
          "base_uri": "https://localhost:8080/"
        },
        "id": "UOs1DC8hqaEd",
        "outputId": "9dc643bf-4286-4158-8e88-71b2b4d78f71"
      },
      "outputs": [
        {
          "output_type": "execute_result",
          "data": {
            "text/plain": [
              "tensor([2., 5., 3., 7.])"
            ]
          },
          "metadata": {},
          "execution_count": 113
        }
      ],
      "source": [
        "# Indexes row 0, all columns (returns size 4)\n",
        "m[0, :]"
      ]
    },
    {
      "cell_type": "code",
      "execution_count": null,
      "metadata": {
        "colab": {
          "base_uri": "https://localhost:8080/"
        },
        "id": "QHHlvyIxqaEd",
        "outputId": "e69ebd41-eb5b-4b81-b9b6-ab50ee67340b"
      },
      "outputs": [
        {
          "output_type": "execute_result",
          "data": {
            "text/plain": [
              "tensor([1., 2., 3., 4.])"
            ]
          },
          "metadata": {},
          "execution_count": 114
        }
      ],
      "source": [
        "# Create tensor of numbers from 1 to 5 (excluding 5)\n",
        "v = torch.arange(1., 4 + 1)\n",
        "v"
      ]
    },
    {
      "cell_type": "code",
      "execution_count": null,
      "metadata": {
        "colab": {
          "base_uri": "https://localhost:8080/"
        },
        "id": "ufK3R1skqaEd",
        "outputId": "0219c7aa-756a-4e9c-dadf-6a4b6e8906ba"
      },
      "outputs": [
        {
          "output_type": "execute_result",
          "data": {
            "text/plain": [
              "tensor([[2., 5., 3., 7.],\n",
              "        [4., 2., 1., 9.]])"
            ]
          },
          "metadata": {},
          "execution_count": 115
        }
      ],
      "source": [
        "m"
      ]
    },
    {
      "cell_type": "code",
      "execution_count": null,
      "metadata": {
        "colab": {
          "base_uri": "https://localhost:8080/"
        },
        "id": "yQg5daRHqaEd",
        "outputId": "939d2e09-6270-4f74-94f1-136a588723df"
      },
      "outputs": [
        {
          "output_type": "execute_result",
          "data": {
            "text/plain": [
              "tensor([49., 47.])"
            ]
          },
          "metadata": {},
          "execution_count": 116
        }
      ],
      "source": [
        "# Scalar product\n",
        "m @ v"
      ]
    },
    {
      "cell_type": "code",
      "execution_count": null,
      "metadata": {
        "colab": {
          "base_uri": "https://localhost:8080/"
        },
        "id": "z8cAIFodqaEd",
        "outputId": "a3e18d0f-0550-4d62-afd9-e90832e87a7d"
      },
      "outputs": [
        {
          "output_type": "execute_result",
          "data": {
            "text/plain": [
              "tensor([49.])"
            ]
          },
          "metadata": {},
          "execution_count": 117
        }
      ],
      "source": [
        "# Calculated by 1*2 + 2*5 + 3*3 + 4*7\n",
        "m[[0], :] @ v"
      ]
    },
    {
      "cell_type": "code",
      "execution_count": null,
      "metadata": {
        "colab": {
          "base_uri": "https://localhost:8080/"
        },
        "id": "sZjW73yDqaEd",
        "outputId": "cad29f4e-9b36-492c-bfbc-0be01026470b"
      },
      "outputs": [
        {
          "output_type": "execute_result",
          "data": {
            "text/plain": [
              "tensor([47.])"
            ]
          },
          "metadata": {},
          "execution_count": 63
        }
      ],
      "source": [
        "# Calculated by\n",
        "m[[1], :] @ v"
      ]
    },
    {
      "cell_type": "code",
      "execution_count": null,
      "metadata": {
        "colab": {
          "base_uri": "https://localhost:8080/"
        },
        "id": "p43yXl5GqaEd",
        "outputId": "7a4efd43-0f4c-4764-ec57-06c879ba1f6e"
      },
      "outputs": [
        {
          "output_type": "execute_result",
          "data": {
            "text/plain": [
              "tensor([[2.9513, 5.8047, 3.4824, 7.0038],\n",
              "        [4.5683, 2.4704, 1.7936, 9.8555]])"
            ]
          },
          "metadata": {},
          "execution_count": 118
        }
      ],
      "source": [
        "# Add a random tensor of size 2x4 to m\n",
        "m + torch.rand(2, 4)"
      ]
    },
    {
      "cell_type": "code",
      "execution_count": null,
      "metadata": {
        "colab": {
          "base_uri": "https://localhost:8080/"
        },
        "id": "vHmLxKh6qaEd",
        "outputId": "c7355c16-a22b-4aa7-95fc-71061311f797"
      },
      "outputs": [
        {
          "output_type": "execute_result",
          "data": {
            "text/plain": [
              "tensor([[1.7349, 4.1189, 2.2783, 6.6131],\n",
              "        [3.7583, 1.4562, 0.6125, 8.1628]])"
            ]
          },
          "metadata": {},
          "execution_count": 119
        }
      ],
      "source": [
        "# Subtract a random tensor of size 2x4 to m\n",
        "m - torch.rand(2, 4)"
      ]
    },
    {
      "cell_type": "code",
      "execution_count": null,
      "metadata": {
        "colab": {
          "base_uri": "https://localhost:8080/"
        },
        "id": "FpsCU_5eqaEe",
        "outputId": "7793d684-2dc7-4bb1-fbb6-94622a7d4ae4"
      },
      "outputs": [
        {
          "output_type": "execute_result",
          "data": {
            "text/plain": [
              "tensor([[0.8412, 0.1258, 1.2448, 5.0099],\n",
              "        [3.7915, 0.2258, 0.8141, 3.1145]])"
            ]
          },
          "metadata": {},
          "execution_count": 120
        }
      ],
      "source": [
        "# Multiply a random tensor of size 2x4 to m\n",
        "m * torch.rand(2, 4)"
      ]
    },
    {
      "cell_type": "code",
      "execution_count": null,
      "metadata": {
        "colab": {
          "base_uri": "https://localhost:8080/"
        },
        "id": "5EKM2A8FqaEe",
        "outputId": "8d2ac533-1ff0-45a2-a92c-9786db1df6f0"
      },
      "outputs": [
        {
          "output_type": "execute_result",
          "data": {
            "text/plain": [
              "tensor([[ 2.8001, 12.8031,  3.6713, 20.4482],\n",
              "        [ 4.7784,  2.3005,  1.4782, 15.5765]])"
            ]
          },
          "metadata": {},
          "execution_count": 121
        }
      ],
      "source": [
        "# Divide m by a random tensor of size 2x4\n",
        "m / torch.rand(2, 4)"
      ]
    },
    {
      "cell_type": "code",
      "execution_count": null,
      "metadata": {
        "colab": {
          "base_uri": "https://localhost:8080/"
        },
        "id": "j9pyN3-_qaEe",
        "outputId": "f307a7f9-b96e-40c9-f5a7-34f7f9700017"
      },
      "outputs": [
        {
          "output_type": "execute_result",
          "data": {
            "text/plain": [
              "torch.Size([2, 4])"
            ]
          },
          "metadata": {},
          "execution_count": 122
        }
      ],
      "source": [
        "m.size()"
      ]
    },
    {
      "cell_type": "code",
      "execution_count": null,
      "metadata": {
        "colab": {
          "base_uri": "https://localhost:8080/"
        },
        "id": "zn5FVrWZqaEe",
        "outputId": "93b07979-b346-4d85-a3ab-3ca04b6c3826"
      },
      "outputs": [
        {
          "output_type": "execute_result",
          "data": {
            "text/plain": [
              "tensor([[2., 4.],\n",
              "        [5., 2.],\n",
              "        [3., 1.],\n",
              "        [7., 9.]])"
            ]
          },
          "metadata": {},
          "execution_count": 127
        }
      ],
      "source": [
        "# Transpose tensor m, which is essentially 2x4 to 4x2\n",
        "m.T"
      ]
    },
    {
      "cell_type": "code",
      "execution_count": null,
      "metadata": {
        "colab": {
          "base_uri": "https://localhost:8080/"
        },
        "id": "KydzG-QqqaEe",
        "outputId": "d7008f35-fa99-40ac-bcdb-1d1312ff5af5"
      },
      "outputs": [
        {
          "output_type": "execute_result",
          "data": {
            "text/plain": [
              "tensor([[2., 4.],\n",
              "        [5., 2.],\n",
              "        [3., 1.],\n",
              "        [7., 9.]])"
            ]
          },
          "metadata": {},
          "execution_count": 128
        }
      ],
      "source": [
        "# Same as\n",
        "m.transpose(0, 1)"
      ]
    },
    {
      "cell_type": "markdown",
      "metadata": {
        "id": "SEKZa0miqaEe"
      },
      "source": [
        "## Constructors"
      ]
    },
    {
      "cell_type": "code",
      "execution_count": null,
      "metadata": {
        "colab": {
          "base_uri": "https://localhost:8080/"
        },
        "id": "YzRZU67BqaEe",
        "outputId": "68b656de-63c7-4a07-c1b9-7902e4f487a7"
      },
      "outputs": [
        {
          "output_type": "execute_result",
          "data": {
            "text/plain": [
              "tensor([3, 6], dtype=torch.int8)"
            ]
          },
          "metadata": {},
          "execution_count": 131
        }
      ],
      "source": [
        "# Create tensor from 3 to 8, with each having a space of 1\n",
        "torch.arange(3., 8 + 1,  3, dtype=torch.int8)"
      ]
    },
    {
      "cell_type": "code",
      "execution_count": null,
      "metadata": {
        "id": "9S-BT2hbqaEe",
        "outputId": "5800dd9d-86ef-457c-9200-be862e54a2f8"
      },
      "outputs": [
        {
          "data": {
            "text/plain": [
              "tensor([ 5.7000,  2.7000, -0.3000])"
            ]
          },
          "execution_count": 68,
          "metadata": {},
          "output_type": "execute_result"
        }
      ],
      "source": [
        "# Create tensor from 5.7 to -2.1 with each having a space of -3\n",
        "torch.arange(5.7, -2.1, -3)"
      ]
    },
    {
      "cell_type": "code",
      "execution_count": null,
      "metadata": {
        "colab": {
          "base_uri": "https://localhost:8080/"
        },
        "id": "UqL9w4XEqaEe",
        "outputId": "0d0331eb-3854-4843-cba1-a94f2b1cb3bd"
      },
      "outputs": [
        {
          "output_type": "execute_result",
          "data": {
            "text/plain": [
              "tensor([3.0000, 3.0251, 3.0503, 3.0754, 3.1005, 3.1256, 3.1508, 3.1759, 3.2010,\n",
              "        3.2261, 3.2513, 3.2764, 3.3015, 3.3266, 3.3518, 3.3769, 3.4020, 3.4271,\n",
              "        3.4523, 3.4774, 3.5025, 3.5276, 3.5528, 3.5779, 3.6030, 3.6281, 3.6533,\n",
              "        3.6784, 3.7035, 3.7286, 3.7538, 3.7789, 3.8040, 3.8291, 3.8543, 3.8794,\n",
              "        3.9045, 3.9296, 3.9548, 3.9799, 4.0050, 4.0302, 4.0553, 4.0804, 4.1055,\n",
              "        4.1307, 4.1558, 4.1809, 4.2060, 4.2312, 4.2563, 4.2814, 4.3065, 4.3317,\n",
              "        4.3568, 4.3819, 4.4070, 4.4322, 4.4573, 4.4824, 4.5075, 4.5327, 4.5578,\n",
              "        4.5829, 4.6080, 4.6332, 4.6583, 4.6834, 4.7085, 4.7337, 4.7588, 4.7839,\n",
              "        4.8090, 4.8342, 4.8593, 4.8844, 4.9095, 4.9347, 4.9598, 4.9849, 5.0101,\n",
              "        5.0352, 5.0603, 5.0854, 5.1106, 5.1357, 5.1608, 5.1859, 5.2111, 5.2362,\n",
              "        5.2613, 5.2864, 5.3116, 5.3367, 5.3618, 5.3869, 5.4121, 5.4372, 5.4623,\n",
              "        5.4874, 5.5126, 5.5377, 5.5628, 5.5879, 5.6131, 5.6382, 5.6633, 5.6884,\n",
              "        5.7136, 5.7387, 5.7638, 5.7889, 5.8141, 5.8392, 5.8643, 5.8894, 5.9146,\n",
              "        5.9397, 5.9648, 5.9899, 6.0151, 6.0402, 6.0653, 6.0905, 6.1156, 6.1407,\n",
              "        6.1658, 6.1910, 6.2161, 6.2412, 6.2663, 6.2915, 6.3166, 6.3417, 6.3668,\n",
              "        6.3920, 6.4171, 6.4422, 6.4673, 6.4925, 6.5176, 6.5427, 6.5678, 6.5930,\n",
              "        6.6181, 6.6432, 6.6683, 6.6935, 6.7186, 6.7437, 6.7688, 6.7940, 6.8191,\n",
              "        6.8442, 6.8693, 6.8945, 6.9196, 6.9447, 6.9698, 6.9950, 7.0201, 7.0452,\n",
              "        7.0704, 7.0955, 7.1206, 7.1457, 7.1709, 7.1960, 7.2211, 7.2462, 7.2714,\n",
              "        7.2965, 7.3216, 7.3467, 7.3719, 7.3970, 7.4221, 7.4472, 7.4724, 7.4975,\n",
              "        7.5226, 7.5477, 7.5729, 7.5980, 7.6231, 7.6482, 7.6734, 7.6985, 7.7236,\n",
              "        7.7487, 7.7739, 7.7990, 7.8241, 7.8492, 7.8744, 7.8995, 7.9246, 7.9497,\n",
              "        7.9749, 8.0000])"
            ]
          },
          "metadata": {},
          "execution_count": 135
        }
      ],
      "source": [
        "# returns a 1D tensor of steps equally spaced points between start=3, end=8 and steps=20\n",
        "torch.linspace(3, 8, 200)"
      ]
    },
    {
      "cell_type": "code",
      "execution_count": null,
      "metadata": {
        "id": "VmvANdnaqaEe",
        "outputId": "af8ecef1-b276-42df-e8a6-ec0d339b61c3"
      },
      "outputs": [
        {
          "data": {
            "text/plain": [
              "tensor([[0., 0., 0., 0., 0.],\n",
              "        [0., 0., 0., 0., 0.],\n",
              "        [0., 0., 0., 0., 0.]])"
            ]
          },
          "execution_count": 70,
          "metadata": {},
          "output_type": "execute_result"
        }
      ],
      "source": [
        "|# Create a tensor filled with 0's\n",
        "torch.zeros(3, 5)"
      ]
    },
    {
      "cell_type": "code",
      "execution_count": null,
      "metadata": {
        "id": "wpU0lI9RqaEe",
        "outputId": "fa4fa77f-e6d1-49b6-b584-1388bf24cbad"
      },
      "outputs": [
        {
          "data": {
            "text/plain": [
              "tensor([[[1., 1., 1., 1., 1.],\n",
              "         [1., 1., 1., 1., 1.]],\n",
              "\n",
              "        [[1., 1., 1., 1., 1.],\n",
              "         [1., 1., 1., 1., 1.]],\n",
              "\n",
              "        [[1., 1., 1., 1., 1.],\n",
              "         [1., 1., 1., 1., 1.]]])"
            ]
          },
          "execution_count": 73,
          "metadata": {},
          "output_type": "execute_result"
        }
      ],
      "source": [
        "# Create a tensor filled with 1's\n",
        "t = torch.ones(3, 2, 5)\n"
      ]
    },
    {
      "cell_type": "code",
      "execution_count": null,
      "metadata": {
        "id": "JvwDR46IqaEe",
        "outputId": "aaac24e9-6632-41a8-b2d6-5a2871553f4c"
      },
      "outputs": [
        {
          "data": {
            "text/plain": [
              "tensor([[1., 0., 0.],\n",
              "        [0., 1., 0.],\n",
              "        [0., 0., 1.]])"
            ]
          },
          "execution_count": 74,
          "metadata": {},
          "output_type": "execute_result"
        }
      ],
      "source": [
        "# Create a tensor with the diagonal filled with 1\n",
        "torch.eye(3)"
      ]
    },
    {
      "cell_type": "code",
      "execution_count": null,
      "metadata": {
        "id": "K7vNuNERqaEe"
      },
      "outputs": [],
      "source": [
        "from matplotlib import pyplot as plt"
      ]
    },
    {
      "cell_type": "code",
      "execution_count": null,
      "metadata": {
        "colab": {
          "base_uri": "https://localhost:8080/",
          "height": 430
        },
        "id": "sjLIFQbFqaEe",
        "outputId": "30222f57-fc40-4b85-f4eb-107b0c7df0da"
      },
      "outputs": [
        {
          "output_type": "display_data",
          "data": {
            "text/plain": [
              "<Figure size 640x480 with 1 Axes>"
            ],
            "image/png": "[encoded data removed]"
          },
          "metadata": {}
        }
      ],
      "source": [
        "# Numpy bridge!\n",
        "\n",
        "plt.hist(torch.randn(1000).numpy(), 100);"
      ]
    },
    {
      "cell_type": "code",
      "execution_count": null,
      "metadata": {
        "colab": {
          "base_uri": "https://localhost:8080/",
          "height": 430
        },
        "id": "TJ-M5sv9qaEe",
        "outputId": "3fdede67-b196-4652-8d8f-a9fc2eeb12ad"
      },
      "outputs": [
        {
          "output_type": "display_data",
          "data": {
            "text/plain": [
              "<Figure size 640x480 with 1 Axes>"
            ],
            "image/png": "[encoded data removed]"
          },
          "metadata": {}
        }
      ],
      "source": [
        "plt.hist(torch.randn(10**6).numpy(), 100);  # how much does this chart weight?\n",
        "# use rasterized=True for SVG/EPS/PDF!"
      ]
    },
    {
      "cell_type": "code",
      "execution_count": null,
      "metadata": {
        "colab": {
          "base_uri": "https://localhost:8080/",
          "height": 430
        },
        "id": "b5_egKfqqaEe",
        "outputId": "5ed1d07a-e52c-40c8-db01-d2a65c72403e"
      },
      "outputs": [
        {
          "output_type": "display_data",
          "data": {
            "text/plain": [
              "<Figure size 640x480 with 1 Axes>"
            ],
            "image/png": "[encoded data removed]"
          },
          "metadata": {}
        }
      ],
      "source": [
        "plt.hist(torch.rand(10**6).numpy(), 100);"
      ]
    },
    {
      "cell_type": "markdown",
      "metadata": {
        "id": "YIEz08PIqaEe"
      },
      "source": [
        "## Casting"
      ]
    },
    {
      "cell_type": "code",
      "execution_count": null,
      "metadata": {
        "id": "omgB0qixqaEe"
      },
      "outputs": [],
      "source": [
        "# Helper to get what kind of tensor types\n",
        "torch.*Tensor?"
      ]
    },
    {
      "cell_type": "code",
      "execution_count": null,
      "metadata": {
        "id": "Bll4HIzRqaEe",
        "outputId": "dd47b97c-8983-44eb-8882-2c49b839412e"
      },
      "outputs": [
        {
          "data": {
            "text/plain": [
              "tensor([[2., 5., 3., 7.],\n",
              "        [4., 2., 1., 9.]])"
            ]
          },
          "execution_count": 77,
          "metadata": {},
          "output_type": "execute_result"
        }
      ],
      "source": [
        "m"
      ]
    },
    {
      "cell_type": "code",
      "execution_count": null,
      "metadata": {
        "colab": {
          "base_uri": "https://localhost:8080/"
        },
        "id": "E6cn-FX_qaEe",
        "outputId": "50538755-bab0-4a04-80cf-c8a40b7424f4"
      },
      "outputs": [
        {
          "output_type": "execute_result",
          "data": {
            "text/plain": [
              "tensor([[2., 5., 3., 7.],\n",
              "        [4., 2., 1., 9.]], dtype=torch.float64)"
            ]
          },
          "metadata": {},
          "execution_count": 75
        }
      ],
      "source": [
        "# This is basically a 64 bit float tensor\n",
        "m_double = m.double()\n",
        "m_double"
      ]
    },
    {
      "cell_type": "code",
      "execution_count": null,
      "metadata": {
        "colab": {
          "base_uri": "https://localhost:8080/"
        },
        "id": "uzO1w_htqaEe",
        "outputId": "e6eff1a8-5f57-48e8-8cb5-9379e0020f22"
      },
      "outputs": [
        {
          "output_type": "execute_result",
          "data": {
            "text/plain": [
              "tensor([[2, 5, 3, 7],\n",
              "        [4, 2, 1, 9]], dtype=torch.uint8)"
            ]
          },
          "metadata": {},
          "execution_count": 76
        }
      ],
      "source": [
        "# This creates a tensor of type int8\n",
        "m_byte = m.byte()\n",
        "m_byte"
      ]
    },
    {
      "cell_type": "code",
      "execution_count": null,
      "metadata": {
        "colab": {
          "base_uri": "https://localhost:8080/"
        },
        "id": "KmuwWwEcqaEf",
        "outputId": "c8457557-c5d3-4971-bb52-095864b4c3c2"
      },
      "outputs": [
        {
          "output_type": "execute_result",
          "data": {
            "text/plain": [
              "tensor([[2., 5., 3., 7.],\n",
              "        [4., 2., 1., 9.]])"
            ]
          },
          "metadata": {},
          "execution_count": 143
        }
      ],
      "source": [
        "# Move your tensor to GPU device 0 if there is one (first GPU in the system)\n",
        "device = torch.device(\"cuda\" if torch.cuda.is_available() else \"cpu\")\n",
        "m.to('cpu')"
      ]
    },
    {
      "cell_type": "code",
      "execution_count": null,
      "metadata": {
        "colab": {
          "base_uri": "https://localhost:8080/"
        },
        "id": "cv_kOTxkqaEf",
        "outputId": "aeb895cc-86c7-4f13-9760-813aaf7c0efd"
      },
      "outputs": [
        {
          "output_type": "execute_result",
          "data": {
            "text/plain": [
              "array([[2., 5., 3., 7.],\n",
              "       [4., 2., 1., 9.]], dtype=float32)"
            ]
          },
          "metadata": {},
          "execution_count": 78
        }
      ],
      "source": [
        "# Converts tensor to numpy array\n",
        "m_np = m.numpy()\n",
        "m_np"
      ]
    },
    {
      "cell_type": "code",
      "execution_count": null,
      "metadata": {
        "colab": {
          "base_uri": "https://localhost:8080/"
        },
        "id": "wE9Jd9GtqaEf",
        "outputId": "71ea9a24-de3f-493e-c4c4-ffc4039d1cea"
      },
      "outputs": [
        {
          "output_type": "execute_result",
          "data": {
            "text/plain": [
              "array([[-1.,  5.,  3.,  7.],\n",
              "       [ 4.,  2.,  1.,  9.]], dtype=float32)"
            ]
          },
          "metadata": {},
          "execution_count": 79
        }
      ],
      "source": [
        "# In-place fill of column 0 and row 0 with value -1\n",
        "m_np[0, 0] = -1\n",
        "m_np"
      ]
    },
    {
      "cell_type": "code",
      "execution_count": null,
      "metadata": {
        "colab": {
          "base_uri": "https://localhost:8080/"
        },
        "id": "V-8tEGTNqaEf",
        "outputId": "7606d0c4-81fd-4bbf-d4b1-e5deffe39c6b"
      },
      "outputs": [
        {
          "output_type": "execute_result",
          "data": {
            "text/plain": [
              "tensor([[-1.,  5.,  3.,  7.],\n",
              "        [ 4.,  2.,  1.,  9.]])"
            ]
          },
          "metadata": {},
          "execution_count": 80
        }
      ],
      "source": [
        "m"
      ]
    },
    {
      "cell_type": "code",
      "execution_count": null,
      "metadata": {
        "colab": {
          "base_uri": "https://localhost:8080/"
        },
        "id": "CdKSQgKDqaEf",
        "outputId": "1b73adfd-77ef-429b-a336-bd4950457c7e"
      },
      "outputs": [
        {
          "output_type": "stream",
          "name": "stdout",
          "text": [
            "[0 1 2 3 4] tensor([0, 1, 2, 3, 4])\n"
          ]
        }
      ],
      "source": [
        "# Create a tensor of integers ranging from 0 to 4\n",
        "import numpy as np\n",
        "n_np = np.arange(5)\n",
        "n = torch.from_numpy(n_np)\n",
        "print(n_np, n)"
      ]
    },
    {
      "cell_type": "code",
      "execution_count": null,
      "metadata": {
        "colab": {
          "base_uri": "https://localhost:8080/"
        },
        "id": "ATGDBL35qaEf",
        "outputId": "320402a8-de87-418c-c221-f1447e223128"
      },
      "outputs": [
        {
          "output_type": "execute_result",
          "data": {
            "text/plain": [
              "array([0, 2, 4, 6, 8])"
            ]
          },
          "metadata": {},
          "execution_count": 82
        }
      ],
      "source": [
        "# In-place multiplication of all elements by 2 for tensor n\n",
        "# Because n is essentially n_np, not a clone, this affects n_np\n",
        "n.mul_(2)\n",
        "n_np"
      ]
    },
    {
      "cell_type": "markdown",
      "metadata": {
        "id": "BERLnqGSqaEf"
      },
      "source": [
        "## More fun"
      ]
    },
    {
      "cell_type": "code",
      "execution_count": null,
      "metadata": {
        "colab": {
          "base_uri": "https://localhost:8080/"
        },
        "id": "hbxitlMkqaEf",
        "outputId": "8b586f81-4110-455f-a051-fb15addd6122"
      },
      "outputs": [
        {
          "output_type": "stream",
          "name": "stdout",
          "text": [
            "torch.Size([1, 4]) tensor([[5., 6., 7., 8.]])\n"
          ]
        }
      ],
      "source": [
        "# Creates two tensors of size 1x4\n",
        "a = torch.Tensor([[1, 2, 3, 4]])\n",
        "b = torch.Tensor([[5, 6, 7, 8]])\n",
        "print(a.size(), b)"
      ]
    },
    {
      "cell_type": "code",
      "execution_count": null,
      "metadata": {
        "colab": {
          "base_uri": "https://localhost:8080/"
        },
        "id": "BYzJIN7MqaEf",
        "outputId": "7f9c0c18-fb5e-49c3-cfeb-b5b220feba7d"
      },
      "outputs": [
        {
          "output_type": "execute_result",
          "data": {
            "text/plain": [
              "tensor([[1., 2., 3., 4.],\n",
              "        [5., 6., 7., 8.]])"
            ]
          },
          "metadata": {},
          "execution_count": 84
        }
      ],
      "source": [
        "# Concatenate on axis 0, so you get 2x4\n",
        "torch.cat((a, b), 0)"
      ]
    },
    {
      "cell_type": "code",
      "execution_count": null,
      "metadata": {
        "colab": {
          "base_uri": "https://localhost:8080/"
        },
        "id": "VnX69pdeqaEf",
        "outputId": "c48e91d5-b4f3-4b9f-96fd-da500999f937"
      },
      "outputs": [
        {
          "output_type": "execute_result",
          "data": {
            "text/plain": [
              "tensor([[1., 2., 3., 4., 5., 6., 7., 8.]])"
            ]
          },
          "metadata": {},
          "execution_count": 85
        }
      ],
      "source": [
        "# Concatenate on axis 1, so you get 1x8\n",
        "torch.cat((a, b), 1)"
      ]
    },
    {
      "cell_type": "markdown",
      "metadata": {
        "id": "7WV1p69BqaEf"
      },
      "source": [
        "### [Автоматическое дифференцирование](https://pytorch.org/docs/stable/notes/autograd.html)"
      ]
    },
    {
      "cell_type": "code",
      "execution_count": null,
      "metadata": {
        "id": "Q1Hy3OvTqaEf",
        "outputId": "7ce396ca-8b28-4596-dec9-d430c8e3a3ed"
      },
      "outputs": [
        {
          "data": {
            "text/plain": [
              "tensor([0.1909, 0.3442, 0.0033, 0.5616, 0.7485])"
            ]
          },
          "execution_count": 86,
          "metadata": {},
          "output_type": "execute_result"
        }
      ],
      "source": [
        "x = torch.rand(5)\n",
        "\n",
        "x"
      ]
    },
    {
      "cell_type": "code",
      "execution_count": null,
      "metadata": {
        "id": "fo9OjVhaqaEf",
        "outputId": "200a3379-d4d5-4a8b-a07e-41255d5b6b13"
      },
      "outputs": [
        {
          "data": {
            "text/plain": [
              "tensor([[0.7555, 0.7437, 0.2392, 0.4697, 0.7209],\n",
              "        [0.5526, 0.0968, 0.2218, 0.7612, 0.4651],\n",
              "        [0.6872, 0.9975, 0.3171, 0.5455, 0.1399]], requires_grad=True)"
            ]
          },
          "execution_count": 87,
          "metadata": {},
          "output_type": "execute_result"
        }
      ],
      "source": [
        "w = torch.rand(3, 5, requires_grad=True)\n",
        "\n",
        "w"
      ]
    },
    {
      "cell_type": "code",
      "execution_count": null,
      "metadata": {
        "id": "7LRKTfEUqaEf",
        "outputId": "837b6a4f-9f50-4b47-c34f-68949d9da28c"
      },
      "outputs": [
        {
          "name": "stdout",
          "output_type": "stream",
          "text": [
            "None\n"
          ]
        }
      ],
      "source": [
        "print(w.grad)"
      ]
    },
    {
      "cell_type": "code",
      "execution_count": null,
      "metadata": {
        "id": "URo6EitoqaEf",
        "outputId": "35b71026-fdcb-4b5d-a511-6b5f63d705f3"
      },
      "outputs": [
        {
          "data": {
            "text/plain": [
              "tensor([1.6304e-34, 0.0000e+00, 1.2328e-34])"
            ]
          },
          "execution_count": 89,
          "metadata": {},
          "output_type": "execute_result"
        }
      ],
      "source": [
        "first_z = torch.empty(3)\n",
        "\n",
        "first_z"
      ]
    },
    {
      "cell_type": "code",
      "execution_count": null,
      "metadata": {
        "id": "9ChHQCvYqaEf",
        "outputId": "3f18b17b-7527-4862-db8d-4d37fc2f7af5"
      },
      "outputs": [
        {
          "data": {
            "text/plain": [
              "tensor([1.2043, 0.9152, 0.8866], grad_fn=<CopySlices>)"
            ]
          },
          "execution_count": 90,
          "metadata": {},
          "output_type": "execute_result"
        }
      ],
      "source": [
        "for i in range(3):\n",
        "    first_z[i] = torch.sum(w[i] * x)\n",
        "\n",
        "first_z"
      ]
    },
    {
      "cell_type": "code",
      "execution_count": null,
      "metadata": {
        "id": "7BpBcmoGqaEf",
        "outputId": "d7f16bd4-532c-41c2-9d78-12b45be35534"
      },
      "outputs": [
        {
          "data": {
            "text/plain": [
              "tensor([1.2043, 0.9152, 0.8866], grad_fn=<SqueezeBackward3>)"
            ]
          },
          "execution_count": 91,
          "metadata": {},
          "output_type": "execute_result"
        }
      ],
      "source": [
        "z = torch.matmul(x, w.t())\n",
        "\n",
        "z"
      ]
    },
    {
      "cell_type": "code",
      "execution_count": null,
      "metadata": {
        "id": "2zvJfOlvqaEf",
        "outputId": "012ca3b5-ca33-4dd3-f0b8-4fc2513a89a9"
      },
      "outputs": [
        {
          "data": {
            "text/plain": [
              "tensor([0.6934, 0.5599, 0.4899], requires_grad=True)"
            ]
          },
          "execution_count": 92,
          "metadata": {},
          "output_type": "execute_result"
        }
      ],
      "source": [
        "v = torch.rand(3, requires_grad=True)\n",
        "\n",
        "v"
      ]
    },
    {
      "cell_type": "code",
      "execution_count": null,
      "metadata": {
        "id": "MVKEjO_GqaEf",
        "outputId": "18d1bf70-47df-4ceb-ac9c-d284a135cc04"
      },
      "outputs": [
        {
          "name": "stdout",
          "output_type": "stream",
          "text": [
            "None\n"
          ]
        }
      ],
      "source": [
        "print(v.grad)"
      ]
    },
    {
      "cell_type": "code",
      "execution_count": null,
      "metadata": {
        "id": "jn1icI56qaEf",
        "outputId": "972fec27-9dc4-4942-ca48-a5672a613ce3"
      },
      "outputs": [
        {
          "data": {
            "text/plain": [
              "tensor(1.7818, grad_fn=<SumBackward0>)"
            ]
          },
          "execution_count": 94,
          "metadata": {},
          "output_type": "execute_result"
        }
      ],
      "source": [
        "y = torch.sum(z * v)\n",
        "\n",
        "y"
      ]
    },
    {
      "cell_type": "code",
      "execution_count": null,
      "metadata": {
        "id": "4sPwqIpxqaEf",
        "outputId": "c9b34030-e8d8-4d7c-c4d1-6e63318bdee1"
      },
      "outputs": [
        {
          "data": {
            "text/plain": [
              "1.78183913230896"
            ]
          },
          "execution_count": 95,
          "metadata": {},
          "output_type": "execute_result"
        }
      ],
      "source": [
        "y.item()"
      ]
    },
    {
      "cell_type": "code",
      "execution_count": null,
      "metadata": {
        "id": "QipdKCVDqaEg",
        "outputId": "ef146161-f24e-4497-c29e-00fe100ae614"
      },
      "outputs": [
        {
          "data": {
            "text/plain": [
              "tensor(0.0476, grad_fn=<MeanBackward0>)"
            ]
          },
          "execution_count": 96,
          "metadata": {},
          "output_type": "execute_result"
        }
      ],
      "source": [
        "loss = torch.mean((y - 2) ** 2)\n",
        "\n",
        "loss"
      ]
    },
    {
      "cell_type": "code",
      "execution_count": null,
      "metadata": {
        "id": "ujDzh4hQqaEg",
        "outputId": "b65abbd1-ccb9-4882-c84b-65be8ba05366"
      },
      "outputs": [
        {
          "name": "stdout",
          "output_type": "stream",
          "text": [
            "x.grad=None\n",
            "\n",
            "w.grad=None\n",
            "\n",
            "z.grad=None\n",
            "\n",
            "v.grad=None\n",
            "\n"
          ]
        },
        {
          "name": "stderr",
          "output_type": "stream",
          "text": [
            "/tmp/ipykernel_43980/162867685.py:3: UserWarning: The .grad attribute of a Tensor that is not a leaf Tensor is being accessed. Its .grad attribute won't be populated during autograd.backward(). If you indeed want the .grad field to be populated for a non-leaf Tensor, use .retain_grad() on the non-leaf Tensor. If you access the non-leaf Tensor by mistake, make sure you access the leaf Tensor instead. See github.com/pytorch/pytorch/pull/30531 for more informations. (Triggered internally at aten/src/ATen/core/TensorBody.h:480.)\n",
            "  print(f'{z.grad=}\\n')\n"
          ]
        }
      ],
      "source": [
        "print(f'{x.grad=}\\n')\n",
        "print(f'{w.grad=}\\n')\n",
        "print(f'{z.grad=}\\n')\n",
        "print(f'{v.grad=}\\n')"
      ]
    },
    {
      "cell_type": "code",
      "execution_count": null,
      "metadata": {
        "id": "wdXwb8xNqaEg"
      },
      "outputs": [],
      "source": [
        "loss.backward()"
      ]
    },
    {
      "cell_type": "code",
      "execution_count": null,
      "metadata": {
        "id": "8y3Iyye1qaEg",
        "outputId": "0e1f4e36-ddd1-44c1-dee9-1d9778488b7a"
      },
      "outputs": [
        {
          "name": "stdout",
          "output_type": "stream",
          "text": [
            "x.grad=None\n",
            "\n",
            "w.grad=tensor([[-0.0577, -0.1041, -0.0010, -0.1699, -0.2264],\n",
            "        [-0.0466, -0.0841, -0.0008, -0.1372, -0.1829],\n",
            "        [-0.0408, -0.0736, -0.0007, -0.1201, -0.1600]])\n",
            "\n",
            "z.grad=None\n",
            "\n",
            "v.grad=tensor([-0.5255, -0.3993, -0.3869])\n",
            "\n"
          ]
        },
        {
          "name": "stderr",
          "output_type": "stream",
          "text": [
            "/tmp/ipykernel_43980/162867685.py:3: UserWarning: The .grad attribute of a Tensor that is not a leaf Tensor is being accessed. Its .grad attribute won't be populated during autograd.backward(). If you indeed want the .grad field to be populated for a non-leaf Tensor, use .retain_grad() on the non-leaf Tensor. If you access the non-leaf Tensor by mistake, make sure you access the leaf Tensor instead. See github.com/pytorch/pytorch/pull/30531 for more informations. (Triggered internally at aten/src/ATen/core/TensorBody.h:480.)\n",
            "  print(f'{z.grad=}\\n')\n"
          ]
        }
      ],
      "source": [
        "print(f'{x.grad=}\\n')\n",
        "print(f'{w.grad=}\\n')\n",
        "print(f'{z.grad=}\\n')\n",
        "print(f'{v.grad=}\\n')"
      ]
    },
    {
      "cell_type": "markdown",
      "source": [
        "## Bonus part"
      ],
      "metadata": {
        "id": "SQtjW80ro1hk"
      }
    },
    {
      "cell_type": "markdown",
      "metadata": {
        "id": "yBY2T4rqqaEg"
      },
      "source": [
        "## Полносвязные слои и функции активации в `PyTorch`"
      ]
    },
    {
      "cell_type": "code",
      "execution_count": null,
      "metadata": {
        "id": "fUd8bYGiqaEg"
      },
      "outputs": [],
      "source": [
        "from torch import nn"
      ]
    },
    {
      "cell_type": "markdown",
      "metadata": {
        "id": "2U1xcI2GqaEg"
      },
      "source": [
        "### Полносвязный слой\n",
        "\n",
        ">$y_j = \\sum\\limits_{i=1}^{n}x_iw_{ji} + b_j$\n"
      ]
    },
    {
      "cell_type": "code",
      "execution_count": null,
      "metadata": {
        "id": "tmR_SRGKqaEg",
        "outputId": "46ca3d74-7a39-46ce-8c49-9c2d4fc57eaf"
      },
      "outputs": [
        {
          "data": {
            "text/plain": [
              "Linear(in_features=5, out_features=3, bias=True)"
            ]
          },
          "execution_count": 101,
          "metadata": {},
          "output_type": "execute_result"
        }
      ],
      "source": [
        "layer = nn.Linear(in_features=5, out_features=3)\n",
        "\n",
        "layer"
      ]
    },
    {
      "cell_type": "code",
      "execution_count": null,
      "metadata": {
        "id": "67pHbQMUqaEg",
        "outputId": "433f029b-d659-4877-a0a7-e09f5819ff28"
      },
      "outputs": [
        {
          "data": {
            "text/plain": [
              "Parameter containing:\n",
              "tensor([[-0.2109,  0.3596, -0.2097, -0.0742, -0.4386],\n",
              "        [ 0.1601,  0.2528, -0.0311, -0.2503,  0.0662],\n",
              "        [ 0.3102,  0.0370, -0.0529, -0.4278, -0.2152]], requires_grad=True)"
            ]
          },
          "execution_count": 106,
          "metadata": {},
          "output_type": "execute_result"
        }
      ],
      "source": [
        "layer.weight"
      ]
    },
    {
      "cell_type": "code",
      "execution_count": null,
      "metadata": {
        "id": "m6XFk2McqaEg",
        "outputId": "e6d9f2d2-0d7f-4200-b429-2bf1e76d4a8d"
      },
      "outputs": [
        {
          "data": {
            "text/plain": [
              "torch.Size([3, 5])"
            ]
          },
          "metadata": {},
          "output_type": "display_data"
        },
        {
          "data": {
            "text/plain": [
              "Parameter containing:\n",
              "tensor([0.3835, 0.1285, 0.4378], requires_grad=True)"
            ]
          },
          "metadata": {},
          "output_type": "display_data"
        }
      ],
      "source": [
        "display(layer.weight.shape)\n",
        "display(layer.bias)"
      ]
    },
    {
      "cell_type": "code",
      "execution_count": null,
      "metadata": {
        "id": "ghUIGwjOqaEg"
      },
      "outputs": [],
      "source": [
        "layer = nn.Linear(in_features=5, out_features=3, bias=False)"
      ]
    },
    {
      "cell_type": "code",
      "execution_count": null,
      "metadata": {
        "id": "MBarp40fqaEg"
      },
      "outputs": [],
      "source": [
        "layer.bias"
      ]
    },
    {
      "cell_type": "markdown",
      "metadata": {
        "id": "fEK-YHutqaEg"
      },
      "source": [
        "### Функции активации"
      ]
    },
    {
      "cell_type": "markdown",
      "metadata": {
        "id": "ankFdtiuqaEg"
      },
      "source": [
        "> Сигмоида $f(x) = \\dfrac{1}{1 + e^{-x}}$"
      ]
    },
    {
      "cell_type": "code",
      "execution_count": null,
      "metadata": {
        "id": "R10_-u8oqaEg"
      },
      "outputs": [],
      "source": [
        "activation = nn.Sigmoid()"
      ]
    },
    {
      "cell_type": "code",
      "execution_count": null,
      "metadata": {
        "id": "h26r2qMlqaEg",
        "outputId": "938fb16a-bd15-4ef3-82c9-7951fb91b562"
      },
      "outputs": [
        {
          "name": "stdout",
          "output_type": "stream",
          "text": [
            "tensor([0.1166, 1.1849, 0.2428, 1.5795, 1.0495])\n",
            "tensor([0.5291, 0.7658, 0.5604, 0.8291, 0.7407])\n"
          ]
        }
      ],
      "source": [
        "x = torch.randn(5)\n",
        "\n",
        "print(x)\n",
        "\n",
        "print(activation(x))"
      ]
    },
    {
      "cell_type": "markdown",
      "metadata": {
        "id": "v5TVVBUdqaEg"
      },
      "source": [
        "> ReLU $f(x) = \\max(0, x)$"
      ]
    },
    {
      "cell_type": "code",
      "execution_count": null,
      "metadata": {
        "id": "DLujNjt-qaEg"
      },
      "outputs": [],
      "source": [
        "activation = nn.ReLU()"
      ]
    },
    {
      "cell_type": "code",
      "execution_count": null,
      "metadata": {
        "id": "MOVtQgzeqaEg",
        "outputId": "bc35a77b-9a50-4c1e-a61f-4e980dc11b4d"
      },
      "outputs": [
        {
          "name": "stdout",
          "output_type": "stream",
          "text": [
            "tensor([-0.3012, -0.3079, -1.2474,  0.3916, -0.6543])\n",
            "tensor([0.0000, 0.0000, 0.0000, 0.3916, 0.0000])\n"
          ]
        }
      ],
      "source": [
        "x = torch.randn(5)\n",
        "\n",
        "print(x)\n",
        "\n",
        "print(activation(x))"
      ]
    },
    {
      "cell_type": "markdown",
      "metadata": {
        "id": "GGdkIrglqaEg"
      },
      "source": [
        "## Линейная регрессия"
      ]
    },
    {
      "cell_type": "code",
      "execution_count": null,
      "metadata": {
        "id": "lDzeATY1qaEg",
        "outputId": "26373ec5-62ea-4c82-b532-f1b13840dde5"
      },
      "outputs": [
        {
          "name": "stdout",
          "output_type": "stream",
          "text": [
            "epoch 0, loss 72.40415954589844\n",
            "epoch 1, loss 32.593360900878906\n",
            "epoch 2, loss 14.86553955078125\n",
            "epoch 3, loss 6.968501091003418\n",
            "epoch 4, loss 3.4479238986968994\n",
            "epoch 5, loss 1.8756930828094482\n",
            "epoch 6, loss 1.1708837747573853\n",
            "epoch 7, loss 0.8522948026657104\n",
            "epoch 8, loss 0.7057108879089355\n",
            "epoch 9, loss 0.635766327381134\n",
            "epoch 10, loss 0.6000066995620728\n",
            "epoch 11, loss 0.5795321464538574\n",
            "epoch 12, loss 0.5659274458885193\n",
            "epoch 13, loss 0.5554450154304504\n",
            "epoch 14, loss 0.5464171171188354\n",
            "epoch 15, loss 0.5380991101264954\n",
            "epoch 16, loss 0.530158519744873\n",
            "epoch 17, loss 0.5224468111991882\n",
            "epoch 18, loss 0.514897346496582\n",
            "epoch 19, loss 0.5074793100357056\n",
            "epoch 20, loss 0.5001782178878784\n",
            "epoch 21, loss 0.4929860532283783\n",
            "epoch 22, loss 0.48589983582496643\n",
            "epoch 23, loss 0.4789159297943115\n",
            "epoch 24, loss 0.4720322787761688\n",
            "epoch 25, loss 0.46524834632873535\n",
            "epoch 26, loss 0.4585621654987335\n",
            "epoch 27, loss 0.45197203755378723\n",
            "epoch 28, loss 0.44547638297080994\n",
            "epoch 29, loss 0.4390742778778076\n",
            "epoch 30, loss 0.43276387453079224\n",
            "epoch 31, loss 0.4265443682670593\n",
            "epoch 32, loss 0.4204145073890686\n",
            "epoch 33, loss 0.41437217593193054\n",
            "epoch 34, loss 0.4084170460700989\n",
            "epoch 35, loss 0.40254759788513184\n",
            "epoch 36, loss 0.39676210284233093\n",
            "epoch 37, loss 0.3910600543022156\n",
            "epoch 38, loss 0.3854396939277649\n",
            "epoch 39, loss 0.3799006938934326\n",
            "epoch 40, loss 0.37444064021110535\n",
            "epoch 41, loss 0.36905941367149353\n",
            "epoch 42, loss 0.36375531554222107\n",
            "epoch 43, loss 0.3585280179977417\n",
            "epoch 44, loss 0.35337501764297485\n",
            "epoch 45, loss 0.3482966125011444\n",
            "epoch 46, loss 0.34329113364219666\n",
            "epoch 47, loss 0.33835744857788086\n",
            "epoch 48, loss 0.3334948420524597\n",
            "epoch 49, loss 0.32870185375213623\n",
            "epoch 50, loss 0.32397788763046265\n",
            "epoch 51, loss 0.31932178139686584\n",
            "epoch 52, loss 0.31473278999328613\n",
            "epoch 53, loss 0.31020963191986084\n",
            "epoch 54, loss 0.30575117468833923\n",
            "epoch 55, loss 0.301357239484787\n",
            "epoch 56, loss 0.29702603816986084\n",
            "epoch 57, loss 0.292757511138916\n",
            "epoch 58, loss 0.2885500192642212\n",
            "epoch 59, loss 0.28440332412719727\n",
            "epoch 60, loss 0.2803157866001129\n",
            "epoch 61, loss 0.27628737688064575\n",
            "epoch 62, loss 0.2723166048526764\n",
            "epoch 63, loss 0.26840299367904663\n",
            "epoch 64, loss 0.2645456790924072\n",
            "epoch 65, loss 0.26074373722076416\n",
            "epoch 66, loss 0.25699636340141296\n",
            "epoch 67, loss 0.25330281257629395\n",
            "epoch 68, loss 0.2496625930070877\n",
            "epoch 69, loss 0.24607475101947784\n",
            "epoch 70, loss 0.24253807961940765\n",
            "epoch 71, loss 0.23905247449874878\n",
            "epoch 72, loss 0.23561660945415497\n",
            "epoch 73, loss 0.23223073780536652\n",
            "epoch 74, loss 0.22889301180839539\n",
            "epoch 75, loss 0.2256036102771759\n",
            "epoch 76, loss 0.2223615050315857\n",
            "epoch 77, loss 0.21916571259498596\n",
            "epoch 78, loss 0.21601586043834686\n",
            "epoch 79, loss 0.21291154623031616\n",
            "epoch 80, loss 0.20985154807567596\n",
            "epoch 81, loss 0.20683565735816956\n",
            "epoch 82, loss 0.20386290550231934\n",
            "epoch 83, loss 0.20093315839767456\n",
            "epoch 84, loss 0.1980454921722412\n",
            "epoch 85, loss 0.19519931077957153\n",
            "epoch 86, loss 0.19239389896392822\n",
            "epoch 87, loss 0.1896289587020874\n",
            "epoch 88, loss 0.18690380454063416\n",
            "epoch 89, loss 0.18421787023544312\n",
            "epoch 90, loss 0.181569904088974\n",
            "epoch 91, loss 0.17896071076393127\n",
            "epoch 92, loss 0.17638857662677765\n",
            "epoch 93, loss 0.17385393381118774\n",
            "epoch 94, loss 0.17135508358478546\n",
            "epoch 95, loss 0.16889256238937378\n",
            "epoch 96, loss 0.1664651781320572\n",
            "epoch 97, loss 0.16407287120819092\n",
            "epoch 98, loss 0.16171489655971527\n",
            "epoch 99, loss 0.1593908816576004\n",
            "epoch 100, loss 0.15710020065307617\n",
            "epoch 101, loss 0.15484248101711273\n",
            "epoch 102, loss 0.152616947889328\n",
            "epoch 103, loss 0.15042386949062347\n",
            "epoch 104, loss 0.14826178550720215\n",
            "epoch 105, loss 0.14613109827041626\n",
            "epoch 106, loss 0.1440310776233673\n",
            "epoch 107, loss 0.1419612169265747\n",
            "epoch 108, loss 0.1399209201335907\n",
            "epoch 109, loss 0.1379098892211914\n",
            "epoch 110, loss 0.13592788577079773\n",
            "epoch 111, loss 0.13397449254989624\n",
            "epoch 112, loss 0.13204918801784515\n",
            "epoch 113, loss 0.13015124201774597\n",
            "epoch 114, loss 0.128280907869339\n",
            "epoch 115, loss 0.12643709778785706\n",
            "epoch 116, loss 0.12462009489536285\n",
            "epoch 117, loss 0.12282908707857132\n",
            "epoch 118, loss 0.12106388062238693\n",
            "epoch 119, loss 0.11932406574487686\n",
            "epoch 120, loss 0.11760903894901276\n",
            "epoch 121, loss 0.11591896414756775\n",
            "epoch 122, loss 0.11425293236970901\n",
            "epoch 123, loss 0.11261091381311417\n",
            "epoch 124, loss 0.11099249124526978\n",
            "epoch 125, loss 0.10939737409353256\n",
            "epoch 126, loss 0.1078251302242279\n",
            "epoch 127, loss 0.10627543926239014\n",
            "epoch 128, loss 0.1047481894493103\n",
            "epoch 129, loss 0.1032429188489914\n",
            "epoch 130, loss 0.10175921022891998\n",
            "epoch 131, loss 0.10029668360948563\n",
            "epoch 132, loss 0.09885524213314056\n",
            "epoch 133, loss 0.09743444621562958\n",
            "epoch 134, loss 0.09603429585695267\n",
            "epoch 135, loss 0.09465420246124268\n",
            "epoch 136, loss 0.09329371899366379\n",
            "epoch 137, loss 0.09195301681756973\n",
            "epoch 138, loss 0.09063155949115753\n",
            "epoch 139, loss 0.08932887017726898\n",
            "epoch 140, loss 0.08804524689912796\n",
            "epoch 141, loss 0.0867796540260315\n",
            "epoch 142, loss 0.08553271740674973\n",
            "epoch 143, loss 0.08430343866348267\n",
            "epoch 144, loss 0.08309194445610046\n",
            "epoch 145, loss 0.08189763128757477\n",
            "epoch 146, loss 0.08072063326835632\n",
            "epoch 147, loss 0.07956058531999588\n",
            "epoch 148, loss 0.07841712236404419\n",
            "epoch 149, loss 0.0772901326417923\n",
            "epoch 150, loss 0.07617935538291931\n",
            "epoch 151, loss 0.0750846415758133\n",
            "epoch 152, loss 0.07400548458099365\n",
            "epoch 153, loss 0.0729418396949768\n",
            "epoch 154, loss 0.07189363986253738\n",
            "epoch 155, loss 0.07086040079593658\n",
            "epoch 156, loss 0.06984207779169083\n",
            "epoch 157, loss 0.0688382163643837\n",
            "epoch 158, loss 0.06784898787736893\n",
            "epoch 159, loss 0.06687386333942413\n",
            "epoch 160, loss 0.06591273844242096\n",
            "epoch 161, loss 0.0649653971195221\n",
            "epoch 162, loss 0.06403176486492157\n",
            "epoch 163, loss 0.06311166286468506\n",
            "epoch 164, loss 0.062204599380493164\n",
            "epoch 165, loss 0.061310622841119766\n",
            "epoch 166, loss 0.060429465025663376\n",
            "epoch 167, loss 0.059561051428318024\n",
            "epoch 168, loss 0.05870501697063446\n",
            "epoch 169, loss 0.05786135792732239\n",
            "epoch 170, loss 0.057029806077480316\n",
            "epoch 171, loss 0.05621012672781944\n",
            "epoch 172, loss 0.05540236458182335\n",
            "epoch 173, loss 0.05460606887936592\n",
            "epoch 174, loss 0.053821317851543427\n",
            "epoch 175, loss 0.05304783955216408\n",
            "epoch 176, loss 0.052285440266132355\n",
            "epoch 177, loss 0.05153416469693184\n",
            "epoch 178, loss 0.050793424248695374\n",
            "epoch 179, loss 0.05006351321935654\n",
            "epoch 180, loss 0.04934388026595116\n",
            "epoch 181, loss 0.048634909093379974\n",
            "epoch 182, loss 0.04793586581945419\n",
            "epoch 183, loss 0.047246914356946945\n",
            "epoch 184, loss 0.0465678833425045\n",
            "epoch 185, loss 0.045898765325546265\n",
            "epoch 186, loss 0.04523904621601105\n",
            "epoch 187, loss 0.0445888377726078\n",
            "epoch 188, loss 0.04394809901714325\n",
            "epoch 189, loss 0.04331649839878082\n",
            "epoch 190, loss 0.04269399493932724\n",
            "epoch 191, loss 0.042080409824848175\n",
            "epoch 192, loss 0.04147563502192497\n",
            "epoch 193, loss 0.04087952896952629\n",
            "epoch 194, loss 0.04029198735952377\n",
            "epoch 195, loss 0.039712969213724136\n",
            "epoch 196, loss 0.03914209455251694\n",
            "epoch 197, loss 0.03857967630028725\n",
            "epoch 198, loss 0.03802526369690895\n",
            "epoch 199, loss 0.03747863322496414\n",
            "epoch 200, loss 0.036940135061740875\n",
            "epoch 201, loss 0.03640924394130707\n",
            "epoch 202, loss 0.03588594123721123\n",
            "epoch 203, loss 0.035370245575904846\n",
            "epoch 204, loss 0.034861937165260315\n",
            "epoch 205, loss 0.034360822290182114\n",
            "epoch 206, loss 0.03386705741286278\n",
            "epoch 207, loss 0.033380258828401566\n",
            "epoch 208, loss 0.032900601625442505\n",
            "epoch 209, loss 0.032427772879600525\n",
            "epoch 210, loss 0.031961724162101746\n",
            "epoch 211, loss 0.031502366065979004\n",
            "epoch 212, loss 0.031049616634845734\n",
            "epoch 213, loss 0.030603433027863503\n",
            "epoch 214, loss 0.03016369789838791\n",
            "epoch 215, loss 0.02973015606403351\n",
            "epoch 216, loss 0.029302895069122314\n",
            "epoch 217, loss 0.028881710022687912\n",
            "epoch 218, loss 0.028466597199440002\n",
            "epoch 219, loss 0.02805749513208866\n",
            "epoch 220, loss 0.027654346078634262\n",
            "epoch 221, loss 0.027256857603788376\n",
            "epoch 222, loss 0.02686518430709839\n",
            "epoch 223, loss 0.026479020714759827\n",
            "epoch 224, loss 0.0260984618216753\n",
            "epoch 225, loss 0.02572343684732914\n",
            "epoch 226, loss 0.025353772565722466\n",
            "epoch 227, loss 0.02498936653137207\n",
            "epoch 228, loss 0.02463020198047161\n",
            "epoch 229, loss 0.024276234209537506\n",
            "epoch 230, loss 0.023927347734570503\n",
            "epoch 231, loss 0.023583531379699707\n",
            "epoch 232, loss 0.023244604468345642\n",
            "epoch 233, loss 0.02291056141257286\n",
            "epoch 234, loss 0.02258126810193062\n",
            "epoch 235, loss 0.022256769239902496\n",
            "epoch 236, loss 0.021936850622296333\n",
            "epoch 237, loss 0.021621642634272575\n",
            "epoch 238, loss 0.021310843527317047\n",
            "epoch 239, loss 0.021004656329751015\n",
            "epoch 240, loss 0.020702775567770004\n",
            "epoch 241, loss 0.020405221730470657\n",
            "epoch 242, loss 0.02011195756494999\n",
            "epoch 243, loss 0.019822904840111732\n",
            "epoch 244, loss 0.019538048654794693\n",
            "epoch 245, loss 0.019257141277194023\n",
            "epoch 246, loss 0.018980376422405243\n",
            "epoch 247, loss 0.018707722425460815\n",
            "epoch 248, loss 0.01843884587287903\n",
            "epoch 249, loss 0.01817377656698227\n",
            "epoch 250, loss 0.01791258715093136\n",
            "epoch 251, loss 0.017655149102211\n",
            "epoch 252, loss 0.017401468008756638\n",
            "epoch 253, loss 0.017151376232504845\n",
            "epoch 254, loss 0.016904909163713455\n",
            "epoch 255, loss 0.016661912202835083\n",
            "epoch 256, loss 0.016422448679804802\n",
            "epoch 257, loss 0.016186516731977463\n",
            "epoch 258, loss 0.015953848138451576\n",
            "epoch 259, loss 0.015724562108516693\n",
            "epoch 260, loss 0.015498543158173561\n",
            "epoch 261, loss 0.015275842510163784\n",
            "epoch 262, loss 0.015056252479553223\n",
            "epoch 263, loss 0.014839943498373032\n",
            "epoch 264, loss 0.014626599848270416\n",
            "epoch 265, loss 0.014416441321372986\n",
            "epoch 266, loss 0.014209231361746788\n",
            "epoch 267, loss 0.014005034230649471\n",
            "epoch 268, loss 0.01380372978746891\n",
            "epoch 269, loss 0.013605369254946709\n",
            "epoch 270, loss 0.013409843668341637\n",
            "epoch 271, loss 0.013217110186815262\n",
            "epoch 272, loss 0.013027139008045197\n",
            "epoch 273, loss 0.012839952483773232\n",
            "epoch 274, loss 0.012655416503548622\n",
            "epoch 275, loss 0.012473506852984428\n",
            "epoch 276, loss 0.012294256128370762\n",
            "epoch 277, loss 0.01211756281554699\n",
            "epoch 278, loss 0.011943422257900238\n",
            "epoch 279, loss 0.011771769262850285\n",
            "epoch 280, loss 0.011602568440139294\n",
            "epoch 281, loss 0.01143586728721857\n",
            "epoch 282, loss 0.011271513998508453\n",
            "epoch 283, loss 0.011109527200460434\n",
            "epoch 284, loss 0.010949881747364998\n",
            "epoch 285, loss 0.010792495682835579\n",
            "epoch 286, loss 0.010637419298291206\n",
            "epoch 287, loss 0.010484530590474606\n",
            "epoch 288, loss 0.010333800688385963\n",
            "epoch 289, loss 0.010185264982283115\n",
            "epoch 290, loss 0.010038952343165874\n",
            "epoch 291, loss 0.009894669987261295\n",
            "epoch 292, loss 0.009752483107149601\n",
            "epoch 293, loss 0.00961228832602501\n",
            "epoch 294, loss 0.009474166668951511\n",
            "epoch 295, loss 0.009338023141026497\n",
            "epoch 296, loss 0.00920381210744381\n",
            "epoch 297, loss 0.009071525186300278\n",
            "epoch 298, loss 0.008941137231886387\n",
            "epoch 299, loss 0.008812636137008667\n",
            "epoch 300, loss 0.008686002343893051\n",
            "epoch 301, loss 0.008561125956475735\n",
            "epoch 302, loss 0.008438097313046455\n",
            "epoch 303, loss 0.00831684097647667\n",
            "epoch 304, loss 0.008197339251637459\n",
            "epoch 305, loss 0.008079509250819683\n",
            "epoch 306, loss 0.007963351905345917\n",
            "epoch 307, loss 0.007848987355828285\n",
            "epoch 308, loss 0.007736151106655598\n",
            "epoch 309, loss 0.007624959107488394\n",
            "epoch 310, loss 0.007515403907746077\n",
            "epoch 311, loss 0.007407392840832472\n",
            "epoch 312, loss 0.007300942670553923\n",
            "epoch 313, loss 0.007195993326604366\n",
            "epoch 314, loss 0.0070925382897257805\n",
            "epoch 315, loss 0.006990624126046896\n",
            "epoch 316, loss 0.006890133488923311\n",
            "epoch 317, loss 0.006791132036596537\n",
            "epoch 318, loss 0.006693560630083084\n",
            "epoch 319, loss 0.006597356405109167\n",
            "epoch 320, loss 0.006502589676529169\n",
            "epoch 321, loss 0.006409103982150555\n",
            "epoch 322, loss 0.0063169882632792\n",
            "epoch 323, loss 0.006226209457963705\n",
            "epoch 324, loss 0.006136748008430004\n",
            "epoch 325, loss 0.006048503331840038\n",
            "epoch 326, loss 0.005961594171822071\n",
            "epoch 327, loss 0.005875920411199331\n",
            "epoch 328, loss 0.0057914541102945805\n",
            "epoch 329, loss 0.0057082329876720905\n",
            "epoch 330, loss 0.0056262025609612465\n",
            "epoch 331, loss 0.005545341409742832\n",
            "epoch 332, loss 0.005465649999678135\n",
            "epoch 333, loss 0.00538710318505764\n",
            "epoch 334, loss 0.005309658590704203\n",
            "epoch 335, loss 0.005233347415924072\n",
            "epoch 336, loss 0.005158156156539917\n",
            "epoch 337, loss 0.005084027070552111\n",
            "epoch 338, loss 0.0050109694711863995\n",
            "epoch 339, loss 0.004938951693475246\n",
            "epoch 340, loss 0.004867966286838055\n",
            "epoch 341, loss 0.004798002075403929\n",
            "epoch 342, loss 0.004729027859866619\n",
            "epoch 343, loss 0.004661097191274166\n",
            "epoch 344, loss 0.004594087600708008\n",
            "epoch 345, loss 0.00452809501439333\n",
            "epoch 346, loss 0.004462988115847111\n",
            "epoch 347, loss 0.0043988884426653385\n",
            "epoch 348, loss 0.00433563906699419\n",
            "epoch 349, loss 0.004273319151252508\n",
            "epoch 350, loss 0.004211906809359789\n",
            "epoch 351, loss 0.004151355009526014\n",
            "epoch 352, loss 0.004091721493750811\n",
            "epoch 353, loss 0.004032932687550783\n",
            "epoch 354, loss 0.003974950406700373\n",
            "epoch 355, loss 0.003917846828699112\n",
            "epoch 356, loss 0.0038615320809185505\n",
            "epoch 357, loss 0.003806034103035927\n",
            "epoch 358, loss 0.003751332638785243\n",
            "epoch 359, loss 0.0036974307149648666\n",
            "epoch 360, loss 0.00364427687600255\n",
            "epoch 361, loss 0.003591904416680336\n",
            "epoch 362, loss 0.003540261182934046\n",
            "epoch 363, loss 0.0034894209820777178\n",
            "epoch 364, loss 0.0034392690286040306\n",
            "epoch 365, loss 0.0033898050896823406\n",
            "epoch 366, loss 0.0033411094918847084\n",
            "epoch 367, loss 0.0032930898014456034\n",
            "epoch 368, loss 0.0032457620836794376\n",
            "epoch 369, loss 0.003199119120836258\n",
            "epoch 370, loss 0.0031531304121017456\n",
            "epoch 371, loss 0.0031078376341611147\n",
            "epoch 372, loss 0.003063168376684189\n",
            "epoch 373, loss 0.0030191552359610796\n",
            "epoch 374, loss 0.002975758397951722\n",
            "epoch 375, loss 0.0029329657554626465\n",
            "epoch 376, loss 0.0028908327221870422\n",
            "epoch 377, loss 0.002849284326657653\n",
            "epoch 378, loss 0.0028083352372050285\n",
            "epoch 379, loss 0.002767976140603423\n",
            "epoch 380, loss 0.002728206804022193\n",
            "epoch 381, loss 0.0026890027802437544\n",
            "epoch 382, loss 0.0026503398548811674\n",
            "epoch 383, loss 0.0026122480630874634\n",
            "epoch 384, loss 0.002574700629338622\n",
            "epoch 385, loss 0.002537705935537815\n",
            "epoch 386, loss 0.002501246752217412\n",
            "epoch 387, loss 0.0024652995634824038\n",
            "epoch 388, loss 0.0024298359639942646\n",
            "epoch 389, loss 0.0023949425667524338\n",
            "epoch 390, loss 0.0023605104070156813\n",
            "epoch 391, loss 0.002326579997316003\n",
            "epoch 392, loss 0.0022931513376533985\n",
            "epoch 393, loss 0.0022601857781410217\n",
            "epoch 394, loss 0.0022277114912867546\n",
            "epoch 395, loss 0.0021956926211714745\n",
            "epoch 396, loss 0.0021641463972628117\n",
            "epoch 397, loss 0.0021330486051738262\n",
            "epoch 398, loss 0.0021023759618401527\n",
            "epoch 399, loss 0.002072184579446912\n",
            "epoch 400, loss 0.002042385283857584\n",
            "epoch 401, loss 0.002013041637837887\n",
            "epoch 402, loss 0.00198411219753325\n",
            "epoch 403, loss 0.001955595565959811\n",
            "epoch 404, loss 0.0019274866208434105\n",
            "epoch 405, loss 0.0018997791921719909\n",
            "epoch 406, loss 0.0018724910914897919\n",
            "epoch 407, loss 0.001845590304583311\n",
            "epoch 408, loss 0.0018190478440374136\n",
            "epoch 409, loss 0.001792904338799417\n",
            "epoch 410, loss 0.001767143257893622\n",
            "epoch 411, loss 0.0017417602939531207\n",
            "epoch 412, loss 0.0017167150508612394\n",
            "epoch 413, loss 0.0016920306952670217\n",
            "epoch 414, loss 0.0016677291132509708\n",
            "epoch 415, loss 0.0016437731683254242\n",
            "epoch 416, loss 0.0016201426042243838\n",
            "epoch 417, loss 0.0015968481311574578\n",
            "epoch 418, loss 0.0015738883521407843\n",
            "epoch 419, loss 0.0015512874815613031\n",
            "epoch 420, loss 0.001528983935713768\n",
            "epoch 421, loss 0.001507006585597992\n",
            "epoch 422, loss 0.0014853454194962978\n",
            "epoch 423, loss 0.001464005559682846\n",
            "epoch 424, loss 0.0014429681468755007\n",
            "epoch 425, loss 0.0014222145546227694\n",
            "epoch 426, loss 0.0014017873909324408\n",
            "epoch 427, loss 0.0013816379941999912\n",
            "epoch 428, loss 0.0013617801014333963\n",
            "epoch 429, loss 0.001342211035080254\n",
            "epoch 430, loss 0.0013229274190962315\n",
            "epoch 431, loss 0.0013039195910096169\n",
            "epoch 432, loss 0.0012851599603891373\n",
            "epoch 433, loss 0.0012667037080973387\n",
            "epoch 434, loss 0.0012484940234571695\n",
            "epoch 435, loss 0.0012305447598919272\n",
            "epoch 436, loss 0.0012128691887483\n",
            "epoch 437, loss 0.0011954420479014516\n",
            "epoch 438, loss 0.0011782707879319787\n",
            "epoch 439, loss 0.0011613148963078856\n",
            "epoch 440, loss 0.0011446470161899924\n",
            "epoch 441, loss 0.0011281954357400537\n",
            "epoch 442, loss 0.001111967721953988\n",
            "epoch 443, loss 0.0010959883220493793\n",
            "epoch 444, loss 0.0010802354663610458\n",
            "epoch 445, loss 0.0010647122981026769\n",
            "epoch 446, loss 0.0010494145099073648\n",
            "epoch 447, loss 0.0010343377944082022\n",
            "epoch 448, loss 0.0010194667847827077\n",
            "epoch 449, loss 0.0010048268595710397\n",
            "epoch 450, loss 0.0009903659811243415\n",
            "epoch 451, loss 0.0009761388646438718\n",
            "epoch 452, loss 0.0009621103527024388\n",
            "epoch 453, loss 0.0009482782334089279\n",
            "epoch 454, loss 0.0009346564766019583\n",
            "epoch 455, loss 0.0009212339064106345\n",
            "epoch 456, loss 0.0009079889277927577\n",
            "epoch 457, loss 0.0008949320763349533\n",
            "epoch 458, loss 0.0008820699877105653\n",
            "epoch 459, loss 0.000869407260324806\n",
            "epoch 460, loss 0.0008569093188270926\n",
            "epoch 461, loss 0.0008445913554169238\n",
            "epoch 462, loss 0.0008324465015903115\n",
            "epoch 463, loss 0.0008204927435144782\n",
            "epoch 464, loss 0.0008087016176432371\n",
            "epoch 465, loss 0.0007970778970047832\n",
            "epoch 466, loss 0.0007856148295104504\n",
            "epoch 467, loss 0.0007743157329969108\n",
            "epoch 468, loss 0.0007631964981555939\n",
            "epoch 469, loss 0.0007522310479544103\n",
            "epoch 470, loss 0.0007414224091917276\n",
            "epoch 471, loss 0.000730754982214421\n",
            "epoch 472, loss 0.0007202583947218955\n",
            "epoch 473, loss 0.0007099075592122972\n",
            "epoch 474, loss 0.000699710042681545\n",
            "epoch 475, loss 0.00068964425008744\n",
            "epoch 476, loss 0.0006797409150749445\n",
            "epoch 477, loss 0.0006699783843941987\n",
            "epoch 478, loss 0.0006603402434848249\n",
            "epoch 479, loss 0.0006508476217277348\n",
            "epoch 480, loss 0.0006414944073185325\n",
            "epoch 481, loss 0.0006322702392935753\n",
            "epoch 482, loss 0.0006231942097656429\n",
            "epoch 483, loss 0.0006142356432974339\n",
            "epoch 484, loss 0.0006054134573787451\n",
            "epoch 485, loss 0.0005967006436549127\n",
            "epoch 486, loss 0.0005881228134967387\n",
            "epoch 487, loss 0.0005796714685857296\n",
            "epoch 488, loss 0.0005713452119380236\n",
            "epoch 489, loss 0.0005631371750496328\n",
            "epoch 490, loss 0.0005550446803681552\n",
            "epoch 491, loss 0.0005470651667565107\n",
            "epoch 492, loss 0.000539210916031152\n",
            "epoch 493, loss 0.0005314469453878701\n",
            "epoch 494, loss 0.0005238218000158668\n",
            "epoch 495, loss 0.0005162835004739463\n",
            "epoch 496, loss 0.0005088758771307766\n",
            "epoch 497, loss 0.0005015491624362767\n",
            "epoch 498, loss 0.0004943466046825051\n",
            "epoch 499, loss 0.00048724107909947634\n",
            "predict (after training) 4 7.974625587463379\n"
          ]
        },
        {
          "name": "stderr",
          "output_type": "stream",
          "text": [
            "/home/administrator/anaconda3/envs/cordilleras/lib/python3.10/site-packages/torch/nn/_reduction.py:42: UserWarning: size_average and reduce args will be deprecated, please use reduction='sum' instead.\n",
            "  warnings.warn(warning.format(ret))\n"
          ]
        }
      ],
      "source": [
        "import torch\n",
        "from torch.autograd import Variable\n",
        "\n",
        "x_data = Variable(torch.Tensor([[1.0], [2.0], [3.0]]))\n",
        "y_data = Variable(torch.Tensor([[2.0], [4.0], [6.0]]))\n",
        "\n",
        "\n",
        "class LinearRegressionModel(torch.nn.Module):\n",
        "\n",
        "    def __init__(self):\n",
        "        super(LinearRegressionModel, self).__init__()\n",
        "        self.linear = torch.nn.Linear(1, 1)1  # One in and one out\n",
        "\n",
        "    def forward(self, x):\n",
        "        y_pred = self.linear(x)\n",
        "\n",
        "        return y_pred\n",
        "\n",
        "# our model\n",
        "our_model = LinearRegressionModel()\n",
        "\n",
        "criterion = torch.nn.MSELoss(size_average = False)\n",
        "optimizer = torch.optim.SGD(our_model.parameters(), lr = 0.01)\n",
        "\n",
        "for epoch in range(500):\n",
        "    # Forward pass: Compute predicted y by passing\n",
        "    # x to the model\n",
        "    pred_y = our_model(x_data)\n",
        "    # Compute and print loss\n",
        "    loss = criterion(pred_y, y_data)\n",
        "    # Zero gradients, perform a backward pass,\n",
        "    # and update the weights.\n",
        "    optimizer.zero_grad()\n",
        "    loss.backward()\n",
        "    optimizer.step()\n",
        "    print('epoch {}, loss {}'.format(epoch, loss.item()))\n",
        "\n",
        "new_var = Variable(torch.Tensor([[4.0]]))\n",
        "pred_y = our_model(new_var)\n",
        "print(\"predict (after training)\", 4, our_model(new_var).item())\n"
      ]
    },
    {
      "cell_type": "code",
      "execution_count": null,
      "metadata": {
        "id": "q9v0h4D_qaEg"
      },
      "outputs": [],
      "source": []
    }
  ],
  "metadata": {
    "kernelspec": {
      "display_name": "Python 3 (ipykernel)",
      "language": "python",
      "name": "python3"
    },
    "language_info": {
      "codemirror_mode": {
        "name": "ipython",
        "version": 3
      },
      "file_extension": ".py",
      "mimetype": "text/x-python",
      "name": "python",
      "nbconvert_exporter": "python",
      "pygments_lexer": "ipython3",
      "version": "3.10.12"
    },
    "colab": {
      "provenance": []
    }
  },
  "nbformat": 4,
  "nbformat_minor": 0
}