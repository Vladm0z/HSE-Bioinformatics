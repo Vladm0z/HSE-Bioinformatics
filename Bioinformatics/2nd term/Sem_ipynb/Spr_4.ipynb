{
 "cells": [
  {
   "cell_type": "markdown",
   "metadata": {
    "id": "RerOp03yontV"
   },
   "source": [
    "# Семинар 4 (9.02)\n",
    "\n",
    "[Содержание](https://drive.google.com/file/d/1Tw2EHFbJ83Vp44BomiebedD8t_y1pgPB/view)"
   ]
  },
  {
   "cell_type": "markdown",
   "metadata": {
    "id": "foF-ggg9o4md"
   },
   "source": [
    "В содержании видим данные по полиморфизмам (ФОТО). NULL - не прошел контроль качества или у человека такой вариант генов, в котором есть этот полиморфизм. У этих людей спросили, ощущают ли они горечь. Его степень чувствительности определяется полиморфизмами. Хотим узнать, есть ли связь."
   ]
  },
  {
   "cell_type": "markdown",
   "metadata": {
    "id": "5cdD5n5OynO-"
   },
   "source": [
    "## Хи-квадрат"
   ]
  },
  {
   "cell_type": "markdown",
   "metadata": {
    "id": "PWpdR5YWqcdD"
   },
   "source": [
    "Возьмем первый признак (rs4988235, [dbSNP](https://www.ncbi.nlm.nih.gov/snp/?term=rs4988235)). Видим, частота G примерно 50%, у A частота маленькая (у эстонцев наоборот - напоминание о том, что есть связь снипов и национальностей). [Тут](https://www.ncbi.nlm.nih.gov/snp/rs4988235) в Clinical Significance видим, что снип связан с \tLactase persistence, скорее всего, он не будет связан со вкусом горечи. "
   ]
  },
  {
   "cell_type": "markdown",
   "metadata": {
    "id": "-nq2NZMOrbPL"
   },
   "source": [
    "Для исследования на ассоциацию возьмем хи-квадрат. \n",
    "\n",
    "1. Ищем ожидаемые и наблюдаемые частоты. Для подсчета ожидаемых считаем людей или аллели (у типа AA аллель A втречается 2 раза) (ФОТО)\n",
    "2. Ищем наблюдаемые частоты. Число из пункта 1 делим на общее число аллелей, затем умножаем на 100 для процентов. (ФОТО)\n",
    "3. Ищем ожидаемые частоты. Для каждой клетки перемножаем вероятность из пункта 2, записанную в total в строке, и то, что написано в total в этом столбце (вероятность получить человека, который чувствует горечь и у которого аллель A, для левой верхней клетки) (ФОТО)\n",
    "4. Считаем ожидаемые значения в клетках, перемножая вероятности из пункта 3 на общее количество аллелей (ФОТО)\n",
    "5. Используем хи-квадрат формулу. Последнее равенство берется из таблички (ФОТО)\n",
    "\n",
    "p-value - вероятность получить более экстремальное распределение, чем наше. Это то значение, по которому мы отсеиваем снипы. Если оно большое, то наши данные ожидаемы, если низкое - неожиданны, при условии независимости. p-value 0.58 означает, что с такой вероятностью при выборке случайных аллелей мы получим более экстремальное распределение, то есть такое, которое будет сильнее отличаться от среднего. Для исследований обычно берется 0.05. Это значит, что проводя исследование, мы можем случайно собрать данные с какой-то зависимостью, которой на самом деле нет.\n"
   ]
  },
  {
   "cell_type": "markdown",
   "metadata": {
    "id": "KyyZuBM6xt6N"
   },
   "source": [
    "##  Поправка на множественное тестирование\n",
    "\n",
    "Все снипы выше были исследованы на микрочипах с 500 000 маркерами. Если бы исследовали только один снип, то найденная ассоциация была бы значимой при уровне $α=0.05$. Но в случае тестирования 500 000 снипов, $pvalues=\\frac{0.05}{500 000} = 10^{-7}$. Таким образом, мы делаем вывод, что rs4988235 не ассоциируется статистически значимо с восприятием горького вкуса с поправкой на множественное тестирование.\n",
    "\n",
    "Есть и другие коррекции. Данная очень сильно корректирует. Пуст из 500000 5 значимы, то мы сможем найти только 3 из них, 2 других потеряем. Без коррекции мы можем получить, например, 60, из которых 57 будут ложными.\n"
   ]
  },
  {
   "cell_type": "markdown",
   "metadata": {
    "id": "J-TlSrEqy8bJ"
   },
   "source": [
    "## Тест Фишера"
   ]
  },
  {
   "cell_type": "code",
   "execution_count": 2,
   "metadata": {
    "colab": {
     "base_uri": "https://localhost:8080/"
    },
    "executionInfo": {
     "elapsed": 391,
     "status": "ok",
     "timestamp": 1651948826088,
     "user": {
      "displayName": "Светлана Жумлякова",
      "userId": "08388063809058185277"
     },
     "user_tz": -180
    },
    "id": "HMvEHb1nz6Ja",
    "outputId": "531b0c89-fc14-4cfb-c61a-9a9f9e1ef4d1"
   },
   "outputs": [
    {
     "name": "stdout",
     "output_type": "stream",
     "text": [
      "p=0.5958830905651775\n",
      "pvalue=0.7914061126721297\n",
      "oddsratio=1.3317972350230414\n"
     ]
    }
   ],
   "source": [
    "# Пример кода на питоне\n",
    "from scipy.stats import chi2_contingency\n",
    "stat, p, dof, expected =chi2_contingency([[17, 7],[31, 17]], correction=False)\n",
    "print(f\"p={p}\")\n",
    "\n",
    "#точный тест Фишера\n",
    "from scipy import stats\n",
    "table=[[17,7],[31,17]]\n",
    "\n",
    "oddsratio, pvalue=stats.fisher_exact(table)\n",
    "print(f\"pvalue={pvalue}\")\n",
    "print(f\"oddsratio={oddsratio}\")"
   ]
  },
  {
   "cell_type": "markdown",
   "metadata": {
    "id": "hQziRdYyz_7c"
   },
   "source": [
    "В содержании есть еще пример на R и [онлайн-калькулятор](http://medstatistic.ru/calculators/calchi.html). Информатические пакеты питона есть в [bioconda](https://bioconda.github.io/) "
   ]
  },
  {
   "cell_type": "markdown",
   "metadata": {
    "id": "dn_UaHlj1KdZ"
   },
   "source": [
    "Смотрим на R (ФОТО). В нижнем окне написаны значения хи=квадрат и p-value. Изменим correct на TRUE (ФОТО). Хи-квадрат уменьшился, а P-value еще сильнее выросло. df - degrees of freedom - количество степеней свободы."
   ]
  },
  {
   "cell_type": "markdown",
   "metadata": {
    "id": "M0j0KTwU1tZj"
   },
   "source": [
    "Можем на этой матрицы посчитать точный тест Фишера (ФОТО). p-value больше похоже на квадрат с коррекцией, так как числа небольшие. \n",
    "\n",
    "Увеличим числа в 100 раз (ФОТО). p-value уменьшилось, коррекция особо не повлияла"
   ]
  },
  {
   "cell_type": "markdown",
   "metadata": {
    "id": "JqQ9_ASw09Yb"
   },
   "source": [
    "На R написано много пакетов, которые собраны в [bioconductor](https://www.bioconductor.org/). "
   ]
  },
  {
   "cell_type": "markdown",
   "metadata": {
    "id": "-jjznygl2KPr"
   },
   "source": [
    "## Отношение шансов (Odds ratios)\n",
    "\n",
    "Когда мы обнаружили снип, статистически значимо ассоциированный с\n",
    "признаком, мы можем посчитать отношение шансов для данного снипа. (ФОТО)\n",
    "\n",
    "Allelic odds ratio: ratio of the allele ratios in the cases divided by the allele ratios in\n",
    "the controls.\n",
    "\n",
    "Берем отношение A/G в группе не чувствующих горечи - контроль\n",
    "$\\frac{17}{7}=2.42$\n",
    "\n",
    "Берем отношение A/G в группе, чувствующих горечь - случай\n",
    "$\\frac{31}{17}=1.82$\n",
    "\n",
    "Odds ratio = $\\frac{1.82}{2.42}=0.75$\n",
    "\n",
    "То есть люди с аллелью А в 0.75 раз менее вероятно будут ассоциированы с\n",
    "способностью чувствовать горький вкус, чем люди с аллелью G."
   ]
  },
  {
   "cell_type": "markdown",
   "metadata": {
    "id": "fZA_UcjGRT5C"
   },
   "source": [
    "Поменяем числа в матрице, получили гигантский odds ratio (ФОТО)\n",
    "\n",
    "Теперь поменяем то же самое в питоне (ФОТО). Матрица имеет такой вид (ФОТО). Заметим, что это все вероятности: У человека может быть A и не быть горечи, поэтому все вероятностное."
   ]
  },
  {
   "cell_type": "markdown",
   "metadata": {
    "id": "8aT3PhuOUoor"
   },
   "source": [
    "## Пример карточки"
   ]
  },
  {
   "cell_type": "markdown",
   "metadata": {
    "id": "oY6P9etvVDyk"
   },
   "source": [
    "(ФОТО)\n",
    "\n",
    "У нас есть 2 аллеля и 2 признака, генотипа у нас 3 - AA, AG, GG. Если A связано с каким-то признаком (карими глазами), то у AG глаза будут карие, как и у людей AA, если A - доминантный, поэтому мы можем их объединить, как 4 подтаблице на фото. Так как мы не знаем, A доминантный или G, мы рассматриваем 3 и 4 подтаблички.\n",
    "\n",
    "Сложные признаки часто определяются в группы (цвет глаз может быть не чистым)."
   ]
  },
  {
   "cell_type": "markdown",
   "metadata": {
    "id": "C7QF3ltlWg56"
   },
   "source": [
    "Берем первую табличку и считаем p-value для аллелей (1 подтабличка), для A доминантного и G доминантного (3 и 4 подтаблички)"
   ]
  },
  {
   "cell_type": "code",
   "execution_count": 3,
   "metadata": {
    "colab": {
     "base_uri": "https://localhost:8080/"
    },
    "executionInfo": {
     "elapsed": 15,
     "status": "ok",
     "timestamp": 1651959131802,
     "user": {
      "displayName": "Светлана Жумлякова",
      "userId": "08388063809058185277"
     },
     "user_tz": -180
    },
    "id": "u4G_o0FjWdmP",
    "outputId": "84f798bd-a86e-429f-d5ff-cd96c96be69c"
   },
   "outputs": [
    {
     "name": "stdout",
     "output_type": "stream",
     "text": [
      "pvalue(alleles) = 0.0028974143233395353\n",
      "pvalue(A dom) = 0.5741927668384637\n",
      "pvalue(G dom) = 0.009269123014802486\n",
      "odds ratio=0.0\n"
     ]
    }
   ],
   "source": [
    "# For alleles\n",
    "from scipy import stats\n",
    "table=[[55, 22],[21,0]]\n",
    "oddsv, pvalue1=stats.fisher_exact(table)\n",
    "print(f\"pvalue(alleles) = {pvalue1}\")\n",
    "\n",
    "# A dominant\n",
    "table=[[5, 0],[33, 11]]\n",
    "oddsv, pvalue2=stats.fisher_exact(table)\n",
    "print(f\"pvalue(A dom) = {pvalue2}\")\n",
    "\n",
    "# G dominant\n",
    "table=[[22, 11],[16, 0]]\n",
    "oddsv, pvalue3=stats.fisher_exact(table)\n",
    "print(f\"pvalue(G dom) = {pvalue3}\")\n",
    "print(f\"odds ratio={oddsv}\")\n"
   ]
  },
  {
   "cell_type": "markdown",
   "metadata": {
    "id": "1ThRv0WIb_np"
   },
   "source": [
    "Odds ratio очень низкий - можем говорить, что AA связан с голубыми глазами"
   ]
  },
  {
   "cell_type": "markdown",
   "metadata": {
    "id": "NAtqJReZbiPA"
   },
   "source": [
    "Получили, что при наличии аллеля A у человека будут карие глаза"
   ]
  },
  {
   "cell_type": "markdown",
   "metadata": {
    "id": "UQ-9_ggPXgHO"
   },
   "source": [
    "AG и GA мы не различаем. У нас есть две хромосомы с белками и т.п Что значит проявление признака? Это значит, что концентрация белка, который находится на этом участке как-то хитро регулируется и белок, отвечающий за этот участок, находится в определенном количестве. Если допустим A доминантный и он, например, губит старткодон (этот кусок не реплицируется), то признак пропадет. В ситуации AA белка вообще не будет, в ситуации AG может быть 2 исхода:\n",
    "-  белок вырабатывается только с одной хромосомы (где G) и проявление признака будет зависеть только от количества произведенного белка (тогда AG и GA не имеют различий);\n",
    "-  у белка есть старт- и стопкодоны, и при этом у него есть 2 снипа, и если 2 снипа есть одновременно на одной хромомосоме, то белок не работает, а если только один из них, то работает. В такой ситуации AG или GA может играть роль. (ФОТО)\n",
    "\n",
    "Если в генотипе разделение 0|0, то нумерации нет, иначе 0/0 (мы различаем хромосомы)."
   ]
  },
  {
   "cell_type": "markdown",
   "metadata": {
    "id": "YJfUXXxrbwqw"
   },
   "source": [
    "## Increased risk"
   ]
  },
  {
   "cell_type": "markdown",
   "metadata": {
    "id": "PO2UeF6JccO6"
   },
   "source": [
    "What is the likelihood of seeing a trait given a genotype compared to overall\n",
    "likelihood of seeing the trait in the population?\n",
    "\n",
    "(ФОТО)\n",
    "\n",
    "Изначальный шанс иметь непереносимость к лактозе = $\\frac{14 (всего людей с\n",
    "непереносимостью)}{49} = 0.28$\n",
    "\n",
    "Для генотипа GG $\\frac{10}{(10+17)}=\\frac{10}{27}=0.37$\n",
    "\n",
    "Повышение риска для генотипа GG по сравнению с базовым риском\n",
    "$\\frac{0.37}{0.28}=1.32$"
   ]
  },
  {
   "cell_type": "markdown",
   "metadata": {
    "id": "hkrD-p2tdODY"
   },
   "source": []
  },
  {
   "cell_type": "code",
   "execution_count": null,
   "metadata": {
    "id": "Kbsf-XozXQk5"
   },
   "outputs": [],
   "source": [
    "Done."
   ]
  }
 ],
 "metadata": {
  "colab": {
   "authorship_tag": "ABX9TyPI6Kp/vHLCAHuE0BQVVqFo",
   "collapsed_sections": [],
   "name": "Bioinf sem 9.02",
   "provenance": []
  },
  "kernelspec": {
   "display_name": "Python 3",
   "language": "python",
   "name": "python3"
  },
  "language_info": {
   "codemirror_mode": {
    "name": "ipython",
    "version": 3
   },
   "file_extension": ".py",
   "mimetype": "text/x-python",
   "name": "python",
   "nbconvert_exporter": "python",
   "pygments_lexer": "ipython3",
   "version": "3.9.4"
  }
 },
 "nbformat": 4,
 "nbformat_minor": 1
}
