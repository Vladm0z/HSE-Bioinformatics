{
 "cells": [
  {
   "cell_type": "markdown",
   "metadata": {
    "id": "N6WYWyikzcou"
   },
   "source": [
    "## Семинар 1 (8.09)\n"
   ]
  },
  {
   "cell_type": "code",
   "execution_count": null,
   "metadata": {
    "id": "raOvZ4z3y0J7"
   },
   "outputs": [],
   "source": [
    "# скачать рекурсивно всю папку\n",
    "#!wget -rnH --cut-dirs=5 ftp://ftp.ncbi.nlm.nih.gov/genomes/refseq/bacteria/Absiella_sp._AM09-45/latest_assembly_versions/GCF_003433745.1_ASM343374v1/ -P /content"
   ]
  },
  {
   "cell_type": "code",
   "execution_count": null,
   "metadata": {
    "colab": {
     "base_uri": "https://localhost:8080/"
    },
    "executionInfo": {
     "elapsed": 1263,
     "status": "ok",
     "timestamp": 1634417287619,
     "user": {
      "displayName": "Светлана Жумлякова",
      "photoUrl": "https://lh3.googleusercontent.com/a-/AOh14Gj3YNXB8N0DbpCpgrRRfDklFs_4iah5r6yb7ppXag=s64",
      "userId": "08388063809058185277"
     },
     "user_tz": -180
    },
    "id": "dMy9A-xd0ewa",
    "outputId": "71baaca4-5302-4a3b-9373-e602ba62f4ed"
   },
   "outputs": [
    {
     "name": "stdout",
     "output_type": "stream",
     "text": [
      "--2021-10-16 20:48:14--  https://ftp.ncbi.nlm.nih.gov/genomes/refseq/bacteria/Absiella_sp._AM09-45/latest_assembly_versions/GCF_003433745.1_ASM343374v1/GCF_003433745.1_ASM343374v1_genomic.fna.gz\n",
      "Resolving ftp.ncbi.nlm.nih.gov (ftp.ncbi.nlm.nih.gov)... 130.14.250.10, 130.14.250.12, 2607:f220:41e:250::7, ...\n",
      "Connecting to ftp.ncbi.nlm.nih.gov (ftp.ncbi.nlm.nih.gov)|130.14.250.10|:443... connected.\n",
      "HTTP request sent, awaiting response... 200 OK\n",
      "Length: 1240398 (1.2M) [application/x-gzip]\n",
      "Saving to: ‘GCF_003433745.1_ASM343374v1_genomic.fna.gz’\n",
      "\n",
      "GCF_003433745.1_ASM 100%[===================>]   1.18M  3.01MB/s    in 0.4s    \n",
      "\n",
      "2021-10-16 20:48:15 (3.01 MB/s) - ‘GCF_003433745.1_ASM343374v1_genomic.fna.gz’ saved [1240398/1240398]\n",
      "\n"
     ]
    }
   ],
   "source": [
    "# скачать файл\n",
    "!wget https://ftp.ncbi.nlm.nih.gov/genomes/refseq/bacteria/Absiella_sp._AM09-45/latest_assembly_versions/GCF_003433745.1_ASM343374v1/GCF_003433745.1_ASM343374v1_genomic.fna.gz"
   ]
  },
  {
   "cell_type": "code",
   "execution_count": null,
   "metadata": {
    "id": "HB-2AzW20utr"
   },
   "outputs": [],
   "source": [
    "# распаковка архива (файлы gz)\n",
    "!gunzip /content/GCF_009858895.2_ASM985889v3_genomic.gff.gz"
   ]
  },
  {
   "cell_type": "code",
   "execution_count": null,
   "metadata": {
    "colab": {
     "base_uri": "https://localhost:8080/"
    },
    "executionInfo": {
     "elapsed": 319,
     "status": "ok",
     "timestamp": 1639586901273,
     "user": {
      "displayName": "Светлана Жумлякова",
      "photoUrl": "https://lh3.googleusercontent.com/a-/AOh14Gj3YNXB8N0DbpCpgrRRfDklFs_4iah5r6yb7ppXag=s64",
      "userId": "08388063809058185277"
     },
     "user_tz": -180
    },
    "id": "uxmKT6P71aqO",
    "outputId": "0c8c05a3-e294-4793-f9bd-29ddbf746101"
   },
   "outputs": [
    {
     "name": "stdout",
     "output_type": "stream",
     "text": [
      "GCF_009858895.2_ASM985889v3_genomic.gff  sample_data\n"
     ]
    }
   ],
   "source": [
    "# смотреть файлы в директории\n",
    "!ls"
   ]
  },
  {
   "cell_type": "code",
   "execution_count": null,
   "metadata": {
    "colab": {
     "base_uri": "https://localhost:8080/"
    },
    "executionInfo": {
     "elapsed": 23,
     "status": "ok",
     "timestamp": 1639586937131,
     "user": {
      "displayName": "Светлана Жумлякова",
      "photoUrl": "https://lh3.googleusercontent.com/a-/AOh14Gj3YNXB8N0DbpCpgrRRfDklFs_4iah5r6yb7ppXag=s64",
      "userId": "08388063809058185277"
     },
     "user_tz": -180
    },
    "id": "Hr49lCiz_w4s",
    "outputId": "6f9cecba-e48a-4ed8-a4cb-de1747fdaa7b"
   },
   "outputs": [
    {
     "name": "stdout",
     "output_type": "stream",
     "text": [
      "##gff-version 3\n",
      "#!gff-spec-version 1.21\n",
      "#!processor NCBI annotwriter\n",
      "#!genome-build ASM985889v3\n",
      "#!genome-build-accession NCBI_Assembly:GCF_009858895.2\n",
      "##sequence-region NC_045512.2 1 29903\n",
      "##species https://www.ncbi.nlm.nih.gov/Taxonomy/Browser/wwwtax.cgi?id=2697049\n",
      "NC_045512.2\tRefSeq\tregion\t1\t29903\t.\t+\t.\tID=NC_045512.2:1..29903;Dbxref=taxon:2697049;collection-date=Dec-2019;country=China;gb-acronym=SARS-CoV-2;gbkey=Src;genome=genomic;isolate=Wuhan-Hu-1;mol_type=genomic RNA;nat-host=Homo sapiens;old-name=Wuhan seafood market pneumonia virus\n",
      "NC_045512.2\tRefSeq\tfive_prime_UTR\t1\t265\t.\t+\t.\tID=id-NC_045512.2:1..265;gbkey=5'UTR\n",
      "NC_045512.2\tRefSeq\tgene\t266\t21555\t.\t+\t.\tID=gene-GU280_gp01;Dbxref=GeneID:43740578;Name=ORF1ab;gbkey=Gene;gene=ORF1ab;gene_biotype=protein_coding;locus_tag=GU280_gp01\n",
      "NC_045512.2\tRefSeq\tCDS\t266\t13468\t.\t+\t0\tID=cds-YP_009724389.1;Parent=gene-GU280_gp01;Dbxref=Genbank:YP_009724389.1,GeneID:43740578;Name=YP_009724389.1;Note=pp1ab%3B translated by -1 ribosomal frameshift;exception=ribosomal slippage;gbkey=CDS;gene=ORF1ab;locus_tag=GU280_gp01;product=ORF1ab polyprotein;protein_id=YP_009724389.1\n",
      "NC_045512.2\tRefSeq\tCDS\t13468\t21555\t.\t+\t0\tID=cds-YP_009724389.1;Parent=gene-GU280_gp01;Dbxref=Genbank:YP_009724389.1,GeneID:43740578;Name=YP_009724389.1;Note=pp1ab%3B translated by -1 ribosomal frameshift;exception=ribosomal slippage;gbkey=CDS;gene=ORF1ab;locus_tag=GU280_gp01;product=ORF1ab polyprotein;protein_id=YP_009724389.1\n",
      "NC_045512.2\tRefSeq\tmature_protein_region_of_CDS\t266\t805\t.\t+\t.\tID=id-YP_009724389.1:1..180;Note=nsp1%3B produced by both pp1a and pp1ab;Parent=cds-YP_009724389.1;gbkey=Prot;product=leader protein;protein_id=YP_009725297.1\n",
      "NC_045512.2\tRefSeq\tmature_protein_region_of_CDS\t806\t2719\t.\t+\t.\tID=id-YP_009724389.1:181..818;Note=produced by both pp1a and pp1ab;Parent=cds-YP_009724389.1;gbkey=Prot;product=nsp2;protein_id=YP_009725298.1\n",
      "NC_045512.2\tRefSeq\tmature_protein_region_of_CDS\t2720\t8554\t.\t+\t.\tID=id-YP_009724389.1:819..2763;Note=former nsp1%3B conserved domains are: N-terminal acidic (Ac)%2C predicted phosphoesterase%2C papain-like proteinase%2C Y-domain%2C transmembrane domain 1 (TM1)%2C adenosine diphosphate-ribose 1''-phosphatase (ADRP)%3B produced by both pp1a and pp1ab;Parent=cds-YP_009724389.1;gbkey=Prot;product=nsp3;protein_id=YP_009725299.1\n",
      "NC_045512.2\tRefSeq\tmature_protein_region_of_CDS\t8555\t10054\t.\t+\t.\tID=id-YP_009724389.1:2764..3263;Note=nsp4B_TM%3B contains transmembrane domain 2 (TM2)%3B produced by both pp1a and pp1ab;Parent=cds-YP_009724389.1;gbkey=Prot;product=nsp4;protein_id=YP_009725300.1\n",
      "NC_045512.2\tRefSeq\tmature_protein_region_of_CDS\t10055\t10972\t.\t+\t.\tID=id-YP_009724389.1:3264..3569;Note=nsp5A_3CLpro and nsp5B_3CLpro%3B main proteinase (Mpro)%3B mediates cleavages downstream of nsp4. 3D structure of the SARSr-CoV homolog has been determined (Yang et al.%2C 2003)%3B produced by both pp1a and pp1ab;Parent=cds-YP_009724389.1;gbkey=Prot;product=3C-like proteinase;protein_id=YP_009725301.1\n",
      "NC_045512.2\tRefSeq\tmature_protein_region_of_CDS\t10973\t11842\t.\t+\t.\tID=id-YP_009724389.1:3570..3859;Note=nsp6_TM%3B putative transmembrane domain%3B produced by both pp1a and pp1ab;Parent=cds-YP_009724389.1;gbkey=Prot;product=nsp6;protein_id=YP_009725302.1\n",
      "NC_045512.2\tRefSeq\tmature_protein_region_of_CDS\t11843\t12091\t.\t+\t.\tID=id-YP_009724389.1:3860..3942;Note=produced by both pp1a and pp1ab;Parent=cds-YP_009724389.1;gbkey=Prot;product=nsp7;protein_id=YP_009725303.1\n",
      "NC_045512.2\tRefSeq\tmature_protein_region_of_CDS\t12092\t12685\t.\t+\t.\tID=id-YP_009724389.1:3943..4140;Note=produced by both pp1a and pp1ab;Parent=cds-YP_009724389.1;gbkey=Prot;product=nsp8;protein_id=YP_009725304.1\n",
      "NC_045512.2\tRefSeq\tmature_protein_region_of_CDS\t12686\t13024\t.\t+\t.\tID=id-YP_009724389.1:4141..4253;Note=ssRNA-binding protein%3B produced by both pp1a and pp1ab;Parent=cds-YP_009724389.1;gbkey=Prot;product=nsp9;protein_id=YP_009725305.1\n",
      "NC_045512.2\tRefSeq\tmature_protein_region_of_CDS\t13025\t13441\t.\t+\t.\tID=id-YP_009724389.1:4254..4392;Note=nsp10_CysHis%3B formerly known as growth-factor-like protein (GFL)%3B produced by both pp1a and pp1ab;Parent=cds-YP_009724389.1;gbkey=Prot;product=nsp10;protein_id=YP_009725306.1\n",
      "NC_045512.2\tRefSeq\tmature_protein_region_of_CDS\t13442\t13468\t.\t+\t.\tID=id-YP_009724389.1:4393..5324;Note=nsp12%3B NiRAN and RdRp%3B produced by pp1ab only;Parent=cds-YP_009724389.1;gbkey=Prot;product=RNA-dependent RNA polymerase;protein_id=YP_009725307.1\n",
      "NC_045512.2\tRefSeq\tmature_protein_region_of_CDS\t13468\t16236\t.\t+\t.\tID=id-YP_009724389.1:4393..5324;Note=nsp12%3B NiRAN and RdRp%3B produced by pp1ab only;Parent=cds-YP_009724389.1;gbkey=Prot;product=RNA-dependent RNA polymerase;protein_id=YP_009725307.1\n",
      "NC_045512.2\tRefSeq\tmature_protein_region_of_CDS\t16237\t18039\t.\t+\t.\tID=id-YP_009724389.1:5325..5925;Note=nsp13_ZBD%2C nsp13_TB%2C and nsp_HEL1core%3B zinc-binding domain (ZD)%2C NTPase/helicase domain (HEL)%2C RNA 5'-triphosphatase%3B produced by pp1ab only;Parent=cds-YP_009724389.1;gbkey=Prot;product=helicase;protein_id=YP_009725308.1\n",
      "NC_045512.2\tRefSeq\tmature_protein_region_of_CDS\t18040\t19620\t.\t+\t.\tID=id-YP_009724389.1:5926..6452;Note=nsp14A2_ExoN and nsp14B_NMT%3B produced by pp1ab only;Parent=cds-YP_009724389.1;gbkey=Prot;product=3'-to-5' exonuclease;protein_id=YP_009725309.1\n",
      "NC_045512.2\tRefSeq\tmature_protein_region_of_CDS\t19621\t20658\t.\t+\t.\tID=id-YP_009724389.1:6453..6798;Note=nsp15-A1 and nsp15B-NendoU%3B produced by pp1ab only;Parent=cds-YP_009724389.1;gbkey=Prot;product=endoRNAse;protein_id=YP_009725310.1\n",
      "NC_045512.2\tRefSeq\tmature_protein_region_of_CDS\t20659\t21552\t.\t+\t.\tID=id-YP_009724389.1:6799..7096;Note=nsp16_OMT%3B 2'-o-MT%3B produced by pp1ab only;Parent=cds-YP_009724389.1;gbkey=Prot;product=2'-O-ribose methyltransferase;protein_id=YP_009725311.1\n",
      "NC_045512.2\tRefSeq\tCDS\t266\t13483\t.\t+\t0\tID=cds-YP_009725295.1;Parent=gene-GU280_gp01;Dbxref=Genbank:YP_009725295.1,GeneID:43740578;Name=YP_009725295.1;Note=pp1a;gbkey=CDS;gene=ORF1ab;locus_tag=GU280_gp01;product=ORF1a polyprotein;protein_id=YP_009725295.1\n",
      "NC_045512.2\tRefSeq\tmature_protein_region_of_CDS\t266\t805\t.\t+\t.\tID=id-YP_009725295.1:1..180;Note=nsp1%3B produced by both pp1a and pp1ab;Parent=cds-YP_009725295.1;gbkey=Prot;product=leader protein;protein_id=YP_009742608.1\n",
      "NC_045512.2\tRefSeq\tmature_protein_region_of_CDS\t806\t2719\t.\t+\t.\tID=id-YP_009725295.1:181..818;Note=produced by both pp1a and pp1ab;Parent=cds-YP_009725295.1;gbkey=Prot;product=nsp2;protein_id=YP_009742609.1\n",
      "NC_045512.2\tRefSeq\tmature_protein_region_of_CDS\t2720\t8554\t.\t+\t.\tID=id-YP_009725295.1:819..2763;Note=former nsp1%3B conserved domains are: N-terminal acidic (Ac)%2C predicted phosphoesterase%2C papain-like proteinase%2C Y-domain%2C transmembrane domain 1 (TM1)%2C adenosine diphosphate-ribose 1''-phosphatase (ADRP)%3B produced by both pp1a and pp1ab;Parent=cds-YP_009725295.1;gbkey=Prot;product=nsp3;protein_id=YP_009742610.1\n",
      "NC_045512.2\tRefSeq\tmature_protein_region_of_CDS\t8555\t10054\t.\t+\t.\tID=id-YP_009725295.1:2764..3263;Note=nsp4B_TM%3B contains transmembrane domain 2 (TM2)%3B produced by both pp1a and pp1ab;Parent=cds-YP_009725295.1;gbkey=Prot;product=nsp4;protein_id=YP_009742611.1\n",
      "NC_045512.2\tRefSeq\tmature_protein_region_of_CDS\t10055\t10972\t.\t+\t.\tID=id-YP_009725295.1:3264..3569;Note=nsp5A_3CLpro and nsp5B_3CLpro%3B main proteinase (Mpro)%3B mediates cleavages downstream of nsp4. 3D structure of the SARSr-CoV homolog has been determined (Yang et al.%2C 2003)%3B produced by both pp1a and pp1ab;Parent=cds-YP_009725295.1;gbkey=Prot;product=3C-like proteinase;protein_id=YP_009742612.1\n",
      "NC_045512.2\tRefSeq\tmature_protein_region_of_CDS\t10973\t11842\t.\t+\t.\tID=id-YP_009725295.1:3570..3859;Note=nsp6_TM%3B putative transmembrane domain%3B produced by both pp1a and pp1ab;Parent=cds-YP_009725295.1;gbkey=Prot;product=nsp6;protein_id=YP_009742613.1\n",
      "NC_045512.2\tRefSeq\tmature_protein_region_of_CDS\t11843\t12091\t.\t+\t.\tID=id-YP_009725295.1:3860..3942;Note=produced by both pp1a and pp1ab;Parent=cds-YP_009725295.1;gbkey=Prot;product=nsp7;protein_id=YP_009742614.1\n",
      "NC_045512.2\tRefSeq\tmature_protein_region_of_CDS\t12092\t12685\t.\t+\t.\tID=id-YP_009725295.1:3943..4140;Note=produced by both pp1a and pp1ab;Parent=cds-YP_009725295.1;gbkey=Prot;product=nsp8;protein_id=YP_009742615.1\n",
      "NC_045512.2\tRefSeq\tmature_protein_region_of_CDS\t12686\t13024\t.\t+\t.\tID=id-YP_009725295.1:4141..4253;Note=ssRNA-binding protein%3B produced by both pp1a and pp1ab;Parent=cds-YP_009725295.1;gbkey=Prot;product=nsp9;protein_id=YP_009742616.1\n",
      "NC_045512.2\tRefSeq\tmature_protein_region_of_CDS\t13025\t13441\t.\t+\t.\tID=id-YP_009725295.1:4254..4392;Note=nsp10_CysHis%3B formerly known as growth-factor-like protein (GFL)%3B produced by both pp1a and pp1ab;Parent=cds-YP_009725295.1;gbkey=Prot;product=nsp10;protein_id=YP_009742617.1\n",
      "NC_045512.2\tRefSeq\tmature_protein_region_of_CDS\t13442\t13480\t.\t+\t.\tID=id-YP_009725295.1:4393..4405;Note=produced by pp1a only;Parent=cds-YP_009725295.1;gbkey=Prot;product=nsp11;protein_id=YP_009725312.1\n",
      "NC_045512.2\tRefSeq\tstem_loop\t13476\t13503\t.\t+\t.\tID=id-GU280_gp01;Dbxref=GeneID:43740578;function=Coronavirus frameshifting stimulation element stem-loop 1;gbkey=stem_loop;gene=ORF1ab;inference=COORDINATES: profile:Rfam-release-14.1:RF00507%2CInfernal:1.1.2;locus_tag=GU280_gp01\n",
      "NC_045512.2\tRefSeq\tstem_loop\t13488\t13542\t.\t+\t.\tID=id-GU280_gp01-2;Dbxref=GeneID:43740578;function=Coronavirus frameshifting stimulation element stem-loop 2;gbkey=stem_loop;gene=ORF1ab;inference=COORDINATES: profile:Rfam-release-14.1:RF00507%2CInfernal:1.1.2;locus_tag=GU280_gp01\n",
      "NC_045512.2\tRefSeq\tgene\t21563\t25384\t.\t+\t.\tID=gene-GU280_gp02;Dbxref=GeneID:43740568;Name=S;gbkey=Gene;gene=S;gene_biotype=protein_coding;gene_synonym=spike glycoprotein;locus_tag=GU280_gp02\n",
      "NC_045512.2\tRefSeq\tCDS\t21563\t25384\t.\t+\t0\tID=cds-YP_009724390.1;Parent=gene-GU280_gp02;Dbxref=Genbank:YP_009724390.1,GeneID:43740568;Name=YP_009724390.1;Note=structural protein%3B spike protein;gbkey=CDS;gene=S;locus_tag=GU280_gp02;product=surface glycoprotein;protein_id=YP_009724390.1\n",
      "NC_045512.2\tRefSeq\tgene\t25393\t26220\t.\t+\t.\tID=gene-GU280_gp03;Dbxref=GeneID:43740569;Name=ORF3a;gbkey=Gene;gene=ORF3a;gene_biotype=protein_coding;locus_tag=GU280_gp03\n",
      "NC_045512.2\tRefSeq\tCDS\t25393\t26220\t.\t+\t0\tID=cds-YP_009724391.1;Parent=gene-GU280_gp03;Dbxref=Genbank:YP_009724391.1,GeneID:43740569;Name=YP_009724391.1;gbkey=CDS;gene=ORF3a;locus_tag=GU280_gp03;product=ORF3a protein;protein_id=YP_009724391.1\n",
      "NC_045512.2\tRefSeq\tgene\t26245\t26472\t.\t+\t.\tID=gene-GU280_gp04;Dbxref=GeneID:43740570;Name=E;gbkey=Gene;gene=E;gene_biotype=protein_coding;locus_tag=GU280_gp04\n",
      "NC_045512.2\tRefSeq\tCDS\t26245\t26472\t.\t+\t0\tID=cds-YP_009724392.1;Parent=gene-GU280_gp04;Dbxref=Genbank:YP_009724392.1,GeneID:43740570;Name=YP_009724392.1;Note=ORF4%3B structural protein%3B E protein;gbkey=CDS;gene=E;locus_tag=GU280_gp04;product=envelope protein;protein_id=YP_009724392.1\n",
      "NC_045512.2\tRefSeq\tgene\t26523\t27191\t.\t+\t.\tID=gene-GU280_gp05;Dbxref=GeneID:43740571;Name=M;gbkey=Gene;gene=M;gene_biotype=protein_coding;locus_tag=GU280_gp05\n",
      "NC_045512.2\tRefSeq\tCDS\t26523\t27191\t.\t+\t0\tID=cds-YP_009724393.1;Parent=gene-GU280_gp05;Dbxref=Genbank:YP_009724393.1,GeneID:43740571;Name=YP_009724393.1;Note=ORF5%3B structural protein;gbkey=CDS;gene=M;locus_tag=GU280_gp05;product=membrane glycoprotein;protein_id=YP_009724393.1\n",
      "NC_045512.2\tRefSeq\tgene\t27202\t27387\t.\t+\t.\tID=gene-GU280_gp06;Dbxref=GeneID:43740572;Name=ORF6;gbkey=Gene;gene=ORF6;gene_biotype=protein_coding;locus_tag=GU280_gp06\n",
      "NC_045512.2\tRefSeq\tCDS\t27202\t27387\t.\t+\t0\tID=cds-YP_009724394.1;Parent=gene-GU280_gp06;Dbxref=Genbank:YP_009724394.1,GeneID:43740572;Name=YP_009724394.1;gbkey=CDS;gene=ORF6;locus_tag=GU280_gp06;product=ORF6 protein;protein_id=YP_009724394.1\n",
      "NC_045512.2\tRefSeq\tgene\t27394\t27759\t.\t+\t.\tID=gene-GU280_gp07;Dbxref=GeneID:43740573;Name=ORF7a;gbkey=Gene;gene=ORF7a;gene_biotype=protein_coding;locus_tag=GU280_gp07\n",
      "NC_045512.2\tRefSeq\tCDS\t27394\t27759\t.\t+\t0\tID=cds-YP_009724395.1;Parent=gene-GU280_gp07;Dbxref=Genbank:YP_009724395.1,GeneID:43740573;Name=YP_009724395.1;gbkey=CDS;gene=ORF7a;locus_tag=GU280_gp07;product=ORF7a protein;protein_id=YP_009724395.1\n",
      "NC_045512.2\tRefSeq\tgene\t27756\t27887\t.\t+\t.\tID=gene-GU280_gp08;Dbxref=GeneID:43740574;Name=ORF7b;gbkey=Gene;gene=ORF7b;gene_biotype=protein_coding;locus_tag=GU280_gp08\n",
      "NC_045512.2\tRefSeq\tCDS\t27756\t27887\t.\t+\t0\tID=cds-YP_009725318.1;Parent=gene-GU280_gp08;Dbxref=Genbank:YP_009725318.1,GeneID:43740574;Name=YP_009725318.1;gbkey=CDS;gene=ORF7b;locus_tag=GU280_gp08;product=ORF7b;protein_id=YP_009725318.1\n",
      "NC_045512.2\tRefSeq\tgene\t27894\t28259\t.\t+\t.\tID=gene-GU280_gp09;Dbxref=GeneID:43740577;Name=ORF8;gbkey=Gene;gene=ORF8;gene_biotype=protein_coding;locus_tag=GU280_gp09\n",
      "NC_045512.2\tRefSeq\tCDS\t27894\t28259\t.\t+\t0\tID=cds-YP_009724396.1;Parent=gene-GU280_gp09;Dbxref=Genbank:YP_009724396.1,GeneID:43740577;Name=YP_009724396.1;gbkey=CDS;gene=ORF8;locus_tag=GU280_gp09;product=ORF8 protein;protein_id=YP_009724396.1\n",
      "NC_045512.2\tRefSeq\tgene\t28274\t29533\t.\t+\t.\tID=gene-GU280_gp10;Dbxref=GeneID:43740575;Name=N;gbkey=Gene;gene=N;gene_biotype=protein_coding;locus_tag=GU280_gp10\n",
      "NC_045512.2\tRefSeq\tCDS\t28274\t29533\t.\t+\t0\tID=cds-YP_009724397.2;Parent=gene-GU280_gp10;Dbxref=Genbank:YP_009724397.2,GeneID:43740575;Name=YP_009724397.2;Note=ORF9%3B structural protein;gbkey=CDS;gene=N;locus_tag=GU280_gp10;product=nucleocapsid phosphoprotein;protein_id=YP_009724397.2\n",
      "NC_045512.2\tRefSeq\tgene\t29558\t29674\t.\t+\t.\tID=gene-GU280_gp11;Dbxref=GeneID:43740576;Name=ORF10;gbkey=Gene;gene=ORF10;gene_biotype=protein_coding;locus_tag=GU280_gp11\n",
      "NC_045512.2\tRefSeq\tCDS\t29558\t29674\t.\t+\t0\tID=cds-YP_009725255.1;Parent=gene-GU280_gp11;Dbxref=Genbank:YP_009725255.1,GeneID:43740576;Name=YP_009725255.1;gbkey=CDS;gene=ORF10;locus_tag=GU280_gp11;product=ORF10 protein;protein_id=YP_009725255.1\n",
      "NC_045512.2\tRefSeq\tstem_loop\t29609\t29644\t.\t+\t.\tID=id-GU280_gp11;Dbxref=GeneID:43740576;function=Coronavirus 3' UTR pseudoknot stem-loop 1;gbkey=stem_loop;gene=ORF10;inference=COORDINATES: profile::Rfam-release-14.1:RF00165%2CInfernal:1.1.2;locus_tag=GU280_gp11\n",
      "NC_045512.2\tRefSeq\tstem_loop\t29629\t29657\t.\t+\t.\tID=id-GU280_gp11-2;Dbxref=GeneID:43740576;function=Coronavirus 3' UTR pseudoknot stem-loop 2;gbkey=stem_loop;gene=ORF10;inference=COORDINATES: profile::Rfam-release-14.1:RF00165%2CInfernal:1.1.2;locus_tag=GU280_gp11\n",
      "NC_045512.2\tRefSeq\tthree_prime_UTR\t29675\t29903\t.\t+\t.\tID=id-NC_045512.2:29675..29903;gbkey=3'UTR\n",
      "NC_045512.2\tRefSeq\tstem_loop\t29728\t29768\t.\t+\t.\tID=id-NC_045512.2:29728..29768;Note=basepair exception: alignment to the Rfam model implies coordinates 29740:29758 form a noncanonical C:T basepair%2C but the homologous positions form a highly conserved C:G basepair in other viruses%2C including SARS (NC_004718.3);function=Coronavirus 3' stem-loop II-like motif (s2m);gbkey=stem_loop;inference=COORDINATES: profile:Rfam-release-14.1:RF00164%2CInfernal:1.1.2\n",
      "###\n"
     ]
    }
   ],
   "source": [
    "!cat GCF_009858895.2_ASM985889v3_genomic.gff"
   ]
  },
  {
   "cell_type": "code",
   "execution_count": null,
   "metadata": {
    "id": "JGrfG4wq1ejj"
   },
   "outputs": [],
   "source": [
    "# смотреть команды\n",
    "!wget -h"
   ]
  },
  {
   "cell_type": "code",
   "execution_count": null,
   "metadata": {
    "id": "D3wpLsuj3f7X"
   },
   "outputs": [],
   "source": [
    "#вывод файла\n",
    "# !cat GCF_003433745.1_ASM343374v1_genomic.fna\n",
    "\n",
    "#вывод 10 первых строчек\n",
    "# !head GCF_003433745.1_ASM343374v1_genomic.fna"
   ]
  },
  {
   "cell_type": "code",
   "execution_count": null,
   "metadata": {
    "id": "7SHVYcUT3uup"
   },
   "outputs": [],
   "source": [
    "# !wget https://ftp.ncbi.nlm.nih.gov/genomes/refseq/bacteria/Absiella_sp._AM09-45/latest_assembly_versions/GCF_003433745.1_ASM343374v1/GCF_003433745.1_ASM343374v1_feature_table.txt.gz\n",
    "!gunzip GCF_003433745.1_ASM343374v1_feature_table.txt.gz"
   ]
  },
  {
   "cell_type": "code",
   "execution_count": null,
   "metadata": {
    "colab": {
     "base_uri": "https://localhost:8080/"
    },
    "executionInfo": {
     "elapsed": 483,
     "status": "ok",
     "timestamp": 1634418025280,
     "user": {
      "displayName": "Светлана Жумлякова",
      "photoUrl": "https://lh3.googleusercontent.com/a-/AOh14Gj3YNXB8N0DbpCpgrRRfDklFs_4iah5r6yb7ppXag=s64",
      "userId": "08388063809058185277"
     },
     "user_tz": -180
    },
    "id": "yqkBbKdC4R0C",
    "outputId": "adebf71f-3c67-4735-d303-e5d3ad192e1b"
   },
   "outputs": [
    {
     "name": "stdout",
     "output_type": "stream",
     "text": [
      "GCF_003433745.1_ASM343374v1_feature_table.txt  sample_data\n",
      "GCF_003433745.1_ASM343374v1_genomic.fna\n"
     ]
    }
   ],
   "source": [
    "!ls"
   ]
  },
  {
   "cell_type": "code",
   "execution_count": null,
   "metadata": {
    "colab": {
     "base_uri": "https://localhost:8080/"
    },
    "executionInfo": {
     "elapsed": 336,
     "status": "ok",
     "timestamp": 1634418027314,
     "user": {
      "displayName": "Светлана Жумлякова",
      "photoUrl": "https://lh3.googleusercontent.com/a-/AOh14Gj3YNXB8N0DbpCpgrRRfDklFs_4iah5r6yb7ppXag=s64",
      "userId": "08388063809058185277"
     },
     "user_tz": -180
    },
    "id": "Ydwf73al5taE",
    "outputId": "062d4d17-2484-4329-de30-c8b0c89efb89"
   },
   "outputs": [
    {
     "name": "stdout",
     "output_type": "stream",
     "text": [
      "# feature\tclass\tassembly\tassembly_unit\tseq_type\tchromosome\tgenomic_accession\tstart\tend\tstrand\tproduct_accession\tnon-redundant_refseq\trelated_accession\tname\tsymbol\tGeneID\tlocus_tag\tfeature_interval_length\tproduct_length\tattributes\n",
      "gene\tprotein_coding\tGCF_003433745.1\tPrimary Assembly\tunplaced scaffold\t\tNZ_QVFJ01000001.1\t69\t746\t-\t\t\t\t\t\t\tDW113_RS00005\t678\t\told_locus_tag=DW113_00005\n",
      "CDS\twith_protein\tGCF_003433745.1\tPrimary Assembly\tunplaced scaffold\t\tNZ_QVFJ01000001.1\t69\t746\t-\tWP_117452466.1\tWP_117452466.1\t\tsuppressor of fused domain protein\t\t\tDW113_RS00005\t678\t225\t\n",
      "gene\tprotein_coding\tGCF_003433745.1\tPrimary Assembly\tunplaced scaffold\t\tNZ_QVFJ01000001.1\t757\t2415\t-\t\t\t\t\t\t\tDW113_RS00010\t1659\t\told_locus_tag=DW113_00010\n",
      "CDS\twith_protein\tGCF_003433745.1\tPrimary Assembly\tunplaced scaffold\t\tNZ_QVFJ01000001.1\t757\t2415\t-\tWP_117452465.1\tWP_117452465.1\t\tfibronectin-binding domain-containing protein\t\t\tDW113_RS00010\t1659\t552\t\n",
      "gene\tprotein_coding\tGCF_003433745.1\tPrimary Assembly\tunplaced scaffold\t\tNZ_QVFJ01000001.1\t2530\t3102\t+\t\t\t\t\tgmk\t\tDW113_RS00015\t573\t\told_locus_tag=DW113_00015\n",
      "CDS\twith_protein\tGCF_003433745.1\tPrimary Assembly\tunplaced scaffold\t\tNZ_QVFJ01000001.1\t2530\t3102\t+\tWP_117452464.1\tWP_117452464.1\t\tguanylate kinase\tgmk\t\tDW113_RS00015\t573\t190\t\n",
      "gene\tprotein_coding\tGCF_003433745.1\tPrimary Assembly\tunplaced scaffold\t\tNZ_QVFJ01000001.1\t3189\t4520\t-\t\t\t\t\tgdhA\t\tDW113_RS00020\t1332\t\told_locus_tag=DW113_00020\n",
      "CDS\twith_protein\tGCF_003433745.1\tPrimary Assembly\tunplaced scaffold\t\tNZ_QVFJ01000001.1\t3189\t4520\t-\tWP_117452463.1\tWP_117452463.1\t\tNADP-specific glutamate dehydrogenase\tgdhA\t\tDW113_RS00020\t1332\t443\t\n",
      "gene\tprotein_coding\tGCF_003433745.1\tPrimary Assembly\tunplaced scaffold\t\tNZ_QVFJ01000001.1\t4705\t4929\t+\t\t\t\t\t\t\tDW113_RS00025\t225\t\told_locus_tag=DW113_00025\n"
     ]
    }
   ],
   "source": [
    "!head GCF_003433745.1_ASM343374v1_feature_table.txt"
   ]
  },
  {
   "cell_type": "code",
   "execution_count": null,
   "metadata": {
    "colab": {
     "base_uri": "https://localhost:8080/"
    },
    "executionInfo": {
     "elapsed": 460,
     "status": "ok",
     "timestamp": 1634418138423,
     "user": {
      "displayName": "Светлана Жумлякова",
      "photoUrl": "https://lh3.googleusercontent.com/a-/AOh14Gj3YNXB8N0DbpCpgrRRfDklFs_4iah5r6yb7ppXag=s64",
      "userId": "08388063809058185277"
     },
     "user_tz": -180
    },
    "id": "A0Ev09Qj5y2V",
    "outputId": "a2b96c0f-a7ef-4441-e760-87d6501ce336"
   },
   "outputs": [
    {
     "name": "stdout",
     "output_type": "stream",
     "text": [
      "8437\n"
     ]
    }
   ],
   "source": [
    "# Посчитать количество фичей строк -1 \n",
    "!cat GCF_003433745.1_ASM343374v1_feature_table.txt | wc -l"
   ]
  },
  {
   "cell_type": "code",
   "execution_count": null,
   "metadata": {
    "id": "fuySM3vU6Zl5"
   },
   "outputs": [],
   "source": [
    "# Поиск по шаблону в файле\n",
    "# !cat GCF_003433745.1_ASM343374v1_feature_table.txt | grep tRNA\n",
    "# Интерактивный просмотр\n",
    "# !more GCF_003433745.1_ASM343374v1_feature_table.txt\n",
    "# !less GCF_003433745.1_ASM343374v1_feature_table.txt"
   ]
  },
  {
   "cell_type": "code",
   "execution_count": null,
   "metadata": {
    "colab": {
     "base_uri": "https://localhost:8080/"
    },
    "executionInfo": {
     "elapsed": 376,
     "status": "ok",
     "timestamp": 1634418541462,
     "user": {
      "displayName": "Светлана Жумлякова",
      "photoUrl": "https://lh3.googleusercontent.com/a-/AOh14Gj3YNXB8N0DbpCpgrRRfDklFs_4iah5r6yb7ppXag=s64",
      "userId": "08388063809058185277"
     },
     "user_tz": -180
    },
    "id": "JVxHXpza6mfI",
    "outputId": "16b571ed-7914-427f-b68e-b98024f07c38"
   },
   "outputs": [
    {
     "name": "stdout",
     "output_type": "stream",
     "text": [
      "4308587\n"
     ]
    }
   ],
   "source": [
    "# Число символов во всем файле\n",
    "!cat GCF_003433745.1_ASM343374v1_genomic.fna | wc -m"
   ]
  },
  {
   "cell_type": "code",
   "execution_count": null,
   "metadata": {
    "colab": {
     "base_uri": "https://localhost:8080/"
    },
    "executionInfo": {
     "elapsed": 9,
     "status": "ok",
     "timestamp": 1634418543118,
     "user": {
      "displayName": "Светлана Жумлякова",
      "photoUrl": "https://lh3.googleusercontent.com/a-/AOh14Gj3YNXB8N0DbpCpgrRRfDklFs_4iah5r6yb7ppXag=s64",
      "userId": "08388063809058185277"
     },
     "user_tz": -180
    },
    "id": "j2XeopAv7vS1",
    "outputId": "62d751f8-4a05-45af-db83-1c1e7aed8bc2"
   },
   "outputs": [
    {
     "name": "stdout",
     "output_type": "stream",
     "text": [
      "85\n"
     ]
    }
   ],
   "source": [
    "# Число символов в первой строке\n",
    "!head -n1 /content/GCF_003433745.1_ASM343374v1_genomic.fna | wc -m"
   ]
  },
  {
   "cell_type": "code",
   "execution_count": null,
   "metadata": {
    "colab": {
     "base_uri": "https://localhost:8080/"
    },
    "executionInfo": {
     "elapsed": 345,
     "status": "ok",
     "timestamp": 1634419520817,
     "user": {
      "displayName": "Светлана Жумлякова",
      "photoUrl": "https://lh3.googleusercontent.com/a-/AOh14Gj3YNXB8N0DbpCpgrRRfDklFs_4iah5r6yb7ppXag=s64",
      "userId": "08388063809058185277"
     },
     "user_tz": -180
    },
    "id": "c-1mlSr-730Y",
    "outputId": "7e421d7d-16f4-4f86-f173-fee744d440b6"
   },
   "outputs": [
    {
     "name": "stdout",
     "output_type": "stream",
     "text": [
      "CDS\twith_protein\tGCF_003433745.1\tPrimary Assembly\tunplaced scaffold\t\tNZ_QVFJ01000013.1\t32673\t33065\t-\tWP_117453985.1\tWP_117453985.1\t\tATP synthase F1 subunit epsilon\tatpC\t\tDW113_RS10265\t393\t130\t\n",
      "CDS\twith_protein\tGCF_003433745.1\tPrimary Assembly\tunplaced scaffold\t\tNZ_QVFJ01000013.1\t33069\t34472\t-\tWP_117453986.1\tWP_117453986.1\t\tF0F1 ATP synthase subunit beta\tatpD\t\tDW113_RS10270\t1404\t467\t\n",
      "CDS\twith_protein\tGCF_003433745.1\tPrimary Assembly\tunplaced scaffold\t\tNZ_QVFJ01000013.1\t34476\t35324\t-\tWP_117453987.1\tWP_117453987.1\t\tATP synthase F1 subunit gamma\tatpG\t\tDW113_RS10275\t849\t282\t\n",
      "CDS\twith_protein\tGCF_003433745.1\tPrimary Assembly\tunplaced scaffold\t\tNZ_QVFJ01000013.1\t35328\t36848\t-\tWP_117453988.1\tWP_117453988.1\t\tF0F1 ATP synthase subunit alpha\t\t\tDW113_RS10280\t1521\t506\t\n",
      "CDS\twith_protein\tGCF_003433745.1\tPrimary Assembly\tunplaced scaffold\t\tNZ_QVFJ01000013.1\t36859\t37404\t-\tWP_117453989.1\tWP_117453989.1\t\tATP synthase F1 subunit delta\tatpH\t\tDW113_RS10285\t546\t181\t\n",
      "CDS\twith_protein\tGCF_003433745.1\tPrimary Assembly\tunplaced scaffold\t\tNZ_QVFJ01000013.1\t37392\t37910\t-\tWP_117453990.1\tWP_117453990.1\t\tF0F1 ATP synthase subunit B\tatpF\t\tDW113_RS10290\t519\t172\t\n",
      "CDS\twith_protein\tGCF_003433745.1\tPrimary Assembly\tunplaced scaffold\t\tNZ_QVFJ01000013.1\t37943\t38182\t-\tWP_117453991.1\tWP_117453991.1\t\tATP synthase F0 subunit C\tatpE\t\tDW113_RS10295\t240\t79\t\n",
      "CDS\twith_protein\tGCF_003433745.1\tPrimary Assembly\tunplaced scaffold\t\tNZ_QVFJ01000013.1\t38219\t38911\t-\tWP_117453992.1\tWP_117453992.1\t\tF0F1 ATP synthase subunit A\t\t\tDW113_RS10300\t693\t230\t\n",
      "CDS\twith_protein\tGCF_003433745.1\tPrimary Assembly\tunplaced scaffold\t\tNZ_QVFJ01000018.1\t54\t1982\t+\tWP_117451843.1\tWP_117451843.1\t\tV-type ATP synthase subunit I\t\t\tDW113_RS12510\t1929\t642\t\n",
      "CDS\twith_protein\tGCF_003433745.1\tPrimary Assembly\tunplaced scaffold\t\tNZ_QVFJ01000018.1\t1999\t2442\t+\tWP_117451845.1\tWP_117451845.1\t\tATP synthase subunit C\t\t\tDW113_RS12515\t444\t147\t\n",
      "CDS\twith_protein\tGCF_003433745.1\tPrimary Assembly\tunplaced scaffold\t\tNZ_QVFJ01000018.1\t2463\t2771\t+\tWP_117451847.1\tWP_117451847.1\t\tV-type ATP synthase subunit F\t\t\tDW113_RS12520\t309\t102\t\n",
      "CDS\twith_protein\tGCF_003433745.1\tPrimary Assembly\tunplaced scaffold\t\tNZ_QVFJ01000018.1\t2782\t3378\t+\tWP_117451849.1\tWP_117451849.1\t\tV-type ATP synthase subunit E\t\t\tDW113_RS12525\t597\t198\t\n",
      "CDS\twith_protein\tGCF_003433745.1\tPrimary Assembly\tunplaced scaffold\t\tNZ_QVFJ01000018.1\t3419\t5176\t+\tWP_117451851.1\tWP_117451851.1\t\tV-type ATP synthase subunit A\t\t\tDW113_RS12530\t1758\t585\t\n",
      "CDS\twith_protein\tGCF_003433745.1\tPrimary Assembly\tunplaced scaffold\t\tNZ_QVFJ01000018.1\t5194\t6636\t+\tWP_117451853.1\tWP_117451853.1\t\tV-type ATP synthase subunit B\t\t\tDW113_RS12535\t1443\t480\t\n",
      "CDS\twith_protein\tGCF_003433745.1\tPrimary Assembly\tunplaced scaffold\t\tNZ_QVFJ01000018.1\t6639\t7274\t+\tWP_117451855.1\tWP_117451855.1\t\tV-type ATP synthase subunit D\t\t\tDW113_RS12540\t636\t211\t\n"
     ]
    }
   ],
   "source": [
    "!more /content/GCF_003433745.1_ASM343374v1_feature_table.txt | grep \"ATP synthase\""
   ]
  },
  {
   "cell_type": "markdown",
   "metadata": {
    "id": "IElmIZL7BNxR"
   },
   "source": [
    "\n",
    "-------> (положительный стренд)\n",
    "\n",
    "1 2 3 4\n",
    "\n",
    "A T G C\n",
    "\n",
    "T A C G\n",
    "\n",
    "<------- (отрицательный стренд)\n",
    "\n",
    "отрицателньый стред (1, 4) - GCAT "
   ]
  },
  {
   "cell_type": "markdown",
   "metadata": {
    "id": "aWTLV_rZB81L"
   },
   "source": [
    "## Семинар 2 (15.09)"
   ]
  },
  {
   "cell_type": "markdown",
   "metadata": {
    "id": "7GrQOxSzICaA"
   },
   "source": [
    "Были всякие Linux команды. Есть в файлике\n",
    "\n",
    "https://drive.google.com/file/d/1SeCPSKKS6u8yQm33GBeHpa54z8kOp3-L/view"
   ]
  },
  {
   "cell_type": "markdown",
   "metadata": {
    "id": "Ou2l07iVIdL_"
   },
   "source": [
    "## Семинар 3 (22.09)"
   ]
  },
  {
   "cell_type": "markdown",
   "metadata": {
    "id": "719hfUQ8I6FG"
   },
   "source": [
    "Файл семинара \n",
    "\n",
    "https://drive.google.com/file/d/19F3gLK9SVt2exD-Q_znbHwsyIU_jHGs-/view\n",
    "\n",
    "Работа с UCSC"
   ]
  },
  {
   "cell_type": "markdown",
   "metadata": {
    "id": "WQJI7-MnYgDw"
   },
   "source": [
    "## Семинар 4 (29.09)"
   ]
  },
  {
   "cell_type": "markdown",
   "metadata": {
    "id": "6AaNoiF5ZruM"
   },
   "source": [
    "тРНК = 1 аминокислота\n",
    "\n",
    "Код триплетный, то есть 3 нуклеотида кодируют 1 аминокислоту, каждая может принимать 4 значения. 4 * 4 * 4 = 64\n",
    "\n",
    "Можно еще учесть старт- и стоп-кодоны, тогда будет еще меньше.\n",
    "\n",
    "Рибосома делает белок.\n",
    "\n",
    "1234567890\n",
    "\n",
    "ATCGTGATCA\n",
    "\n",
    "TAGCACTAGT\n",
    "\n",
    "start = 1, end = 5, отриц стренд - ACGAT\n",
    "\n",
    "chr1 1 5 - - тоже самое. chr1 -  1 хромосома\n",
    "\n"
   ]
  },
  {
   "cell_type": "markdown",
   "metadata": {
    "id": "76Ag6XN0bkBr"
   },
   "source": [
    "Хотим скачать геном человека. Как треки которые в UCSC браузере (?). Идем в геномный браузер UCSC. Хотим скачать трек с определенными генами. Идем Tools - Table Browser\n",
    "\n",
    "Хотим получить человека. genome - Human, assembly - выбираем версию последнюю, track - разные, мы выбрали ENCODE, define region - position - chr22 (берем 22 хромосому), output format - BED (hyperlinks - ссылки, sequence - что то другое, все остальное похоже на BED, BED - классический и наиболее используемый)\n",
    "\n",
    "Upstream by 1000 bases - если стренд положительный, то для гена, у которого начало млн, конец млн500, будут координаты промотора, то есть 999 000 - 1 000 000 (отсчитываем 1000 от начала) Если это координаты отриц стренда - как при downstream + участка\n",
    "\n",
    "Downstream by 1000 - было бы 1000 500 - 1001 500\n",
    "\n",
    "Выбираем Whole gene, нажимаем get ...\n",
    "\n"
   ]
  },
  {
   "cell_type": "markdown",
   "metadata": {
    "id": "IQljPen0fMlJ"
   },
   "source": [
    "Скачиваем геном\n",
    "\n",
    "1) Идем Downloads - Genome Data - ищем нужный вид - ищем нужную версию\n",
    "\n",
    "2) Хотим 1 файл со всеми хромосомами. Идем GEnome sequence files... - Select ...\n",
    "\n",
    "3) hg38.fa.gz - весь геном человека в сборке 38\n",
    "\n",
    "4) Берем нужную сборку"
   ]
  },
  {
   "cell_type": "markdown",
   "metadata": {
    "id": "VgddczsugGMH"
   },
   "source": [
    "**BLAST**\n",
    "\n",
    "Простой поисковый инструмент для локального выравнивания\n",
    "\n",
    "Материалы https://drive.google.com/file/d/19F3gLK9SVt2exD-Q_znbHwsyIU_jHGs-/view\n",
    "\n",
    "Хотим сравнить две последовательности\n",
    "\n",
    "ATGGGCCCAC\n",
    "\n",
    "AGGGCCCCAC\n",
    "\n",
    "Хотим вставаить пробелы так, чтобы последовательности стали наиболее похожи\n",
    "\n",
    "ATGGG-CCCAC\n",
    "\n",
    "A-GGCCCCAC\n",
    "\n",
    "Биологический смысл - в ходе эволюции в последовательностях изменялись участки. Каждому можно приписать вероятность изменения и найти наиболее вероятное изменение. В дальнейшем сможем посльзоваться матрицей вероятностей, чтобы понимать схожесть последовательностей.\n",
    "\n",
    "Есть 2 вида базы - по белкам (20 букв) и нуклеотидам (ATGC). Есть способы переводить из одного в другое."
   ]
  },
  {
   "cell_type": "markdown",
   "metadata": {
    "id": "EKqbmGz5i8wA"
   },
   "source": [
    "ATCAAATTTCCC\n",
    "\n",
    "Можем читать по 3 рамкой с 1, 2 или 3, справа или слева - 6 способов\n",
    "\n"
   ]
  },
  {
   "cell_type": "markdown",
   "metadata": {
    "id": "MVIcaw19lYuE"
   },
   "source": [
    "Берем послед аминокислот, заходит вправо, вставляем в blastp, вставляем в Enter accession number(s)...\n",
    "\n",
    "Выбираем Database Non-redundant protein sequences наиболее подробная\n",
    "\n",
    "Включаем доп фильтры, если хотим\n",
    "\n",
    "Указываем алгоритм\n",
    "\n",
    "Max target .. 50 \n",
    "\n",
    "Short ... Галка\n",
    "\n",
    "будем менять Word size - размер слова, на которые разбивается последовательности\n",
    "\n",
    "Max matches - можно ограничить\n",
    "\n",
    "Выбираем Scoring Parameters\n",
    "\n",
    "Нажимаем Blast, он ищет.\n",
    "\n",
    "Получаем результаты (в описании написано, к чему больше всего похожеи насколько похоже. Нажмем откроем - можно посмотреть, где пропуски)\n",
    "\n"
   ]
  },
  {
   "cell_type": "markdown",
   "metadata": {
    "id": "DIn1hJ83aocx"
   },
   "source": [
    "# Семинар 4.5 (6.10)"
   ]
  },
  {
   "cell_type": "markdown",
   "metadata": {
    "id": "BTKJaiLHaumb"
   },
   "source": [
    "https://docs.google.com/document/d/1AUOK9IF7ip7uo8hfyKwOc3fzUX4sO6poCQ5lU9bBgU0/edit"
   ]
  },
  {
   "cell_type": "markdown",
   "metadata": {
    "id": "F8Sm7PxUiByE"
   },
   "source": [
    "Сначала доделываем прошлый сем"
   ]
  },
  {
   "cell_type": "markdown",
   "metadata": {
    "id": "JsjVJ60MbRU0"
   },
   "source": [
    "Хотим по последовательности узнать, что за белок\n",
    "\n",
    "Идем в BLAST\n",
    "\n",
    "Enter query sequence - вставляем последовательность\n",
    "\n",
    "Database - non-redundant ...\n",
    "\n",
    "Algorithm - blastp\n",
    "\n",
    "Настройки не меняем\n",
    "\n",
    "Нажимаем BLAST\n",
    "\n",
    "Потом откроется окно с резами, первое - лучшее \n",
    "\n",
    "Открываем лучшее, там где штрихи - у нашей последовательности есть аминокислоты, а в данной - нет, gaps - количество пропусков\n",
    "\n",
    "Можно поменять вил с Pairwise на Flat - query-anchored with dots ...\n",
    "\n",
    "Теперь где точки - все идентично, где черточки - гэп, где буква заменена - там прям буква\n"
   ]
  },
  {
   "cell_type": "markdown",
   "metadata": {
    "id": "mZfJq2HIdVY0"
   },
   "source": [
    "Полное выравнивание или оборванное - смотрим на query cover\n",
    "\n",
    "\n",
    "Evalue - ожидаемое к во последовательностей в базе, которые лучше чем данная\n",
    "\n"
   ]
  },
  {
   "cell_type": "markdown",
   "metadata": {
    "id": "1R8XxSsre7Qe"
   },
   "source": [
    "ЗАДАНИЕ 2\n",
    "\n",
    "идем по ссылке гита, дальше в datasets, затем v3v4_lib1.1.fasta.gz, нужно разархивировать и открыть в текстовом редакторе\n",
    "\n",
    "Берем первые 5 и копируем, вставляем в поиск BLAST\n",
    "\n",
    "Последовательность 16s рнк, можем ее выбрать в DATAbase\n",
    "\n",
    "Внизу галоыка показать в новом окне\n",
    "\n",
    "Потом выбираем стандартную рнк, и будем смотреть\n",
    "\n",
    "Быстрее считается тот который по рнк\n",
    "\n",
    "Рибосома - занимается трансляцией, состоят из малой и большой субъединиц, которые являются рнк. Они консервативны, по ним удобно определять вид \n",
    "\n",
    "Мы вбивали 5 послед, по умолчанию резы для 1, в results for можно переключить на резы для других\n",
    "\n",
    "Заголовок начинается с >, там название, потом последовательность\n",
    "\n",
    "потом идут данные, а с > опять название\n",
    "\n",
    "Query позиция из нашей \n",
    "\n",
    "Sbjct позиция из того, что мы нашли\n",
    "\n",
    "\n",
    "Можно организм выбрать, чтобы сужать диапазон поиска и избегать ошибки того, что последовательность длинная\n",
    "\n"
   ]
  },
  {
   "cell_type": "markdown",
   "metadata": {
    "id": "l1PG-AakiqsH"
   },
   "source": [
    "ТЕПЕРЬ СЕМ 4.5 \n",
    "\n",
    "Там есть прям описание всех действий\n",
    "\n",
    "Optimize for можно ставить фильтр на то, что последовательности очень похожи, чтобы быстрее считалось\n",
    "\n",
    "Max Score - метрика качества, то насколько у нас сильно похожая последовательность\n",
    "\n",
    "Разные параметры - может получиться разный скор\n",
    "\n",
    "\n",
    "\n",
    "Третий раз database - genomic ....\n",
    "\n",
    "Заходим в search summary, там смотрим number of letters. G + T меньше чем NT в 142 раза \n",
    "\n",
    "Теперь смотрим на лучший результат. NT - не человек, в filter results пишем human, нажимаем filter\n",
    "\n",
    "E value также различается, в G + T меньше, чем в NT где то в 100 раз\n",
    "\n",
    "Base size и E value отличаются в одинаковое количество раз \n",
    "\n",
    "А Max Score при этом не изменился\n",
    "\n",
    "Чем больше база, тем больше E value (Чем больше последовательностей, тем больше вероятность взять последовательность с хорощим скором, потому что последовательностей просто больше)\n",
    "\n"
   ]
  },
  {
   "cell_type": "markdown",
   "metadata": {
    "id": "7nFsZtFWqr9j"
   },
   "source": [
    "След задание\n",
    "\n",
    "Генерим 3 последовательности и кидаем их в BLAST \n",
    "\n",
    "Последовательностей размера 25 4^25\n",
    "\n",
    "Вставляем в BLAST\n",
    "\n",
    "Надо отключить настройки для оптимизации на коротких строках (как в доке, ТОЛЬКО для ДАННОЙ ЗАДАЧИ)\n",
    "\n",
    "Expect threshold ставим 50\n",
    "\n",
    "E value - ожидаемое число последовательностей со скором не ниже данного \n",
    "\n",
    "\n",
    "Аналогично генерим 3 последовательности аминокислот длины 25\n",
    "\n",
    "\n",
    "Смотрим среднюю длину выравнивания ()\n",
    "\n",
    "Identities - то насколько идентичны последовательности\n",
    "\n",
    "Когда мы ищем, мы путаемся установить родство. Чисто случайно у нас что то получилось, но последовательность короткая, поэтому она не несет биологического смысла"
   ]
  },
  {
   "cell_type": "markdown",
   "metadata": {
    "id": "N1KJ1bhMq3Sw"
   },
   "source": [
    "# Семинар 5 (13.10)"
   ]
  },
  {
   "cell_type": "markdown",
   "metadata": {
    "id": "eFrBVsjxrMul"
   },
   "source": [
    "Содержание https://drive.google.com/file/d/1U52hrgdZwiKwHhBvX7uuQJhpOcVubWBo/view\n",
    "\n",
    "Данные https://drive.google.com/drive/folders/1QO2uTHF-gwnLzXZC6vXTX0BhtokHHDvm\n",
    "\n",
    "Первым делом устанавливаем MEGA. В ней можно строить деревья, модели эволюции и т.д. \n",
    "\n"
   ]
  },
  {
   "cell_type": "markdown",
   "metadata": {
    "id": "6Gmg_BLrsBhj"
   },
   "source": [
    "> Строим выравнивание последовательности\n",
    "\n",
    "Align -> Edit/Build alignment -> Retrieve a sequence from a file -> ok -> выбираем FASTA-файл (на формат txt он ругается, нужен fasta или fa)\n",
    "\n",
    "Видим разноцветное одеялко - последовательности белков разных видов. Цвета - возможные раскраски аминокислот по их функциям - clustal colouring, zappo и т.д (дефолтную в меге можно посмотреть в help). Например, если кислота гидрофобная, она раскрашена голубым. Вообще раскрасок много и их можно выбирать в зависимости от задачи.\n",
    "\n",
    "Теперь идем в Alignment -> выбираем нужное (сейчас ClustalW, он пошустрее)\n",
    "\n",
    "Выскочит сообщение с вопросом, что выравнивать. Можем выбрать не все\n",
    "\n",
    "У него есть куча параметров. Во вкладке Weight можно выбрать нужную матрицу. По дефолту Gonet - это как PAM только по большей базе и с некоторыми трюками. Identity - матрица идентичности, 0 если не совпадают, 1 если совпадают.\n",
    "\n",
    "Оставляем все по умолчанию и жмем ok.\n",
    "\n",
    "Сначала пойдет попарное выравнивание, потом multiple. \n",
    "\n",
    "После в окошке видим, что появилось больше гэпов. Теперь похожие аминокислоты выстроились в столбцы. Там где столбцы полностью одинаковы, сверху в столбце стоит *. Если есть участок со *, то этот участок консервативный и, скорее всего, важный.\n",
    "\n",
    "В общем случае если забластим белок человека против белка бактерии, скорее всего, выравнивание пойдет криво, будет много пробелов.\n",
    "\n",
    "Есть много метрик для оценки качества выравнивания, одна из них - сумма пар - считаем число совпавших пар между всеми последовательностями\n",
    "\n",
    "Сохраняем как сессию (чтобы продолжить работать с выравниванием): Data -> Save session (сохранится mas - файл)\n",
    "\n",
    "Чтобы сохранить выравнивание: Data -> Export alignment -> выбираем тип (стандартный - fasta. Будет такой же файл, как исходный, только с гэпами, nexus - тоже текстовый формат, только похож на json)\n",
    "\n",
    "\n",
    "\n"
   ]
  },
  {
   "cell_type": "markdown",
   "metadata": {
    "id": "gwIqIPEn2MQ-"
   },
   "source": [
    "> Строим дерево\n",
    "\n",
    "Типичная задача после выравнивания.\n",
    "\n",
    "Жмем Data -> Phylogenetic Analysis, чтобы поменять режим. Теперь можно вернуться на стартовую страницу и нажать Phylogeny и выбрать какой нибудь из методов выравнивания.\n",
    "\n",
    "Берем Neighbor-Joining, параметры не меняем. Мега составит дерево\n",
    "\n",
    "Кнопка Topology Only (среди иконок с деревьями) расхлопывает/схлопывает ветви, которые показывают эволюционные расстояния между видами\n",
    "\n",
    "Выравнивание может немного отличаться в зависимости от стартовых параметров. При построении выравнивания после попарных следующие этапы могут быть случайными в зависимости от параметров.\n",
    "\n",
    "Пример:\n",
    "\n",
    "MATG-LI\n",
    "\n",
    "MATG-II\n",
    "\n",
    "MGTGGLL\n",
    "\n",
    "(теперь добавили четвертую)\n",
    "\n",
    "MGT-G-L (можно еще поставить гэп MGTG-L- в зависимости от скора, возможно MGTG--L окажется лучшим)\n",
    "\n",
    "(потом может оказаться, что гэп должен быть в другом месте. Чтобы такого избежать, мы можем разрезать блоки и построить выравнивание там несколько раз, пока не устаканится. если разрезание случайное, то выравнивание может получиться другим)\n"
   ]
  },
  {
   "cell_type": "markdown",
   "metadata": {
    "id": "qOvT2Vzq5UB5"
   },
   "source": [
    "> Выравнивание нуклеотидов\n",
    "\n",
    "Есть одни и те же белки представленные в виде аминокислот и нуклеотидов. Построим для них выравнивание (по предыдущему пункту).\n",
    "\n",
    "\n",
    "Ответы на вопросы в содержании: \n",
    "\n",
    "\n",
    "1.   \n",
    "*   fasta (если мега не запускает файл, надо удалить пропуски)\n",
    "*   нет. \n",
    "*   Длинные гэпы нужны, если последовательности сильно отличается по длине. На глаз данные последовательности почти похожи.\n",
    "\n",
    "В ClustalW и MUSCLE разные алгоритмы. В ClustalW строится направляющее простенькое дерево быстрым методом, а затем последовательности присоединяются к нему. Можно там шафлить последовательности, получатся разные выравнивания. \n",
    "\n",
    "Сохранили выравнивание Nexus.\n",
    "\n",
    "2.    \n",
    "*    ???\n",
    "*    внизу есть окошко site - показывает выделенную позицию. на позиции 137 - ... много *, Предполагаем, что те организмы, у которых тут происходили мутации, умирали, и изменения не закреплялись.\n",
    "\n",
    "Если вглядимся, то можно заметить, что зачастую в столбцах без * буквы одного цвета (одинаковые функции в зависимости от типа раскраски). Если цвет поменялся, то и функция. Если цвет не поменялся, это значит, что в столбце находятся элементы со схожими функциями.\n",
    "\n",
    "Гомеобокс (англ. homeobox) — последовательность ДНК, обнаруженная в генах, вовлечённых в регуляцию развития у животных, грибов и растений. Эти гены кодируют факторы транскрипции, которые, как правило, переключают каскады других генов. Гомеобокс состоит приблизительно из 180 пар нуклеотидов и кодирует белковый домен длиной в 60 аминокислот (гомеодомен), который может связывать ДНК. (вики) Они сверхконсервативны. Сокращение hox.\n",
    "\n",
    "У нуклеотидов больше выравниваний (потому что по таблицам мега может перевести в последовательность аминокислот).\n",
    "\n",
    "Какие весовые матрицы для аминокислот? PAM (точечные мутации) и BLOSUM (блочные выравнивания (блок - последовательность без гэпов), на их основе составлялась матрица). Для нуклеотид? IUB (матрица идентичности), ClustalW (как предыдущая только другие коэффициенты).\n",
    "\n",
    "На нуклеотидах больше *, потому что букв всего 4.\n",
    "\n",
    "Какие могут быть ошибки в связи с построением по нуклеотидам? Меньше гэпов. Используется другая матрица. Насколько реалистично увидить гэп в эволюционной истории? Биологически у гэпа смысла мало. единичные гэпы можно рассматривать как ошибки при считывании или сдвиг рамки. Если гэп в 3 палочки - выпала целая аминокислота, это имеет смысл, единичный - нет.  \n",
    "\n",
    "Идем в Translated Protein Sequences.  (Если появилось окно жмем ok) Появились в последовательностях * и ?. Можно тыкнуть на клеточку - в site видна позиция. Там где ? - там есть гэп и мега не смогла перевести. Звездочки - это стоп - кодон. Если стоп - кодоны идут подряд - выравнивание построилось неправильно (не та рамка считывания).\n",
    "\n",
    "Сравним выравнивания, построенные по нуклеотидам и белкам. WW указан как стоп кодон. При выравнивании по нуклеотидам все поехало.\n",
    "\n",
    "\n",
    "\n",
    "\n"
   ]
  },
  {
   "cell_type": "markdown",
   "metadata": {
    "id": "RRiA2ZCJDxxr"
   },
   "source": []
  },
  {
   "cell_type": "markdown",
   "metadata": {
    "id": "jrIYgOV_D6Rf"
   },
   "source": [
    "# Семинар 6 (27.10)"
   ]
  },
  {
   "cell_type": "markdown",
   "metadata": {
    "id": "K6W4SIZHEmzp"
   },
   "source": [
    "> В бласте можем выровнять 2 последовательности и нарисовать Dot Plot\n",
    "\n",
    "В blastn (blastp) ставим галочку Align two or more sequences. \n",
    "\n",
    "Берем гемоглобин бета и альфа в uniprot (там ищем их id). hba - гемоглобин альфа\n",
    "\n",
    "В Program Selection - Optimize for выбираем Somewhat similar sequences (для blastn)\n",
    "\n",
    "Нажимаем blast, строится выравнивание. \n",
    "\n",
    "Появляется вкладка Dot Plot. По горизонтали один гемоглобин, по вертикали - другой. Видим диагональ - там последовательности одинаковы. Делаем вывод, что субъединицы похожи.\n",
    "\n",
    "Еще можно выровнять последовательность с собой. На таком графике кроме диагонали может быть инверсия или повторы (и мы это увидим). Если берем белки, там последовательность короче и график будет не таким интересным. Если поиграть с параметрами, возможно, будет красивее. \n",
    "\n",
    "> Еще можно в ebi строить\n",
    "\n"
   ]
  },
  {
   "cell_type": "markdown",
   "metadata": {
    "id": "pKYQAMzPIJtL"
   },
   "source": [
    "Строим филогенетические деревья\n",
    "\n",
    "Содержание https://drive.google.com/file/d/13Zfsb84kjTuifvF5zoeFLZeWW_lWKqal/view\n",
    "\n",
    "Данные https://drive.google.com/drive/folders/1mJLah0BeSrD73csEM8Z4S2Yo3mzL13sB"
   ]
  },
  {
   "cell_type": "markdown",
   "metadata": {
    "id": "l4QCOReXIYRN"
   },
   "source": [
    "> Алгоритм построения деревьев методом расстояний\n",
    "\n",
    "Есть последовательности. Хотим как то узнать, какие родственники. Самое простое - посчитать расстояние между ними (например смотрим на количество совпадающих букв - это будет расстояние между данными 2 последовательностями). Можно нормировать, поделив на количество букв. Получим матрицу - в клетке ij записано расстояние между i и j, причем клетка ij равна клетке ji. \n",
    "\n",
    "Обычно лучше смотреть количество разных букв. В матрице тогда на диагонали будут нули, а в остальном то же самое. Эта матрица называется матрицей расстояний.\n",
    "\n",
    "Теперь строим дерево. \n",
    "\n",
    "1.    Ищем 2 наиближайшие последовательности (с наименьшим расстоянием). Если таких несколько, берем случано одну. Делаем узел, который объединяет эту пару\n",
    "\n",
    "2.    Составляем новую табличку, где выбранная пара объединена (теперь вместо тех двух последовательностей стоит узел), а расстояния пересчитаны. Предположим мы объединили 1 и 2. Теперь объединяем их в $\\frac{1}{2}$. Расстояние от любой другой точки до $\\frac{1}{2}$ считаем как среднее расстояний от выбранной точки до 1 и до 2. \n",
    "\n",
    "Повторяем пункты 1 и 2. Таким образом, когда останется 1 узел, получится структура дерева.\n",
    "\n",
    "Теперь пишем длины ветвей. Если узел C соединяет узлы A и B, то длина ветвей AB и AC равна половине расстояния AB.\n",
    "\n",
    "У нас не всегда получится сохранить расстояния между вершинами (получится что то похожее), потому что не по любой матрице можно так строить дерево. Должно выполняться условие 4 точек: для последовательностей 1, 2, 3, 4 выполнено, что 2 из 3 сумм равны : $d(1, 2) + d(3, 4)$, $d(2, 3) + d(1, 4)$ и $d(1, 3) + d(2, 4)$.\n",
    "\n",
    "Так дерево строится в UPGMA.\n",
    "\n",
    "Смысл узла - если A и B соединены в С, то у них был общий предок. Так то дерево строится невзвешенное, но мы можем в нем воткнуть корень. сначала надо будет подумать, кто станет корнем - самый общий самый старый предок. Вообще надо понять как мы это будем делать. Можно взятьсамую длинную ветвь и ставить корень там. Если мы знаем, чьи последовательности мы рассматриваем, то мы можем взять к ним какого - то дальнего предка и построить дерево с ним. \n",
    "\n",
    "Неукорененное дерево - это на самом деле группа деревьев с данной конфигурацией и разными выбранными корнями."
   ]
  },
  {
   "cell_type": "markdown",
   "metadata": {
    "id": "Tt0z_BDFO_BC"
   },
   "source": [
    "> Строим матрицу расстояний\n",
    "\n",
    "Берем данные с прошлого занятия (то что было прикреплено сверху).\n",
    "\n",
    "Сначала строим выравнивание как на прошлом семинаре. \n",
    "\n",
    "Gap Opening Penalty - штраф когда гэп открывается. Метод, когда у нас есть штраф за открытие и продление - афинный штраф.\n",
    "\n",
    "Теперь жмем Data -> Phylogenetic Analysis и выходим в стартовое меню. У нас мега готовит блок с данными (квадрат с буквами TA. Внутри meg файл, где одинаковые буквы - это точки и показаны только отличия).\n",
    "\n",
    "Строим матрицу расстояний. В стартовой менюшке жмем Distance -> Compute Pairwise Distances -> если выскочить мини окошко про использование текущих данных, жмем yes.\n",
    "\n",
    "Появилось окошко с параметрами. Тут мы можем выбрать метрику расстояний. \n",
    "\n",
    "Смотрим Substitution Model - Model/Method. No. of differences - тот, который был описан выше. Выбираем его. Больше ничего не меняем и жмем ok. Получили матрицу расстояний. Если числа целые, значит, не было нормировки. Чем меньше числа, тем ближе последовательности. В матрице может быть выкинуть верхний треугольник (матрица симметрична относительно диагонали).\n",
    "\n",
    "Можем построить матрицу другим методом (все то же самое, только Substitution Model - Model/Method выбираем другой метод, где переходы имеют разный вес)"
   ]
  },
  {
   "cell_type": "markdown",
   "metadata": {
    "id": "ytn_q0ZxSFD9"
   },
   "source": [
    "> Строим дерево\n",
    "\n",
    "В меге есть 5 методов (смотрим Phylogeny в стартовой менюшке).\n",
    "\n",
    "*    Maximum Parsimony - метод максимальной бережливости. Имеем выровненные последовательности. Как строить дерево? Всего для 4 последовательностей есть 3 неукорененных различных дерева (1 соединено с 2, 3 или 4, а две других сгруппируются в паре и соединятся с парой, где есть 1). Теперь для каждой конфигурации в листьях находятся исходные последовательности. Теперь в узлах, которые соединяют 2 листа, строим последовательность, от которых могли пойти последовательности в данных листьях, с наименьшим количеством мутаций (если два листа - AT и AA, то подходящая последовательность в узле, который их соединяет - AA или AT - первая буква в узлах одинакова, значит, если мутаций минимальное количество, то она совпадает с предком, а вторая буква предка либо A, либо T - тогда произошла только 1 мутация). Потом мы посчитаем общее количество мутаций и выберем ту конфигурацию, где меньше всего мутаций.\n",
    "\n",
    "Дерево, построенное UPGMA и max pars могут отличаться. Строим два дерева - UPGMA (выбираем метод No. of differences, получили дерево) и max pars (возвращаемся в стартовую менюшку и строим новое дерево, все оставляем по дефолту).\n",
    "\n",
    "1.    Деревья, построенные по белкам и нуклеотидам могут различаться. \n",
    "2.    У бактерий большую роль может играть горизонтальный перенос генов, у эукариот можно выбрать ген, который не сильно меняется\n",
    "3.    Мы выбрали матрицу такую, где мутации равновероятны. Но это не так. Такая модель не адекватна. Если мы будем строить с UPGMA, но с другой матрицей (например, JTT, которая получена эмпирически), мы получим другое дерево (на самом деле на семе человек объединился с крысами, но в целом получились бактерии вместе, рыбы, змеи и т.д сгруппировались)\n",
    "\n",
    "В max pars на семе люди сгруппировались с макаками, что говорит о том, что он сработал лучше"
   ]
  },
  {
   "cell_type": "markdown",
   "metadata": {
    "id": "Zt0j2WcFXW6P"
   },
   "source": [
    "> Про вероятности\n",
    "\n",
    "Мы хотим приписать дереву какие то вероятности, чтобы понимать, насколько оно адекватное и неслучайно. Мы можем использовать бутстрэп, это поможет. "
   ]
  },
  {
   "cell_type": "markdown",
   "metadata": {
    "id": "3W13AVBdX4o2"
   },
   "source": [
    "> Про выравнивание\n",
    "\n",
    "Мы можем поменять выравнивание, и это может повлиять на результирующее дерево."
   ]
  },
  {
   "cell_type": "markdown",
   "metadata": {
    "id": "ClQb0kdJXwuF"
   },
   "source": [
    "> NJ \n",
    "\n",
    "Построили дерево методом NJ (тут все по дефолту)"
   ]
  },
  {
   "cell_type": "markdown",
   "metadata": {
    "id": "Qj1kSbFgYDKN"
   },
   "source": [
    "> \"Правильное\" дерево в NCBI\n",
    "\n",
    "Заходим в NCBI -> taxonomy -> Taxonomy Tools - Common Tree. Тут можно ввести названия организмов (пишем название, нажимаем add). У нас автоматически построется дерево на основе современной таксономии - оно строится на хороших алгоритмах. В общем случае, наше дерево должно быть похоже на это. "
   ]
  },
  {
   "cell_type": "markdown",
   "metadata": {
    "id": "L9KLC3V1oWTv"
   },
   "source": [
    "# Семинар 7 (10.11)"
   ]
  },
  {
   "cell_type": "markdown",
   "metadata": {
    "id": "JbAbT404phrD"
   },
   "source": [
    "Содержание https://drive.google.com/file/d/1PDFp-ywMJajc7VUMgasqjLeKZF8ZE3on/view\n",
    "\n",
    "Данные https://drive.google.com/drive/folders/1sUjWA4BVaLHRvLkIrOfq3lrKvxjHKeA7"
   ]
  },
  {
   "cell_type": "markdown",
   "metadata": {
    "id": "dROw0tVIpzgG"
   },
   "source": [
    "> Поиск в uniprot.org\n",
    "\n",
    "Uniprot (большая база белков) состоит из 2 частей - Swiss-Prot (белки, которые наиболее хорошо аннотированы, вручную) и TrEMBL (больше, сюда белки автоматически попадают аннотированные, поэтому среди них есть много таких, про которых неизвестны функции, например, и может оказаться так, что туда попал вообще не белок). Тут можно искать любые белки.\n",
    "\n",
    "В поиске белки записаны как <функция>_<организм>. Например, ENO_BACSU - Bacilius subtilis. Можно забить название в поиск - откроется запись белка. Оранжевым сверху записан уникальный номер белка, также можно увидеть название, организм, статус, его функции, с чем взаимодействует и т п. В конце есть Similar proteins - похожие белки, сгруппированные по идентичности. \n",
    "\n",
    "Чтобы найти все белки, принадлежащие данному организму, можем искать как mnemonic:\\*\\_<организм> (так мы говорим, что вместо звездочки может стоять все что угодно). Фраза mnemonic:eno_\\* найдет все энолазы (теперь ищем по функции, вместо звездочки подставится любой огранизм). Можно в поисковую строку вбивать название белка, и uniprot найдет записи.\n",
    "\n",
    "Для поиска гена вбиваем его название, находим мнемонику (колонка Entry name, до _). Для скачивания всех: Download -> Download all -> Format: FASTA (canonical). Или же выбираем нужные организмы (добавляем их в корзину для удобства (Add to basket). Тогда потом можно еще что то искать, и выбранные галочки не снимутся). Затем скачиваем через корзину или же Dowload -> Download selected, Uncompressed. Получится 1 файлик со всеми выделенными последовательностями.\n",
    "\n",
    "Для белков в юнипрот есть короткие мнемоники. \n",
    "\n",
    "Можно конкретизировать по таксону в случае, если в поиске много результатов. Приписываем в поиске taxonomy:<организм>. Можно тыкнуть Advanced и там все установить. Там есть много разных параметров, которые можно задать как логическое выражение.\n",
    "\n",
    "\n",
    "\n"
   ]
  },
  {
   "cell_type": "markdown",
   "metadata": {
    "id": "F_B9w1Erv5he"
   },
   "source": [
    "> Где можно строить деревья - FigTree\n",
    "\n",
    "В меге ограниченный функционал по построению деревьев. Можно скачать FigTree. Заходим на 1 ссылку в поиске, ищем ссылку на гитхаб, скачиваем архив FigTree*.zip, извлекаем все и запускаем. \n",
    "\n",
    "(Тут на семинаре скачали файл ATP*.fasta и построили в меге дерево методом NJ. При построении дерева установили Gamma Parameter - Gamma Distributed (G). Потом посмотрели на дерево и увидели, что сальмонелла, которая простейшая, не находится рядом с остальными простейшими - это странно. При построении дерева мы считаем, что склонность к мутации во времени одинаковая. Скорость, с которой происходят мутации в последовательностях может отличаться. Они возникают, например, при копировании гена. Предположим, произошла мутация в одинаковом гене у человека и простейшего, и эта мутация происходит 1 раз за поколение. У человека поколение - это где - то 25 лет, а у простейших - 25 мин. Тогда у простейших за определенный промежуток произойдет больше мутаций, чем у человека. Поэтому будет казаться, что 2 бактерии будут выглядеть как дальнии родственники. Также эволюция будет как бы быстрее идти, если у бактерии происходят какие - то мутагенные процессы. Также заметили, что простейшее подмешалось в ветки с археями. Это горизонтальный перенос генов - от непрямых родственников. В содержании есть статья про интеины, в которой описан весь процесс)\n",
    "\n",
    "В меге названия последовательностей можно менять, тыкая прям на название последовательности в alignment.\n",
    "\n",
    "Чтобы сохранить дерево, можно нажать Image, можно File -> Export current tree (Newick) -> оставляем все как есть жмем OK. Появится файл с записью, где скобками через запятую объединены соседние вершины, через двоеточие записаны длины соответствующих ветвей. Потом сохраняем файл File -> Save\n",
    "\n",
    "Теперь идем в FigTree и открываем newick - файл. \n",
    "\n",
    "*   Tip Labels -> Font Size - шрифт (ставить 18-19)\n",
    "*   Appearance -> Line Weight - ширина веток (ставим 4)\n",
    "*   Branch Labels -> ставим галку -> Font Size можно увеличить - увидим длины ветвей, которые записала мега\n",
    "*   Layout -> кнопки с рисунками деревьев - можно поменять вид дерева\n",
    "*   Layout -> Align Tip Labels - подписи будут подальше от дерева\n",
    "*   Указать горизонтальный перенос можно цветом - тыкаем на ветку, сверху в панели тыкаем colour, меняем цвет ветки. На панели есть кнопка Taxa - для смены цвета названия, Node - ветки, Clade - поддерева\n",
    "*    Можно выделить ветку, нажать Rotate сверху на панели - тогда ветки из 1 вершины поменяются местами\n",
    "*    Можно выделить область, выбрав ветку и нажав Height\n",
    "*    Можно переукоренить дерево. Выбираем ветку, жмем Reroot, и выбранная ветка окажется внизу. То есть мы сделаем так, что от общего предка снизу будет выбранная ветка\n",
    "*    Можно схлопнуть группу, выбрав ветку и нажав Cartoon (сохранятся названия) или Collapse(не сохранятся)\n",
    "*    Хоти как то раскрасить по признаку. Выбираем ветку, жмем Taxa, затем Annotate, и меняем имя(например на археи). Затем идем в Tree -> Define annotation -> + -> выбираем имя и тип -> ok. Теперь через annotate меняем label на какое то слово word.  Теперь в Tip Labels -> Setup : Color выбираем цвет для нашего word\n",
    "*   File -> Export Trees - сохранить\n",
    "*   File -> Import Colour Cheme - импортировать\n",
    "\n",
    "Далее объясняли статейки из содержания\n",
    "\n",
    "\n",
    "\n",
    "\n",
    "\n",
    "\n",
    "\n",
    "\n"
   ]
  }
 ],
 "metadata": {
  "colab": {
   "authorship_tag": "ABX9TyOOzPyjOKinbe+5fn3uCqF4",
   "collapsed_sections": [
    "N6WYWyikzcou"
   ],
   "name": "BioInf sem.ipynb",
   "provenance": [],
   "toc_visible": true
  },
  "kernelspec": {
   "display_name": "Python 3",
   "language": "python",
   "name": "python3"
  },
  "language_info": {
   "codemirror_mode": {
    "name": "ipython",
    "version": 3
   },
   "file_extension": ".py",
   "mimetype": "text/x-python",
   "name": "python",
   "nbconvert_exporter": "python",
   "pygments_lexer": "ipython3",
   "version": "3.9.4"
  }
 },
 "nbformat": 4,
 "nbformat_minor": 1
}
