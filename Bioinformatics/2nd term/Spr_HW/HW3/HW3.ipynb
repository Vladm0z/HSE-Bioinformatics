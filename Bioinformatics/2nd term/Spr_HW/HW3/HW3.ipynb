{
  "nbformat": 4,
  "nbformat_minor": 0,
  "metadata": {
    "colab": {
      "name": "HW3.ipynb",
      "provenance": [],
      "collapsed_sections": []
    },
    "kernelspec": {
      "name": "python3",
      "display_name": "Python 3"
    },
    "language_info": {
      "name": "python"
    }
  },
  "cells": [
    {
      "cell_type": "markdown",
      "metadata": {
        "id": "7eTPuYFTn-xJ"
      },
      "source": [
        "Рассмотрим вирус Гепатита С, а точнее геном [NC_030791.1](https://www.ncbi.nlm.nih.gov/nuccore/NC_030791)"
      ]
    },
    {
      "cell_type": "markdown",
      "metadata": {
        "id": "kHbRMPqDZeK1"
      },
      "source": [
        "Требуется посчитать количество Z-DNA и квадруплексов, а также указать, куда они попадают"
      ]
    },
    {
      "cell_type": "markdown",
      "metadata": {
        "id": "QDhqKg5aZdLS"
      },
      "source": [
        "###1"
      ]
    },
    {
      "cell_type": "code",
      "metadata": {
        "id": "cawA0fAMXvT2"
      },
      "source": [
        "!chmod a+x zhunt2\n",
        "!./zhunt2 12 8 12 sequence.fasta\n",
        "!cat sequence.fasta.Z-SCORE"
      ],
      "execution_count": null,
      "outputs": []
    },
    {
      "cell_type": "markdown",
      "metadata": {
        "id": "Ve8qYPk5tV6l"
      },
      "source": [
        "Рассмотрим данные, используя read_csv"
      ]
    },
    {
      "cell_type": "code",
      "metadata": {
        "id": "KdLZf3UvqrSZ"
      },
      "source": [
        "import pandas as pd\n",
        "z=pd.read_csv(\"sequence.fasta.Z-SCORE\", skiprows=1, names=[\"Start\",\"End\",\"1\",\"2\",\"3\",\"Score\",\"Seq\",\"4\"], delim_whitespace=True)"
      ],
      "execution_count": 6,
      "outputs": []
    },
    {
      "cell_type": "markdown",
      "metadata": {
        "id": "jOcAVlUR0jal"
      },
      "source": [
        "Проверим наличие строк с Z-score более 300"
      ]
    },
    {
      "cell_type": "code",
      "metadata": {
        "colab": {
          "base_uri": "https://localhost:8080/",
          "height": 414
        },
        "id": "FEoG6ohF0qVl",
        "outputId": "720c08a0-f1df-45b2-92e5-dd669c5d5f28"
      },
      "source": [
        "z.loc[z['Score'] >= 300]"
      ],
      "execution_count": 7,
      "outputs": [
        {
          "output_type": "execute_result",
          "data": {
            "text/html": [
              "<div>\n",
              "<style scoped>\n",
              "    .dataframe tbody tr th:only-of-type {\n",
              "        vertical-align: middle;\n",
              "    }\n",
              "\n",
              "    .dataframe tbody tr th {\n",
              "        vertical-align: top;\n",
              "    }\n",
              "\n",
              "    .dataframe thead th {\n",
              "        text-align: right;\n",
              "    }\n",
              "</style>\n",
              "<table border=\"1\" class=\"dataframe\">\n",
              "  <thead>\n",
              "    <tr style=\"text-align: right;\">\n",
              "      <th></th>\n",
              "      <th>Start</th>\n",
              "      <th>End</th>\n",
              "      <th>1</th>\n",
              "      <th>2</th>\n",
              "      <th>3</th>\n",
              "      <th>Score</th>\n",
              "      <th>Seq</th>\n",
              "      <th>4</th>\n",
              "    </tr>\n",
              "  </thead>\n",
              "  <tbody>\n",
              "    <tr>\n",
              "      <th>230</th>\n",
              "      <td>231</td>\n",
              "      <td>255</td>\n",
              "      <td>24</td>\n",
              "      <td>21.894</td>\n",
              "      <td>49.817</td>\n",
              "      <td>461.6513</td>\n",
              "      <td>cggagatttgggcgtgcccccgcg</td>\n",
              "      <td>ASASASASASASASASASASASAS</td>\n",
              "    </tr>\n",
              "    <tr>\n",
              "      <th>231</th>\n",
              "      <td>232</td>\n",
              "      <td>254</td>\n",
              "      <td>22</td>\n",
              "      <td>22.236</td>\n",
              "      <td>40.826</td>\n",
              "      <td>313.1476</td>\n",
              "      <td>ggagatttgggcgtgcccccgc</td>\n",
              "      <td>SASASASASASASASASASASA</td>\n",
              "    </tr>\n",
              "    <tr>\n",
              "      <th>232</th>\n",
              "      <td>233</td>\n",
              "      <td>255</td>\n",
              "      <td>22</td>\n",
              "      <td>21.747</td>\n",
              "      <td>51.301</td>\n",
              "      <td>548.0334</td>\n",
              "      <td>gagatttgggcgtgcccccgcg</td>\n",
              "      <td>ASASASASASASASASASASAS</td>\n",
              "    </tr>\n",
              "    <tr>\n",
              "      <th>233</th>\n",
              "      <td>234</td>\n",
              "      <td>254</td>\n",
              "      <td>20</td>\n",
              "      <td>22.036</td>\n",
              "      <td>43.138</td>\n",
              "      <td>392.3850</td>\n",
              "      <td>agatttgggcgtgcccccgc</td>\n",
              "      <td>SASASASASASASASASASA</td>\n",
              "    </tr>\n",
              "    <tr>\n",
              "      <th>234</th>\n",
              "      <td>235</td>\n",
              "      <td>255</td>\n",
              "      <td>20</td>\n",
              "      <td>21.605</td>\n",
              "      <td>52.028</td>\n",
              "      <td>648.0815</td>\n",
              "      <td>gatttgggcgtgcccccgcg</td>\n",
              "      <td>ASASASASASASASASASAS</td>\n",
              "    </tr>\n",
              "    <tr>\n",
              "      <th>...</th>\n",
              "      <td>...</td>\n",
              "      <td>...</td>\n",
              "      <td>...</td>\n",
              "      <td>...</td>\n",
              "      <td>...</td>\n",
              "      <td>...</td>\n",
              "      <td>...</td>\n",
              "      <td>...</td>\n",
              "    </tr>\n",
              "    <tr>\n",
              "      <th>7172</th>\n",
              "      <td>7173</td>\n",
              "      <td>7189</td>\n",
              "      <td>16</td>\n",
              "      <td>21.061</td>\n",
              "      <td>40.638</td>\n",
              "      <td>1263.2160</td>\n",
              "      <td>gtctgcgtacgcgtaa</td>\n",
              "      <td>SASASASASASASASA</td>\n",
              "    </tr>\n",
              "    <tr>\n",
              "      <th>7173</th>\n",
              "      <td>7174</td>\n",
              "      <td>7190</td>\n",
              "      <td>16</td>\n",
              "      <td>21.439</td>\n",
              "      <td>39.807</td>\n",
              "      <td>791.4059</td>\n",
              "      <td>tctgcgtacgcgtaag</td>\n",
              "      <td>ASASASASASASASAS</td>\n",
              "    </tr>\n",
              "    <tr>\n",
              "      <th>7174</th>\n",
              "      <td>7175</td>\n",
              "      <td>7191</td>\n",
              "      <td>16</td>\n",
              "      <td>21.283</td>\n",
              "      <td>37.193</td>\n",
              "      <td>958.1629</td>\n",
              "      <td>ctgcgtacgcgtaagg</td>\n",
              "      <td>SASASASASASASASA</td>\n",
              "    </tr>\n",
              "    <tr>\n",
              "      <th>7175</th>\n",
              "      <td>7176</td>\n",
              "      <td>7192</td>\n",
              "      <td>16</td>\n",
              "      <td>21.539</td>\n",
              "      <td>38.918</td>\n",
              "      <td>701.2976</td>\n",
              "      <td>tgcgtacgcgtaaggt</td>\n",
              "      <td>ASASASASASASSASA</td>\n",
              "    </tr>\n",
              "    <tr>\n",
              "      <th>7176</th>\n",
              "      <td>7177</td>\n",
              "      <td>7193</td>\n",
              "      <td>16</td>\n",
              "      <td>21.381</td>\n",
              "      <td>36.243</td>\n",
              "      <td>849.9296</td>\n",
              "      <td>gcgtacgcgtaaggtc</td>\n",
              "      <td>SASASASASASASASA</td>\n",
              "    </tr>\n",
              "  </tbody>\n",
              "</table>\n",
              "<p>117 rows × 8 columns</p>\n",
              "</div>"
            ],
            "text/plain": [
              "      Start   End  ...                       Seq                         4\n",
              "230     231   255  ...  cggagatttgggcgtgcccccgcg  ASASASASASASASASASASASAS\n",
              "231     232   254  ...    ggagatttgggcgtgcccccgc    SASASASASASASASASASASA\n",
              "232     233   255  ...    gagatttgggcgtgcccccgcg    ASASASASASASASASASASAS\n",
              "233     234   254  ...      agatttgggcgtgcccccgc      SASASASASASASASASASA\n",
              "234     235   255  ...      gatttgggcgtgcccccgcg      ASASASASASASASASASAS\n",
              "...     ...   ...  ...                       ...                       ...\n",
              "7172   7173  7189  ...          gtctgcgtacgcgtaa          SASASASASASASASA\n",
              "7173   7174  7190  ...          tctgcgtacgcgtaag          ASASASASASASASAS\n",
              "7174   7175  7191  ...          ctgcgtacgcgtaagg          SASASASASASASASA\n",
              "7175   7176  7192  ...          tgcgtacgcgtaaggt          ASASASASASASSASA\n",
              "7176   7177  7193  ...          gcgtacgcgtaaggtc          SASASASASASASASA\n",
              "\n",
              "[117 rows x 8 columns]"
            ]
          },
          "metadata": {
            "tags": []
          },
          "execution_count": 7
        }
      ]
    },
    {
      "cell_type": "markdown",
      "metadata": {
        "id": "uiL1T6RE6E0M"
      },
      "source": [
        "Это все участки Z-DNA, в данном гене их 117"
      ]
    },
    {
      "cell_type": "markdown",
      "metadata": {
        "id": "SG4HFMGtZUql"
      },
      "source": [
        "### 2"
      ]
    },
    {
      "cell_type": "markdown",
      "metadata": {
        "id": "jsawnISTB7OC"
      },
      "source": [
        "Импортируем библиотеки, требуемые для оценки числа квадруплексов"
      ]
    },
    {
      "cell_type": "code",
      "metadata": {
        "colab": {
          "base_uri": "https://localhost:8080/"
        },
        "id": "DNL4DUCXC5aQ",
        "outputId": "cb812ae6-4623-4df1-c1fd-5e8852f95517"
      },
      "source": [
        "!pip install biopython\n",
        "import re\n",
        "from Bio import SeqIO"
      ],
      "execution_count": 8,
      "outputs": [
        {
          "output_type": "stream",
          "text": [
            "Collecting biopython\n",
            "\u001b[?25l  Downloading https://files.pythonhosted.org/packages/5a/42/de1ed545df624180b84c613e5e4de4848f72989ce5846a74af6baa0737b9/biopython-1.79-cp37-cp37m-manylinux_2_5_x86_64.manylinux1_x86_64.whl (2.3MB)\n",
            "\u001b[K     |████████████████████████████████| 2.3MB 4.4MB/s \n",
            "\u001b[?25hRequirement already satisfied: numpy in /usr/local/lib/python3.7/dist-packages (from biopython) (1.19.5)\n",
            "Installing collected packages: biopython\n",
            "Successfully installed biopython-1.79\n"
          ],
          "name": "stdout"
        }
      ]
    },
    {
      "cell_type": "markdown",
      "metadata": {
        "id": "QdWICyeHCD-E"
      },
      "source": [
        "Посчитаем квадруплексы, заметим что цифра \"3\" в следующем коде означает минимум вхождений нуклеотидных последовательностей."
      ]
    },
    {
      "cell_type": "code",
      "metadata": {
        "colab": {
          "base_uri": "https://localhost:8080/"
        },
        "id": "twAe8qOcDFbr",
        "outputId": "8730e3f0-91af-48f8-f7a3-3dde77f63924"
      },
      "source": [
        "input_file = \"sequence.fasta\"\n",
        "fasta_sequence = SeqIO.parse(input_file,'fasta')\n",
        "for record in SeqIO.parse(input_file, \"fasta\"):\n",
        "  print(\"%s %i\" % (record.id, len(record)))\n",
        "  name, sequence = record.id, str(record.seq)\n",
        "pattern=\"(?:G{3,}[ATGC]{1,7}){3,}G{3,}\"\n",
        "PQS=[[m.start(),m.end(),m.group(0)] for m in re.finditer(pattern,sequence)]\n",
        "len(PQS)"
      ],
      "execution_count": 9,
      "outputs": [
        {
          "output_type": "stream",
          "text": [
            "NC_030791.1 9443\n"
          ],
          "name": "stdout"
        },
        {
          "output_type": "execute_result",
          "data": {
            "text/plain": [
              "0"
            ]
          },
          "metadata": {
            "tags": []
          },
          "execution_count": 9
        }
      ]
    },
    {
      "cell_type": "markdown",
      "metadata": {
        "id": "qNO-H35ZC0Av"
      },
      "source": [
        "Заметим, что при \"3\" вхождений не нашлось, проверим \"2\", так как это минимальное значение, при нуле которого, квадруплексов точно нет"
      ]
    },
    {
      "cell_type": "code",
      "metadata": {
        "colab": {
          "base_uri": "https://localhost:8080/"
        },
        "id": "OUDTB26PDHPs",
        "outputId": "dd06b7fe-2b6f-4280-9c47-4900eb15701f"
      },
      "source": [
        "input_file = \"sequence.fasta\"\n",
        "fasta_sequence = SeqIO.parse(input_file,'fasta')\n",
        "for record in SeqIO.parse(input_file, \"fasta\"):\n",
        "  print(\"%s %i\" % (record.id, len(record)))\n",
        "  name, sequence = record.id, str(record.seq)\n",
        "pattern=\"(?:G{2,}[ATGC]{1,7}){2,}G{2,}\"\n",
        "PQS=[[m.start(),m.end(),m.group(0)] for m in re.finditer(pattern,sequence)]\n",
        "len(PQS)"
      ],
      "execution_count": 10,
      "outputs": [
        {
          "output_type": "stream",
          "text": [
            "NC_030791.1 9443\n"
          ],
          "name": "stdout"
        },
        {
          "output_type": "execute_result",
          "data": {
            "text/plain": [
              "69"
            ]
          },
          "metadata": {
            "tags": []
          },
          "execution_count": 10
        }
      ]
    },
    {
      "cell_type": "markdown",
      "metadata": {
        "id": "j7mXJXZyYsZF"
      },
      "source": [
        "Код показал, что есть 69 квадруплексов, рассмотрим их позицию в коде и саму оследовательность"
      ]
    },
    {
      "cell_type": "code",
      "metadata": {
        "id": "3Gu0B2itZAUn"
      },
      "source": [
        "PQS"
      ],
      "execution_count": null,
      "outputs": []
    },
    {
      "cell_type": "markdown",
      "metadata": {
        "id": "x81lUIyUbHFs"
      },
      "source": [
        "###3"
      ]
    },
    {
      "cell_type": "markdown",
      "metadata": {
        "id": "Y8juX6xNryqh"
      },
      "source": [
        "Определим в какие участки генома попадают Z-ДНК и квадруплексы\n",
        "Для этого зайдем на страницу вируса в ncbi и рассмотрим features. Скопируем их в текстовый файл, названный \"gene.txt\". Пройдемся по полученному файлу функцией grep, чтобы выделить только координаты генов (находятся в файле после gene)"
      ]
    },
    {
      "cell_type": "code",
      "metadata": {
        "id": "dKdCAWWkJJwk",
        "colab": {
          "base_uri": "https://localhost:8080/"
        },
        "outputId": "449a2bca-c7a3-4d96-832a-ccf9dc9a8f7d"
      },
      "source": [
        "!cat gene.txt | grep \"gene\\s\" > LocGene.txt\n",
        "!cat LocGene.txt"
      ],
      "execution_count": 14,
      "outputs": [
        {
          "output_type": "stream",
          "text": [
            "     gene            340..9381\r\n"
          ],
          "name": "stdout"
        }
      ]
    },
    {
      "cell_type": "code",
      "metadata": {
        "colab": {
          "base_uri": "https://localhost:8080/"
        },
        "id": "Qem2nK17e-9h",
        "outputId": "2f0d33c0-4bef-4712-a58f-6c37047c06e1"
      },
      "source": [
        "!cat gene.txt | grep \"mat_peptide\\s\" > LocPept.txt\n",
        "!cat LocPept.txt"
      ],
      "execution_count": 13,
      "outputs": [
        {
          "output_type": "stream",
          "text": [
            "     mat_peptide     340..912\r\n",
            "     mat_peptide     913..1488\r\n",
            "     mat_peptide     1489..2589\r\n",
            "     mat_peptide     2590..2778\r\n",
            "     mat_peptide     2779..3429\r\n",
            "     mat_peptide     3430..5322\r\n",
            "     mat_peptide     5323..5484\r\n",
            "     mat_peptide     5485..6267\r\n",
            "     mat_peptide     6268..7605\r\n",
            "     mat_peptide     7606..9378\r\n"
          ],
          "name": "stdout"
        }
      ]
    },
    {
      "cell_type": "markdown",
      "metadata": {
        "id": "v8jPs7fkYaTI"
      },
      "source": [
        "Осталось заметить, что как Z-DNA, так и квадруплексы попадают как в гены, так и в межгенное пространство"
      ]
    }
  ]
}