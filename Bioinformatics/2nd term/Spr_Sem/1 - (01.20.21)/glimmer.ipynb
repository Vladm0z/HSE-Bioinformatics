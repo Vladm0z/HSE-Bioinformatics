{
  "nbformat": 4,
  "nbformat_minor": 0,
  "metadata": {
    "colab": {
      "name": "glimmer.ipynb",
      "provenance": []
    },
    "kernelspec": {
      "name": "python3",
      "display_name": "Python 3"
    }
  },
  "cells": [
    {
      "cell_type": "markdown",
      "metadata": {
        "id": "XinLs2fca-8Q"
      },
      "source": [
        "# **Аннотация генами геномов de novo**\r\n",
        "# GLIMMER\r\n",
        "Загрузите"
      ]
    },
    {
      "cell_type": "code",
      "metadata": {
        "id": "enOnAggjUhZ_"
      },
      "source": [
        "! wget http://ccb.jhu.edu/software/glimmer/glimmer302b.tar.gz"
      ],
      "execution_count": null,
      "outputs": []
    },
    {
      "cell_type": "markdown",
      "metadata": {
        "id": "AHXIU01VbQk-"
      },
      "source": [
        "Выполните последовательно следующие команды (объясните их смысл)\r\n"
      ]
    },
    {
      "cell_type": "code",
      "metadata": {
        "id": "AQ4ODKpIUyjs"
      },
      "source": [
        "%%bash\r\n",
        "tar xzf glimmer302b.tar.gz\r\n",
        "cd glimmer3.02/\r\n",
        "cd src/\r\n",
        "make"
      ],
      "execution_count": null,
      "outputs": []
    },
    {
      "cell_type": "code",
      "metadata": {
        "id": "fBVJgYvTufv6"
      },
      "source": [
        "from google.colab import drive\n",
        "drive.mount('/content/drive')"
      ],
      "execution_count": null,
      "outputs": []
    },
    {
      "cell_type": "markdown",
      "metadata": {
        "id": "ncArzKn3bVci"
      },
      "source": [
        "Необходимые нам тестовые варианты находятся в папке ./glimmer3.02/sample-run\r\n",
        "\r\n",
        "Это каталог, содержащий образец прогона Glimmer3. В нем содержится\r\n",
        "последовательность генома Treponema pallidum (файл tpall.fna) и\r\n",
        "список аннотированных генов для него (файл tpall.nh), оба загружены из GenBank.\r\n",
        "\r\n",
        "Этапы: Сперва нам необходимо натренировать модель. Для этого в папке\r\n",
        "./glimmer3.02/sample-run уже есть пример с fasta (from-training.train)"
      ]
    },
    {
      "cell_type": "markdown",
      "metadata": {
        "id": "rUWRJ_uYbkit"
      },
      "source": [
        "**###---Запустим генерацию модели---###**"
      ]
    },
    {
      "cell_type": "code",
      "metadata": {
        "id": "RlhZRC1qVlf_"
      },
      "source": [
        "!mkdir -p /content/glimmer3.02/sample-run_new"
      ],
      "execution_count": null,
      "outputs": []
    },
    {
      "cell_type": "code",
      "metadata": {
        "id": "_WJF0dmIXT_X"
      },
      "source": [
        "! chmod 755 /content/glimmer3.02/sample-run/tpall.fna"
      ],
      "execution_count": null,
      "outputs": []
    },
    {
      "cell_type": "markdown",
      "metadata": {
        "id": "y79d9qA5bq_6"
      },
      "source": [
        "Используем утилиту long-orfs\r\n",
        "\r\n",
        "bin/long-orfs --help\r\n",
        "\r\n",
        "USAGE: long-orfs [options] \\<sequence-file> \\<output-file>"
      ]
    },
    {
      "cell_type": "code",
      "metadata": {
        "colab": {
          "base_uri": "https://localhost:8080/"
        },
        "id": "v2r4DW-kWn-T",
        "outputId": "eb573634-a356-4a1f-f619-27e6d3a60d8e"
      },
      "source": [
        "! /content/glimmer3.02/bin/long-orfs -n -t 1.15 /content/glimmer3.02/sample-run/tpall.fna /content/glimmer3.02/sample-run_new/orf.positions"
      ],
      "execution_count": null,
      "outputs": [
        {
          "output_type": "stream",
          "text": [
            "Starting at Tue Jan 19 20:42:12 2021\n",
            "\n",
            "Sequence file = /content/glimmer3.02/sample-run/tpall.fna\n",
            "Excluded regions file = none\n",
            "Circular genome = true\n",
            "Initial minimum gene length = 90 bp\n",
            "Determine optimal min gene length to maximize number of genes\n",
            "Maximum overlap bases = 30\n",
            "Start codons = atg,gtg,ttg\n",
            "Stop codons = taa,tag,tga\n",
            "Sequence length = 1138011\n",
            "Final minimum gene length = 631\n",
            "Number of genes = 514\n",
            "Total bases = 674580\n"
          ],
          "name": "stdout"
        }
      ]
    },
    {
      "cell_type": "markdown",
      "metadata": {
        "id": "sh_FRtn7b8vN"
      },
      "source": [
        "Найденные на предыдущем этапе ORF для тренировки - это результат работы готовой\r\n",
        "модели. Мы воспользовались уже существующей моделью, только для того, чтобы\r\n",
        "сгенерировать для себя обучающую выборку.\r\n",
        "### Трансформируем отобранные позиции orf в fasta\r\n",
        "Используем утилиту extract"
      ]
    },
    {
      "cell_type": "code",
      "metadata": {
        "id": "vnDtx87gW_UP"
      },
      "source": [
        "! /content/glimmer3.02/bin/extract -t /content/glimmer3.02/sample-run/tpall.fna /content/glimmer3.02/sample-run_new/orf.positions > /content/glimmer3.02/sample-run_new/orf.fasta"
      ],
      "execution_count": null,
      "outputs": []
    },
    {
      "cell_type": "code",
      "metadata": {
        "colab": {
          "base_uri": "https://localhost:8080/"
        },
        "id": "c7NPTfHmX2jJ",
        "outputId": "2f8b8cfa-5117-4cc8-c66b-ffa27fb4acc7"
      },
      "source": [
        "!head /content/glimmer3.02/sample-run_new/orf.fasta"
      ],
      "execution_count": null,
      "outputs": [
        {
          "output_type": "stream",
          "text": [
            ">00001  4 1398  len=1392\n",
            "ATGGACGCAGTAGGGTATGAAGTATTCTGGAACGAGACACTCAGCCAGATACGGAGTGAA\n",
            "TCGACCGAAGCAGAATTTAACATGTGGTTTGCTCATTTGTTCTTTATCGCATCTTTTGAA\n",
            "AACGCTATCGAAATAGCAGTACCTTCAGACTTTTTCCGAATACAGTTTAGCCAAAAATAT\n",
            "CAAGAAAAGCTTGAGCGCAAGTTCCTCGAACTTTCTGGACACCCCATTAAACTTTTGTTT\n",
            "GCCGTTAAAAAAGGCACCCCTCATGGAAATACTGCTCCCCCCAAACACGTGCATACCTAC\n",
            "CTGGAGAAAAACTCTCCTGCAGAGGTTCCTTCCAAAAAGAGCTTTCACCCCGACCTGAAC\n",
            "AGAGACTATACCTTCGAGAACTTTGTATCCGGAGAAGAAACCAAATTCAGCCATAGCGCT\n",
            "GCTATCTCCGTATCAAAAAACCCAGGCACTTCCTACAATCCGTTACTTATCTACGGTGGA\n",
            "GTGGGACTAGGAAAAACCCACCTTATGCAGGCTATTGGACACGAGATCTACAAGACAACA\n"
          ],
          "name": "stdout"
        }
      ]
    },
    {
      "cell_type": "markdown",
      "metadata": {
        "id": "BkIMGGIRcJ9w"
      },
      "source": [
        "###---Теперь обучим марковскую модель---###\r\n",
        "USAGE: build-icm [options] output_file < input-file"
      ]
    },
    {
      "cell_type": "code",
      "metadata": {
        "id": "1sDIc_odYuFT"
      },
      "source": [
        "! /content/glimmer3.02/bin/build-icm -r /content/glimmer3.02/sample-run_new/run1.icm < /content/glimmer3.02/sample-run_new/orf.fasta"
      ],
      "execution_count": null,
      "outputs": []
    },
    {
      "cell_type": "markdown",
      "metadata": {
        "id": "lnvShIwqcVVO"
      },
      "source": [
        "###---Используем обученную модель, чтобы предсказать гены в геноме---###\r\n",
        "USAGE: glimmer3 [options] \\<sequence-file> \\<icm-file> \\<tag>"
      ]
    },
    {
      "cell_type": "code",
      "metadata": {
        "id": "Se4gEUgoZCNJ"
      },
      "source": [
        "! /content/glimmer3.02/bin/glimmer3 -o50 -g110 -t30 /content/glimmer3.02/sample-run/tpall.fna /content/glimmer3.02/sample-run_new/run1.icm /content/glimmer3.02/sample-run_new/run1"
      ],
      "execution_count": null,
      "outputs": []
    },
    {
      "cell_type": "code",
      "metadata": {
        "colab": {
          "base_uri": "https://localhost:8080/"
        },
        "id": "NYgq-0ayZbp5",
        "outputId": "801ddc1a-376a-4883-d355-c6ba95e46a8c"
      },
      "source": [
        "! head /content/glimmer3.02/sample-run_new/run1.detail"
      ],
      "execution_count": null,
      "outputs": [
        {
          "output_type": "stream",
          "text": [
            "Command:  /content/glimmer3.02/bin/glimmer3 -o 50 -g 110 -t 30 /content/glimmer3.02/sample-run/tpall.fna /content/glimmer3.02/sample-run_new/run1.icm /content/glimmer3.02/sample-run_new/run1\n",
            "\n",
            "Sequence file = /content/glimmer3.02/sample-run/tpall.fna\n",
            "Number of sequences = 1\n",
            "ICM model file = /content/glimmer3.02/sample-run_new/run1.icm\n",
            "Excluded regions file = none\n",
            "List of orfs file = none\n",
            "Input is NOT separate orfs\n",
            "Independent (non-coding) scores are used\n",
            "Circular genome = true\n"
          ],
          "name": "stdout"
        }
      ]
    },
    {
      "cell_type": "code",
      "metadata": {
        "colab": {
          "base_uri": "https://localhost:8080/"
        },
        "id": "kGSpJ_2daheU",
        "outputId": "9e6fabea-cdcf-4887-81c0-63eab9cd72c4"
      },
      "source": [
        "! head /content/glimmer3.02/sample-run_new/run1.predict"
      ],
      "execution_count": null,
      "outputs": [
        {
          "output_type": "stream",
          "text": [
            ">gi|15638995|ref|NC_000919.1| Treponema pallidum subsp. pallidum str. Nichols, complete genome\n",
            "orf00001        4     1398  +1     6.22\n",
            "orf00003     1641     2756  +3     2.89\n",
            "orf00004     2776     3834  +1     5.47\n",
            "orf00005     3863     4264  +2     2.77\n",
            "orf00006     4391     6832  +2     7.08\n",
            "orf00007     6832     7074  +1     0.25\n",
            "orf00008     7317     7967  +3     6.92\n",
            "orf00009     7997     8260  +2     2.91\n",
            "orf00010     9515     8340  -3     2.80\n"
          ],
          "name": "stdout"
        }
      ]
    },
    {
      "cell_type": "markdown",
      "metadata": {
        "id": "wcfVCGjbciPI"
      },
      "source": [
        "Ваши результаты находятся в двух файлах\r\n",
        "\r\n",
        "run1.predict\r\n",
        "\r\n",
        "run1.detail\r\n",
        "\r\n",
        "Изучите координаты полученных ORF. Используйте\r\n",
        "/home/dmitry/soft/glimmer3.02/bin/extract, чтобы найти их fasta последовательность\r\n",
        "\r\n",
        "Как бы вы нашли соответствуют ли данные последовательности генам?\r\n",
        "\r\n",
        "Подсказка: Используйте BLAST, BLAT. Посмотрите на координаты этих последовательностей в геномном браузере.\r\n",
        "\r\n",
        "EXTRA:\r\n",
        "\r\n",
        "GeneMark\r\n",
        "\r\n",
        "http://opal.biology.gatech.edu/GeneMark/\r\n",
        "\r\n",
        "Prodigal\r\n",
        "\r\n",
        "https://github.com/hyattpd/Prodigal"
      ]
    }
  ]
}